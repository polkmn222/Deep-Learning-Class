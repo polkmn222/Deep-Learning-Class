{
  "nbformat": 4,
  "nbformat_minor": 0,
  "metadata": {
    "colab": {
      "name": "01)Getting_Started_Python_Library.ipynb",
      "provenance": []
    },
    "kernelspec": {
      "name": "python3",
      "display_name": "Python 3"
    },
    "language_info": {
      "name": "python"
    }
  },
  "cells": [
    {
      "cell_type": "markdown",
      "source": [
        "본 강의는 파이썬으로 데이터를 다루는 다양하고 기본적인 방법을 소개한다. '데이터 분석'이 강의의 제목이긴 하지만 데이터 분석 방법론 보다는 파이썬 프로그래밍, 라이브러리 그리고 사용하는 도구에 집중한다. 데이터 분석을 위해 우리에게 필요한 선결조건은 파이썬 프로그래밍이기 때문이다."
      ],
      "metadata": {
        "id": "nHN9DVp83jU-"
      }
    },
    {
      "cell_type": "markdown",
      "source": [
        "보통 데이터 분석에서는 '구조화된 데이터(Structured Data)'를 활용한다고 한다\n",
        "\n",
        "> 여기에서 '구조화된 데이터'란?\n",
        "\n",
        "    * 각 컬럼의 형식이 문자열, 숫자, 날짜 등으로 서로 다른 표 혹은 스프레드시트와 비슷한 데이터. 이는 관계형 데이터베이스(RDBMS) 혹은 탭(tsv)나 쉼표(csv)로 구분되는 텍스트 파일 형식으로 저장되는 대부분의 데이터를 포함한다.\n",
        "\n",
        "    * 다차원 배열(행렬:: ndarray)\n",
        "\n",
        "    * SQL에서 기본키(Primary Key)나 외래키(Foreign Key)컬럼에 의해 서로 연관되는 여러가지 표(Table or df)\n",
        "\n",
        "    * 일정하거나 알정하지 않은 간격의 시계열(TimeSeries) "
      ],
      "metadata": {
        "id": "MiiDjJxF85J1"
      }
    },
    {
      "cell_type": "markdown",
      "source": [
        "## * 데이터 분석에 왜 파이썬을 활용하는가?"
      ],
      "metadata": {
        "id": "5QN13XYt4e-p"
      }
    },
    {
      "cell_type": "markdown",
      "source": [
        "파이썬은 매력적인 언어다. 1991년 처음 발표된 이래 펄, 루비 같은 인기있는 언어가 되었다. 특히 최근 몇 년 사이 레일즈(루비), 장고(파이썬) 같은 다양한 웹 프레임워크로 웹사이트를 만들면서 파이썬과 루비는 큰 인기를 얻었다. \n",
        "\n",
        "이러한 언어들을 우리는 Script언어라 하는데, 작은 프로그램이나 업무 자동화 스크립트를 빠르고 간단하게 만들수 있다는 장점이 있다. \n",
        "\n",
        "InterPreter 언어에서도 Python은 다양한 역사적, 문화적 이유로 인해 방대하고 활동적인 과학 계산 컴퓨팅 커뮤니티에서 사용되고 있다. 지난 10년간 Python은 '대안 언어'위치에서 Data Science, Machine-Learning 그리고 범용 Soft-Ware Develop까지 학계와 업계 모두에게 가장 중요한 프로그래밍 언어 중 하나로 성장했다.\n",
        "\n",
        "Python은 데이터 분석과 InterPreter Computing, 데이터 시각화에서 자주 활용되는 R, MATLAB, SAS, STATA와 같은 오픈소스나 상용 언어, 도구와 비교해도 되지지 않는다. 최근에는 Numpy, Pandas, Scikit-Learn 등의 파이썬 라이브러리 지원이 개선되어 데이터 처리 업무에 두각을 나타내고 있다."
      ],
      "metadata": {
        "id": "dfyk2vZ4_w1Z"
      }
    },
    {
      "cell_type": "markdown",
      "source": [
        "## * Python의 호환성"
      ],
      "metadata": {
        "id": "ZeW3KPvuL-Nx"
      }
    },
    {
      "cell_type": "markdown",
      "source": [
        "Python이 과학기술 컴퓨팅계에서 성공을 하게 된 이유로 C, C++, FORTRAN 코드와 통합이 쉽다는 점을 들 수 있다.대부분의 최신 컴퓨팅 환경에서는 선형대수, 최적화, 통합, 고속 푸리에 변환 같은 알고리즘을 위해 C라이브러리나 FORTRAN 레거시를 공유한다. 이러한 연유로 많은 회사나 국가 연구소에서 수십 년이 지난 소프트웨어를 파이썬과 함께 사용하고 있다."
      ],
      "metadata": {
        "id": "Ro-5tWzIMCyS"
      }
    },
    {
      "cell_type": "markdown",
      "source": [
        "프로그램은 실행 시간의 대부부을 차지하는 작은 부분의 코드와 실행시간을 얼마 차지하지 않는 많은 양의 글루 코드(Glue Code)로 구성되어 있다. 대부분의 경우 글루 코드는 실행시간에 영향을 주지 않을만큼 비중이 낮다. 연산 병목을 최적화하기 위해 해당 부분을 C언어 같은 저수준 언어로 옮겨 쓴다면 유익한 결과를 얻을 수 있다."
      ],
      "metadata": {
        "id": "Odiq4gKqSn6q"
      }
    },
    {
      "cell_type": "markdown",
      "source": [
        "## * 한 가지 언어만 잘하자. (by Wes Mckinney)"
      ],
      "metadata": {
        "id": "uosPBqodVBvD"
      }
    },
    {
      "cell_type": "markdown",
      "source": [
        "보통 많은 기관에서 R이나 SAS같은 좀 더 특화된 언어로 새로운 아이디어를 검증하고 Prototype을 만들어 연구한 후 그 아이디어를 Java, C#, C++같은 언어를 이용하여 상용 시스템으로 포팅한다. Python은 연구를 하거나 Prototype 생성시 적합언어인데다 실제 시스템을 개발하는데도 적합하기에 갈수록 더 인기를 끌고 있다. \n",
        "\n",
        "하나의 언어로 충분한데 별도의 다른 개발환경을 유지할 필요는 없지 않은가? 연구자와 기술자가 같은 프로그래밍 도구를 사용함으로서 얻을 수 있는 장점이 많으므로 더 많은 기관에서 Python을 활용하리라 믿는다."
      ],
      "metadata": {
        "id": "Xrrk5K_xVUPy"
      }
    },
    {
      "cell_type": "markdown",
      "source": [
        "## * Python을 사용하면 안되는 경우\n"
      ],
      "metadata": {
        "id": "u8CdHRpqV7zS"
      }
    },
    {
      "cell_type": "markdown",
      "source": [
        "Python이 분석 애플리케이션이나 범용 시스템을 개발하는데 훌륭한 환경이긴 하지만 특수한 경우에는 파이썬이 아닌 다른 언어가 해답인 경우도 있다.\n",
        "\n",
        "Python은 InterPreter Language이므로 Java나 C++같은 Compile 언어보다 많이 느리다. 하지만 ***개발자의 시간비용*** vs ***CPU의 시간 비용*** 을 고려하면 **개발자의 시간 비용이** 더욱 비싸므로 대개는 이러한 등가 교환을 수긍한다."
      ],
      "metadata": {
        "id": "MCOKsXCkWBSq"
      }
    },
    {
      "cell_type": "markdown",
      "source": [
        "그러나, 실시간 거래 시스템처럼 매우 짧은 응답 시간을 필요로 하는 애플리케이션에서는 가능한 한 최고의 성능을 내고자 생산성은 떨어지지만 Java나 C++같은 저수준 언어로 개발을 한다."
      ],
      "metadata": {
        "id": "W9Ew0EY4W0QL"
      }
    },
    {
      "cell_type": "markdown",
      "source": [
        "Python의 또 다른 약점은 동시다발적인 Multi Thread를 처리하거나 CPU에 집중된 많은 Thread를 처리하는 애플리케이션에 적합한 언어가 아니다. 바로 GIL(Global Interpreter Lock)때문이다. \n",
        "\n",
        "위의 GIL은 인터프리터가 한 번에 하나의 Python 명령만 실행하도록 한다. 왜 GIL이 존재해야 하는지의 실존의 여부는 본 교수의 강의의 범위를 벗어난다. 대체로 Big-Data Process Application에서는 단일 Cluster가 적절한 시간 안에 Data를 처리해야 하므로 단일 프로세스, 멀티스레드 시스템을 선호하는 경우도 있다."
      ],
      "metadata": {
        "id": "EIYipwKnZVkq"
      }
    },
    {
      "cell_type": "markdown",
      "source": [
        "물론 엄밀히 따져서 Python이 Mult-Thread나 병렬 코드를 실행하지 못한다는 뜻은 아니다. 네이티브 수준(C나 C++)에서 Multi-Thread를 활용하는 Python C확장을 통해 GIL에 구애받지 않고 병렬 코드를 실행할 수 있다."
      ],
      "metadata": {
        "id": "AlUgv9vkaEfi"
      }
    },
    {
      "cell_type": "markdown",
      "source": [
        "## * 필수파이썬 라이브러리"
      ],
      "metadata": {
        "id": "WMIeqRW1abO6"
      }
    },
    {
      "cell_type": "markdown",
      "source": [
        "#### 1) Numpy \n",
        "\n",
        "Numpy(넘파이)는 Numerical Python의 줄임말로, Python 산술 계산의 토대가 되는 라이브러리이다. Numpy의 제공기능은 아래와 같다."
      ],
      "metadata": {
        "id": "sSaaeNmUbSOS"
      }
    },
    {
      "cell_type": "markdown",
      "source": [
        "    * 빠르고 효율적인 다차원 배열 객체(이하 ndarray)\n",
        "\n",
        "    * 배열 원소(array elements)를 다루거나 array간의 수학 계산을 수행하는 함수\n",
        "\n",
        "    * 디스크로부터 array기반의 데이터를 읽거나 쓸 수 있는 도구\n",
        "\n",
        "    * 선형대수 계산, 푸리에 변환(Fourier transform), 난수 생성기\n",
        "\n",
        "    * Python 확장 및 C, C++ 코드에서 NumPy의 자료구조에 접근하고 계산 기능을 사용할 수 있도록 해주는 C API"
      ],
      "metadata": {
        "id": "A6siqLBVbgis"
      }
    },
    {
      "cell_type": "markdown",
      "source": [
        "고속 배열 처리 외에도 NumPy는 데이터 분석 알고리즘에 사용할 데이터 컨테이너의 역할을 한다. 수치 데이터라면 NumPy 배열은 Python 내장 자료구조보다 훨씬 효율적인 방법으로 데이터를 저장하고 다룰 수 있다.\n",
        "\n",
        "또한 C나 FORTRAN 같은 저수준 언어로 작성한 라이브러리는 NumPy배열에 저장된 데이터를 복사하지 않고 바로 사용할 수도 있다. 따라서 파이썬을 위한 많은 산술 계산 도구는 NumPy배열을 기본 자료구조로 가정하고 있거나 NumPy와 쉽게 연동할 수 있는 기능을 제공한다."
      ],
      "metadata": {
        "id": "C8sIb3qkhmIe"
      }
    },
    {
      "cell_type": "markdown",
      "source": [
        "#### 2) Pandas \n",
        "\n",
        "Pandas는 구조화된 데이터나 표 형식의 데이터를 빠르고 쉽게 표현적으로 다룰 수 있다. 2010년 처음 개발되어(Wes McKinney에 의해)Python으로 생산적이고 강력한 데이터 분석 환경을 구성하는데 도움을 주고 있다. "
      ],
      "metadata": {
        "id": "eXITXU6Hinir"
      }
    },
    {
      "cell_type": "markdown",
      "source": [
        "Wes Mckanney가 2008년 AQR 캐피탈 매니지먼트에서 Quant Analysis 수행시 Pandas 개발을 시작하였는데 아래의 특징을 담고자 했다고 한다."
      ],
      "metadata": {
        "id": "MvviAaAgkJy9"
      }
    },
    {
      "cell_type": "markdown",
      "source": [
        "    * 자동적으로 혹은 명시적으로 축의 이름에 따라 데이터를 정렬할 수 있는 자료구조, 이러한 자료구조를 통해 잘못 정렬된 데이터에 의한 일반적인 오류를 예방하고 다양한 소스에서 가져온 다양한 방식으로 색인되어 있는 데이터를 다룰 수 있다.\n",
        "\n",
        "    * 통합된 시계열 기능(Integrated TimeSeries)\n",
        "\n",
        "    * 시계열 데이터와 비시계열 데이터를 함께 다룰 수 있는 통합 자료구조\n",
        "\n",
        "    * 메타데이터를 보존하는 산술 연산과 축약 연산 \n",
        "\n",
        "    * 누락된 데이터를 유연하게 처리할 수 있는 기능\n",
        "\n",
        "    * 일반 데이터베이스(예를 들면 SQL)처럼 데이터를 합치고 관계 연산을 수행하는 기능\n",
        "\n",
        "                                                                          "
      ],
      "metadata": {
        "id": "z8FELIQPkUmz"
      }
    },
    {
      "cell_type": "markdown",
      "source": [
        "결과적으로 pandas의 많은 기능은 R 핵심 구현의 일부 또는 애드온 패키지에서 따왔다.\n",
        "\n",
        "Pandas의 유래는 패널 데이터(Panel Data)와 파이썬 데이터 분석(Python Data Analysis)에서 따온 이름이다."
      ],
      "metadata": {
        "id": "y_L8CRhtFb3H"
      }
    },
    {
      "cell_type": "markdown",
      "source": [
        "#### 3) matplotlib \n",
        "\n",
        "matplotlib(맷플롯립)은 그래프나 2차원 데이터 시각화를 생성하는 유명한 Python Library다. 존 D. 헌터가 만들었고 지금도 많은 개발팀이 유지 중이다. 출판물에 필요한 그래프를 만드는데 맞춰 설계되었다. 현재 파이썬에서 사용할 수 있는 다양한 시각화 라이브러리가 존재하지만 matplotlib은 생태계 내 다른 라이브러리들과 잘 연동되어 있기에 여전히 가장 많이 사용되고 있다. "
      ],
      "metadata": {
        "id": "2oJuZA1vJmu2"
      }
    },
    {
      "cell_type": "markdown",
      "source": [
        "#### 4) IPython과 Jupyter  \n",
        "\n",
        "IPython(아이파이썬, Interactive Python)은더 나은 대화형 Python InterPreter를 만들 목적으로 2001년 페르난도 페레즈가 취미 프로젝트로 시작했다. 그 후 16년 동안 최신 파이썬 데이터 기술 스택에서 빠질 수 없는 가장 중요한 프로젝트로 성장했다.\n",
        "\n",
        "2014년 페르난도와 IPython 팀은 언어에 상관없이 대화형 컴퓨팅 도구를 설계할 수 있는 주피터(Jupyter) 프로젝트를 발표했다. IPython 웹 노트북은 주피터 노트북으로 이름을 바꾸었고 현재 40개가 넘는 프로개르밍 언어를 지원한다. IPython 시스템은 이제 주피터에서 Python을 사용할 수 있게 해주는 커널(Kernel 프로그래밍 언어모드)로 역할을 변경했다."
      ],
      "metadata": {
        "id": "18xsu-5uOJ5p"
      }
    },
    {
      "cell_type": "markdown",
      "source": [
        "IPython 자체는 이제 좀 더 큰 범위에 생산적인 대화형/탐색형 컴퓨팅 환경을 지원하는 주피터 오픈소스 프로젝트의 컴포넌트 중 하나가 되었다. 최초의 IPython은 파이썬 셸 기능을 확장하여 더 편리하게 파이썬 코드를 작성하고 테스트하고 디버깅할 수 있도록 설계되었다. 주피터 노트북에서도 IPython 시스템을 여전히 사용할 수 있는데 '노트북'이라고 하는 웹 기반의 대화형 코드 작성 환경은 다양한 프로그래밍 언어를 지원한다. IPython 셸과 주피터 노트북은 데이터를 탐색하고 시각화하는데(EDA) 특히 유용하다."
      ],
      "metadata": {
        "id": "tNtlyhjiOV72"
      }
    },
    {
      "cell_type": "markdown",
      "source": [
        "주피터 노트북 시스템은 노트북 내용을 마크다운이나 HTML로 저장할 수 있게 한다. 이를 통해 코드와 텍스트를 포함하는 문서를 생성할 수 있다. 다른 프로그래밍 언어도 주피터 환경을 위한 커널이 구현되어 있다면 파이썬 대신 주피터 환경에서 사용할 수 있다."
      ],
      "metadata": {
        "id": "7y91fLWuQCP1"
      }
    },
    {
      "cell_type": "markdown",
      "source": [
        "#### 5) SciPy  \n",
        "\n",
        "SciPy(사이파이)는 과학 계산 컴퓨팅 영역의 여러 기본 문제를 다루는 패키지 모음이다. 다음은 SciPy에 포함된 패키지 중 일부다."
      ],
      "metadata": {
        "id": "jshRB9-IQRGd"
      }
    },
    {
      "cell_type": "markdown",
      "source": [
        "* scipy.integrate : 수치적분 루틴과 미분방정식 풀이법\n",
        "\n",
        "* scipy.linalg :  numpy.linalg에서 제공하는 것보다 더 확장된 선형대수 루틴과 매트릭스 분해\n",
        "\n",
        "* scipy.optimize : 함수 최적화기와 방정식의 근을 구하는 알고리즘\n",
        "\n",
        "* scipy.signal : 시그널 프로세싱 도구\n",
        "\n",
        "* scipy.sparse : 희소 행렬과 희소 선형 시스템 풀이법\n",
        "\n",
        "* scipy.special : 감마 함수처럼 흔히 사용되는 수학 함수를 구현한 FORTRAN 라이브러리인 SPECFUN Wrapper\n",
        "\n",
        "* scipy.stats : 표준 연속/이산 확률분포(밀도함수-Density, 샘플러-표본추출방식을 의미, 연속분포함수)와 다양한 통계 테스트 그리고 좀 더 기술적인 통계도구"
      ],
      "metadata": {
        "id": "Ny2t0j4KQeEp"
      }
    },
    {
      "cell_type": "markdown",
      "source": [
        "#### 6) scikit-learn  \n",
        "\n",
        "scikit-learn(사이킷 런)은 처음 개발되기 시작한 2010년부터 Python 개발자를 위한 범용 머신러닝 도구로 자리잡고 시작했다. 단 7년 만에 전 세계에서 1,500명이 넘는 사람이 프로젝트에 기여하고 있다. 아래의 모델의 하위모듈을 포함한다.\n",
        "\n",
        "    * 분류 : SVM, 최근접 이웃, 랜덤포레스트, 로지스틱 회귀 등\n",
        "\n",
        "    * 회귀 : 릿지(Ridge), 라쏘 회귀(Lasso) 등\n",
        "\n",
        "    * 클러스터링 : k-means, spectral clustering 등\n",
        "\n",
        "    * 차원 축소 : PCA, Feature Extraction, Decomposition Matrix 등 \n",
        "\n",
        "    * 모델 선택 : GridSearchCV, Cross Validation\n",
        "\n",
        "    * 전처리 : Feature Extract, Regularization"
      ],
      "metadata": {
        "id": "jZXeqnCMQ5zF"
      }
    },
    {
      "cell_type": "markdown",
      "source": [
        "#### 7) statsmodels\n",
        "\n",
        "statsmodels는 다양한 R 언어용 회귀분석 모델을 구현한 스탠포드 대학의 통계학 교수인 조나단 테일러(Jonathan Taylor)의 작업을 기반으로 만들어진 통계분석 패키지다. 스키퍼 시볼드(Skipper Seabold)와 죠세프 퍼크톨드(Josef Perktold)가 2010년에 새로운 statsmodels 프로젝트를 시작한 이후 수많은 사용자와 오픈소스 기여자에게 빼놓을 수 없는 프로젝트로 성장했다. 나다니엘 스미스(Nathaniel Smith)는 R언어의 포뮬러 시스템에서 착안하여 statsmodels용 포뮬러 또는 모델 명세 프레임워크를 제공하는 Patsy(팻시)프로젝트를 개발했다."
      ],
      "metadata": {
        "id": "d6gtj7W0i_-C"
      }
    },
    {
      "cell_type": "markdown",
      "source": [
        "scikit-learn과 비교하여 statsmodels는 전통적인 통계(주로 빈도주의적 접근)와 계량경제학 알고리즘을 포함하고 있다. 아래의 하위모듈을 포함한다.\n",
        "\n",
        "* 회귀모델 : 선형회귀, 일반화 선형 모델, 로버스트 선형 모델, 선형 혼합효과 모델 등\n",
        "\n",
        "* 분산분석(ANOVA :: analysiso of variance)\n",
        "\n",
        "* 시계열분석 : AR, ARMA, ARIMA, MA, VAR 및 기타 모델 \n",
        "\n",
        "* 비모수 기법 : 커널밀도추정, 커널회귀 \n",
        "\n",
        "* 통계 모델 결과의 시각화"
      ],
      "metadata": {
        "id": "C4gJmX1sjDjH"
      }
    },
    {
      "cell_type": "markdown",
      "source": [
        "statsmodels는 통계추론에 좀 더 초점을 맞추고 있다. 인자를 위한 불확실성 예측치와 p값을 제공한다. 반면 scikit-learn은 좀 더 예측에 초점을 맞추고 있다.  "
      ],
      "metadata": {
        "id": "foJER5H8lB6h"
      }
    },
    {
      "cell_type": "markdown",
      "source": [
        "#### 8) 통합 개발 환경과 텍스트 편집기\n",
        "\n",
        "통합개발환경을 소개해보도록 하겠다.\n",
        "\n",
        "    * 파이데브(PyDev) : 이클립스(Eclipse) 플랫폼 기반의 IDE, 무료\n",
        "\n",
        "    * 젯브레인스의 파이참(PyCharm): 상용 버전은 구독 모델이고 오픈소스 개발자들은 무료 \n",
        "\n",
        "    * PTVS : 비주얼 스튜디오의 Python 도구, 윈도우 사용자용\n",
        "\n",
        "    * Spyder : Anaconda와 함께 배포되는 IDE, 무료\n",
        "\n",
        "    * Komodo : 유료"
      ],
      "metadata": {
        "id": "wGwNmFajm-5R"
      }
    },
    {
      "cell_type": "markdown",
      "source": [
        "#### 9) 커뮤니티 \n",
        "\n",
        "    * pydata : pandas와 데이터 분석 관련 질문을 위한 구글 그룹\n",
        "\n",
        "    * pystatsmodels : 통계 모델이나 pandas 관련 질문을 올리는 곳\n",
        "\n",
        "    * scikit-learn과 일반적인 Python Machine-Learning Mailing List\n",
        "\n",
        "    * numpy-discussion : NumPy관련 질문을 올리는 곳\n",
        "\n",
        "    * scipy-user : 일반적인 SciPy나 과학 계산 파이썬 관련 질문이 올라오는 곳\n",
        "\n",
        "#### 10) 컨퍼런스 \n",
        "\n",
        "    * 파이콘(PyCon)과 유로파이썬(EuroPython): 각각 북미 지역과 유럽에서 열리는 주요 Python Conference\n",
        "\n",
        "    * 사이파이(Scipy)와 유로사이파이(EuroSciPy): 과학 계산 Python Conference\n",
        "\n",
        "    * 파이데이터(PyData): Data Science와 데이터 분석 사례에 초점을 맞춘 Conference. \n",
        "\n",
        "    * 각 국가의 파이콘(PyCon) : https://pycon.org/"
      ],
      "metadata": {
        "id": "PAFTi0XAp6Dx"
      }
    },
    {
      "cell_type": "code",
      "source": [
        "## 참고사항\n",
        "# 의사코드(pseudocode) : 실제 유효한 소스 코드는 아니지만 알고리즘이나 과정을 코드처럼 표현한 것\n",
        "\n",
        "# 신태틱 슈거(syntactiuc sugar) : 문법적 기능은 그대로이나 기존에 비해 좀 더 편리하거나 타이핑이 간단해지는 프로그래밍 문법"
      ],
      "metadata": {
        "id": "KYl8BEd2p9kK"
      },
      "execution_count": 8,
      "outputs": []
    },
    {
      "cell_type": "code",
      "source": [
        "# end of file"
      ],
      "metadata": {
        "id": "0RCQRmwqsvSz"
      },
      "execution_count": 9,
      "outputs": []
    }
  ]
}