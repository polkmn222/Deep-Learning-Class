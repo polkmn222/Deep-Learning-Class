{
 "nbformat": 4,
 "nbformat_minor": 0,
 "metadata": {
  "colab": {
   "name": "06)라이브러리를 활용한 스크레이핑.ipynb",
   "private_outputs": true,
   "provenance": [],
   "collapsed_sections": []
  },
  "kernelspec": {
   "name": "python3",
   "display_name": "Python 3"
  },
  "language_info": {
   "name": "python"
  }
 },
 "cells": [
  {
   "cell_type": "markdown",
   "source": [
    "서드파티 라이브러리를 활용하면 지금까지 설명한 방법보다 간단히 크롤링/스크레이핑이 가능하다.\n",
    "\n",
    "\n",
    "    서드파티 라이브러리 :: 표준 라이브러리와는 별도로 다른 사람들이 직접 만들어 공개한 라이브러리를 의미"
   ],
   "metadata": {
    "id": "VISUzU_Tg_eE",
    "pycharm": {
     "name": "#%% md\n"
    }
   }
  },
  {
   "cell_type": "markdown",
   "source": [
    "### 06)-1 라이브러리 설치"
   ],
   "metadata": {
    "id": "Aw_O4wa2h7XW",
    "pycharm": {
     "name": "#%% md\n"
    }
   }
  },
  {
   "cell_type": "markdown",
   "source": [
    "    pip install <라이브러리 이름>"
   ],
   "metadata": {
    "id": "ko--FKO9iGo2",
    "pycharm": {
     "name": "#%% md\n"
    }
   }
  },
  {
   "cell_type": "markdown",
   "source": [
    "pip install로 설치 시에는 같은 버전의 라이브러리를 여러 개 동시에 설치할 수 없다. 여러 개의 버전을 설치하고 싶은 경우에는 가상환경을 나누어 설치해야 한다."
   ],
   "metadata": {
    "id": "xJ7iEJ5BidmH",
    "pycharm": {
     "name": "#%% md\n"
    }
   }
  },
  {
   "cell_type": "markdown",
   "source": [
    "### 06)-2 웹 페이지 간단하게 추출하기"
   ],
   "metadata": {
    "id": "tQ3FcD4Gi-51",
    "pycharm": {
     "name": "#%% md\n"
    }
   }
  },
  {
   "cell_type": "markdown",
   "source": [
    "표준라이브러리 urllib을 사용하는 것에 비해 Requests를 사용하면 매우 쉽게 웹페이지의 내용을 추출할 수 있다. Requests의 캐치프레이즈는 \"HTTP for Humans\"이다. "
   ],
   "metadata": {
    "id": "wk654mStjMV1",
    "pycharm": {
     "name": "#%% md\n"
    }
   }
  },
  {
   "cell_type": "markdown",
   "source": [
    "urllib의 경우 GET, POST같은 요청을 처리시에는 간단하나, HTTP 헤더 추가 또는 Basic 인증 등의 조금 더 나아간 처리를 할 때 굉장히 복잡해진다. 하지만 Requests 모듈을 사용하면 이러한 것들도 쉽게 할 수 있는 인터페이스를 제공해준다. "
   ],
   "metadata": {
    "id": "Le4g8kjjjlD3",
    "pycharm": {
     "name": "#%% md\n"
    }
   }
  },
  {
   "cell_type": "code",
   "source": [
    "!pip install requests"
   ],
   "metadata": {
    "id": "zG2ogNbzlRNm",
    "pycharm": {
     "name": "#%%\n"
    }
   },
   "execution_count": 1,
   "outputs": [
    {
     "name": "stdout",
     "output_type": "stream",
     "text": [
      "Requirement already satisfied: requests in c:\\anaconda3\\lib\\site-packages (2.26.0)\n",
      "Requirement already satisfied: certifi>=2017.4.17 in c:\\anaconda3\\lib\\site-packages (from requests) (2021.10.8)\n",
      "Requirement already satisfied: idna<4,>=2.5 in c:\\anaconda3\\lib\\site-packages (from requests) (3.2)\n",
      "Requirement already satisfied: urllib3<1.27,>=1.21.1 in c:\\anaconda3\\lib\\site-packages (from requests) (1.26.7)\n",
      "Requirement already satisfied: charset-normalizer~=2.0.0 in c:\\anaconda3\\lib\\site-packages (from requests) (2.0.4)\n"
     ]
    }
   ]
  },
  {
   "cell_type": "code",
   "source": [
    "import requests # requests 호출\n",
    "r = requests.get('https://hanbit.co.kr/') # get() 함수로 웹 페이지를 추출\n",
    "print(type(r))                                   # Response [200]이라는 용어는 연결\n",
    "print(r.status_code)"
   ],
   "metadata": {
    "id": "pcnS7AtQlTUm",
    "pycharm": {
     "name": "#%%\n"
    }
   },
   "execution_count": 2,
   "outputs": [
    {
     "name": "stdout",
     "output_type": "stream",
     "text": [
      "<class 'requests.models.Response'>\n",
      "200\n"
     ]
    }
   ]
  },
  {
   "cell_type": "code",
   "source": [
    "r.headers['content-type'] # headers 속성으로 HTTP 헤더를 딕셔너리로 추출"
   ],
   "metadata": {
    "id": "9Lb8YehLl3Sf",
    "pycharm": {
     "name": "#%%\n"
    }
   },
   "execution_count": 3,
   "outputs": [
    {
     "data": {
      "text/plain": "'text/html; charset=UTF-8'"
     },
     "execution_count": 3,
     "metadata": {},
     "output_type": "execute_result"
    }
   ]
  },
  {
   "cell_type": "code",
   "source": [
    "r.encoding # encoding 속성으로 HTTP 헤더를 기반으로 인코딩을 추출"
   ],
   "metadata": {
    "id": "tcoFJQ5lmAMm",
    "pycharm": {
     "name": "#%%\n"
    }
   },
   "execution_count": 4,
   "outputs": [
    {
     "data": {
      "text/plain": "'UTF-8'"
     },
     "execution_count": 4,
     "metadata": {},
     "output_type": "execute_result"
    }
   ]
  },
  {
   "cell_type": "code",
   "source": [
    "r.text # text 속성으로 str 자료형으로 디코딩된 응답 본문 추출이 가능"
   ],
   "metadata": {
    "id": "wr5QrbNgyxh5",
    "pycharm": {
     "name": "#%%\n"
    }
   },
   "execution_count": 5,
   "outputs": [
    {
     "data": {
      "text/plain": "'<!DOCTYPE html>\\r\\n<html lang=\"ko\">\\r\\n<head>\\r\\n<!--[if lte IE 8]>\\r\\n<script>\\r\\n  location.replace(\\'/support/explorer_upgrade.html\\');\\r\\n</script>\\r\\n<![endif]-->\\r\\n<meta charset=\"utf-8\"/>\\r\\n<title>한빛출판네트워크</title>\\r\\n<link rel=\"shortcut icon\" href=\"https://www.hanbit.co.kr/images/common/hanbit.ico\"> \\r\\n<meta http-equiv=\"X-UA-Compatible\" content=\"IE=Edge\" />\\r\\n<meta property=\"og:type\" content=\"website\"/>\\r\\n<meta property=\"og:title\" content=\"한빛출판네트워크\"/>\\r\\n<meta property=\"og:description\" content=\"더 넓은 세상, 더 나은 미래를 위한 아시아 출판 네트워크 :: 한빛미디어, 한빛아카데미, 한빛비즈, 한빛라이프, 한빛에듀\"/>\\r\\n<meta property=\"og:image\" content=\"https://www.hanbit.co.kr/images/hanbitpubnet_logo.jpg\" />\\r\\n<meta property=\"og:url\" content=\"https://hanbit.co.kr/\"/>\\r\\n<link rel=\"canonical\" href=\"https://hanbit.co.kr/\" />\\r\\n<meta name=\"keywords\" content=\"한빛미디어,한빛아카데미,한빛비즈,한빛라이프,한빛에듀,리얼타임,대관서비스,책,출판사,IT전문서,IT활용서,대학교재,경제경영,어린이/유아,실용/여행,전자책,자격증,교육,세미나,강의,ebook,정보교과서\" />\\r\\n<meta name=\"description\" content=\"더 넓은 세상, 더 나은 미래를 위한 아시아 출판 네트워크 :: 한빛미디어, 한빛아카데미, 한빛비즈, 한빛라이프, 한빛에듀\" />\\r\\n<meta name=\"viewport\" content=\"width=device-width,initial-scale=1.0,minimum-scale=1.0,maximum-scale=1.0\">\\r\\n<meta name=\"viewport\" content=\"width=1260\">\\r\\n<meta name=\"apple-mobile-web-app-capable\" content=\"yes\" />\\r\\n<meta name=\"naver-site-verification\" content=\"01c29ed1852aecca7a48ac0c3e0869627bc512d8\"/>\\r\\n<link rel=\"stylesheet\" href=\"/css/common.css?20210603093421\" />\\r\\n<link href=\"/css/hover.css\" rel=\"stylesheet\" media=\"all\">\\r\\n<link rel=\"stylesheet\" href=\"/js/jquery.raty.css\" />\\r\\n<script type=\"text/javascript\" src=\"/js/jquery-latest.js\"></script>\\r\\n<script type=\"text/javascript\" src=\"/js/jquery-ui.js\"></script>\\r\\n<script type=\"text/javascript\" src=\"/js/jquery.event.drag-1.5.min.js\"></script>\\r\\n<script type=\"text/javascript\" src=\"/js/jquery.touchSlider.js\"></script>\\r\\n<script type=\"text/javascript\" src=\"/js/jquery.raty.js\"></script>\\r\\n<script type=\"text/javascript\" src=\"/js/main.js\"></script>\\r\\n<script type=\"text/javascript\" src=\"/lib/cheditor/cheditor.js\"></script>\\r\\n<script type=\"text/javascript\" src=\"/js/jquery.ui.datepicker-ko.js\"></script>\\r\\n<script type=\"text/javascript\" src=\"/js/engine.js\"></script>\\r\\n<script type=\"text/javascript\" src=\"/js/vue.js\"></script>\\r\\n\\r\\n<!-- Google Analytics -->\\r\\n<script>\\r\\n(function(i,s,o,g,r,a,m){i[\\'GoogleAnalyticsObject\\']=r;i[r]=i[r]||function(){\\r\\n(i[r].q=i[r].q||[]).push(arguments)},i[r].l=1*new Date();a=s.createElement(o),\\r\\nm=s.getElementsByTagName(o)[0];a.async=1;a.src=g;m.parentNode.insertBefore(a,m)\\r\\n})(window,document,\\'script\\',\\'//www.google-analytics.com/analytics.js\\',\\'ga\\');\\r\\nga(\\'create\\', \\'UA-47080738-1\\', \\'hanbit.co.kr\\');\\r\\nga(\\'require\\', \\'linkid\\', \\'linkid.js\\');\\r\\nga(\\'send\\', \\'pageview\\');\\r\\n</script>\\r\\n<!-- Google Analytics -->\\r\\n\\r\\n<!-- Facebook Pixel Code -->\\r\\n<script>\\r\\n  !function(f,b,e,v,n,t,s)\\r\\n  {if(f.fbq)return;n=f.fbq=function(){n.callMethod?\\r\\n  n.callMethod.apply(n,arguments):n.queue.push(arguments)};\\r\\n  if(!f._fbq)f._fbq=n;n.push=n;n.loaded=!0;n.version=\\'2.0\\';\\r\\n  n.queue=[];t=b.createElement(e);t.async=!0;\\r\\n  t.src=v;s=b.getElementsByTagName(e)[0];\\r\\n  s.parentNode.insertBefore(t,s)}(window, document,\\'script\\',\\r\\n  \\'https://connect.facebook.net/en_US/fbevents.js\\');\\r\\n  fbq(\\'init\\', \\'406459623338891\\');\\r\\n  fbq(\\'track\\', \\'PageView\\');\\r\\n</script>\\r\\n<noscript><img height=\"1\" width=\"1\" style=\"display:none\"\\r\\n  src=\"https://www.facebook.com/tr?id=406459623338891&ev=PageView&noscript=1\"\\r\\n/></noscript>\\r\\n<!-- End Facebook Pixel Code -->\\r\\n\\r\\n<!-- Google Tag Manager -->\\r\\n<script>(function(w,d,s,l,i){w[l]=w[l]||[];w[l].push({\\'gtm.start\\':\\r\\nnew Date().getTime(),event:\\'gtm.js\\'});var f=d.getElementsByTagName(s)[0],\\r\\nj=d.createElement(s),dl=l!=\\'dataLayer\\'?\\'&l=\\'+l:\\'\\';j.async=true;j.src=\\r\\n\\'https://www.googletagmanager.com/gtm.js?id=\\'+i+dl;f.parentNode.insertBefore(j,f);\\r\\n})(window,document,\\'script\\',\\'dataLayer\\',\\'GTM-W9D5PM3\\');</script>\\r\\n<!-- End Google Tag Manager -->\\r\\n\\r\\n<!-- Kakao Pixel Code -->\\r\\n<script type=\"text/javascript\" charset=\"UTF-8\" src=\"//t1.daumcdn.net/adfit/static/kp.js\"></script>\\r\\n<script type=\"text/javascript\">\\r\\n  kakaoPixel(\\'3011392806152551233\\').pageView();\\r\\n</script>\\r\\n<!-- //Kakao Pixel Code -->\\r\\n</head>\\r\\n<body>\\r\\n<!-- Google Tag Manager (noscript) -->\\r\\n<noscript><iframe src=\"https://www.googletagmanager.com/ns.html?id=GTM-W9D5PM3\"\\r\\nheight=\"0\" width=\"0\" style=\"display:none;visibility:hidden\"></iframe></noscript>\\r\\n<!-- End Google Tag Manager (noscript) -->\\r\\n<link rel=\"stylesheet\" href=\"/css/layout-hanbit.css?202206030909\" />\\r\\n<link rel=\"stylesheet\" href=\"/css/layout-member.css\" />\\r\\n<link rel=\"stylesheet\" href=\"/css/layout-network.css\" />\\r\\n<link rel=\"stylesheet\" href=\"/css/layout-store.css\" />\\r\\n<link rel=\"stylesheet\" href=\"/css/layout-myhanbit.css\" />\\r\\n<link rel=\"stylesheet\" href=\"/css/layout-event.css\" />\\r\\n<!-- 메뉴 바로가기 -->\\r\\n<div id=\"quick_skip_menu\">\\r\\n  <a href=\"#gnb\" onclick=\"document.getElementById(\\'gnb\\').tabIndex = -1;document.getElementById(\\'gnb\\').focus();return false;\"><span>메뉴 바로가기</span></a>\\r\\n  <a href=\"#top_search\" onclick=\"view_hover(\\'main_search_area\\',\\'\\',\\'show\\'), document.getElementById(\\'top_search\\').tabIndex = -1;document.getElementById(\\'top_search\\').focus();return false;\"><span>검색 및 카테고리 바로가기</span></a>\\r\\n    <a href=\"#main_top_box\" onclick=\"document.getElementById(\\'main_top_box\\').tabIndex = -1;document.getElementById(\\'main_top_box\\').focus();return false;\"><span>프로모션 바로가기</span></a>\\r\\n  <a href=\"#main_book_area\" onclick=\"document.getElementById(\\'main_book_area\\').tabIndex = -1;document.getElementById(\\'main_book_area\\').focus();return false;\"><span>책 바로가기</span></a>\\r\\n  <a href=\"#main_network_area\" onclick=\"document.getElementById(\\'main_network_area\\').tabIndex = -1;document.getElementById(\\'main_network_area\\').focus();return false;\"><span>네트워크 바로가기</span></a>\\r\\n  </div>\\r\\n<!-- //메뉴 바로가기 -->\\r\\n\\r\\n<!-- header -->\\r\\n<header>\\r\\n  <!-- top menu -->\\r\\n    <nav>\\r\\n    <div id=\"wrap_nav\">\\r\\n      <ul class=\"top_brand\">\\r\\n        <li><a href=\"https://www.hanbit.co.kr/index.html\" name=\"hanbit_network\"><span>HOME</span></a></li>\\r\\n        <li><a href=\"https://www.hanbit.co.kr/media/\">한빛미디어</a></li>\\r\\n        <li><a href=\"https://www.hanbit.co.kr/academy/\">한빛아카데미</a></li>\\r\\n        <li><a href=\"https://www.hanbit.co.kr/biz/\">한빛비즈</a></li>\\r\\n        <li><a href=\"https://www.hanbit.co.kr/life/\">한빛라이프</a></li>\\r\\n        <li><a href=\"https://www.hanbit.co.kr/edu/\">한빛에듀</a></li>\\r\\n        <li><a href=\"https://www.hanbit.co.kr/realtime/\">리얼타임</a></li>\\r\\n        <li><a href=\"https://www.hanbit.co.kr/textbook/\" target=\"_blank\">한빛정보교과서</a></li>\\r\\n        <li><a href=\"https://www.hanbit.co.kr/rent/\" target=\"_blank\">한빛대관서비스</a></li>\\r\\n      </ul>\\r\\n      \\r\\n      <ul class=\"top_menu\">\\r\\n                <li><a href=\"https://www.hanbit.co.kr/member/login.html\" class=\"login\">로그인</a></li>\\r\\n        <li><a href=\"https://www.hanbit.co.kr/member/member_agree.html\" class=\"join\">회원가입</a></li>\\r\\n        <li><a href=\"https://www.hanbit.co.kr/myhanbit/myhanbit.html\" class=\"myhanbit\">마이한빛</a></li>\\r\\n        <li><a href=\"https://www.hanbit.co.kr/myhanbit/cart.html\" class=\"cart\">장바구니</a></li>\\r\\n                    <li class=\"top_menu_store\"><a href=\"https://www.hanbit.co.kr/publisher/foreignrights.html?lang=e\" target=\"_blank\">ENGLISH</a></li>\\r\\n      </ul>\\r\\n    </div>\\r\\n  </nav>\\r\\n  <!-- //top menu -->\\r\\n\\r\\n  <div id=\"wrap_gnb\">\\r\\n    <!-- logo -->\\r\\n    <h1><a href=\"https://www.hanbit.co.kr/index.html\">한빛출판네트워크</a></h1>\\r\\n    <!-- //logo -->\\r\\n\\r\\n    <!-- Menu -->\\r\\n    <div id=\"gnb\" name=\"gnb\">\\r\\n      <ul>\\r\\n        <li><a href=\"https://www.hanbit.co.kr/brand/brand_submain.html\" class=\"\">BRAND</a></li>\\r\\n        <li><a href=\"https://www.hanbit.co.kr/channel/channel_submain.html\" class=\"\">Channel.H</a></li>\\r\\n        <li><a href=\"https://www.hanbit.co.kr/store/store_submain.html\" class=\"\">STORE</a></li>\\r\\n        <li><a href=\"https://www.hanbit.co.kr/support/help_info.html\" class=\"\">SUPPORT</a></li>\\r\\n        <li><a href=\"https://www.hanbit.co.kr/event/current/current_event_list.html\" class=\"\">EVENT</a></li>\\r\\n        \\r\\n        <li><a href=\"https://www.hanbit.co.kr/publisher/foreignrights.html?lang=e\" class=\"\" target=\"_blank\">RIGHTS</a></li>\\r\\n        \\r\\n        <li id=\"top_search\" class=\"search\"><a href=\"javascript:;\" onClick=\"view_hover(\\'main_search_area\\',\\'\\',\\'show\\'); $(\\'#keyword_str\\').focus();\"><span>SEARCH</span></a></li>\\r\\n      </ul>\\r\\n    </div>\\r\\n    <!-- //Menu -->\\r\\n    \\r\\n    <!-- lnb -->\\r\\n    <div class=\"lnb\" style=\"top:92px;\">\\r\\n      <div class=\"lnb_area\">\\r\\n      <!-- BRAND -->\\r\\n          </div>\\r\\n    </div>\\r\\n    <!--// lnb -->\\r\\n  </div>\\r\\n</header>\\r\\n<!-- //header -->\\r\\n\\r\\n<!-- 메인 검색 및 카테고리 영역 -->\\r\\n<div id=\"main_search_area\" class=\"fixed\" style=\"display:none;\">\\n  <div class=\"msa_wrap\">\\n\\n    <!-- 검색 -->\\n    <div class=\"msa_srch_wrap\">\\n      <form onsubmit=\"return false;\">\\n      <fieldset class=\"msa_srch_field\">\\n        <legend>한빛출판네트워크 검색</legend>\\n        <input title=\"검색어\" autocomplete=\"off\" class=\"srch_keyword\" accesskey=\"s\" type=\"text\" name=\"keyword_str\" id=\"keyword_str\" v-model=\"keyword\" @input=\"typeKeyword\">\\n        <input type=\"submit\" class=\"srch_btn\" style=\"cursor:pointer;\" @click=\"clickSearch\">\\n      </fieldset>\\n      </form>\\n    </div>\\n    <!-- //검색 -->\\n\\n    <!-- ① 인기검색어 -->\\n    <div class=\"msa_srch_polular\" v-if=\"showPopularKeyword === true\">\\n      <h2 class=\"tit\">인기 검색어 <span>(최근 1개월간)</span></h2>\\n        <div class=\"popula_box\">\\n          <ul class=\"left\">\\n            <li v-for=\"keyword in leftPopularKeywordList\">\\n              <a :class=\"keyword.bold\" @click=\"clickPopularKeyword(keyword)\">\\n                  {{ keyword.number }} {{ keyword.bookName }}\\n              </a>\\n            </li>\\n          </ul>\\n          <ul class=\"right\">\\n            <li v-for=\"keyword in rightPopularKeywordList\">\\n              <a :class=\"keyword.bold\" @click=\"clickPopularKeyword(keyword)\">\\n                  {{ keyword.number }} {{ keyword.bookName }}\\n              </a>\\n            </li>\\n          </ul>\\n        </div>\\n    </div>\\n    <!-- ① 인기검색어 -->\\n\\n    <!-- ② 검색결과/검색서제스쳔 -->\\n    <div class=\"msa_srch_suggestion\" v-if=\"showPopularKeyword === false\">\\n      <div class=\"sugg_left\" v-if=\"bookList.length !== 0\">\\n        <h3 class=\"tit\">BOOK</h3>\\n        <ul class=\"books_list\">\\n          <li v-for=\"book in bookList\" @mouseover=\"mouseOverBook(book.id)\"><a @click=\"clickBookKeyword(book)\"><p v-html=\"book.name\"></p></a></li>\\n        </ul>\\n      </div>\\n\\n      <div class=\"sugg_right\">\\n        <div class=\"sugg_book\" v-if=\"bookList.length !== 0\">\\n          <table class=\"sugg_book_detail\">\\n            <tr>\\n              <td class=\"cover\">\\n                <a @click=\"clickBookKeyword(bookSummary)\">\\n                  <img :src=\"bookSummary.imgUrl\" class=\"b_cover\">\\n                </a>\\n              </td>\\n              <td class=\"draft\">\\n                <a @click=\"clickBookKeyword(bookSummary)\" class=\"b_title\"><strong v-html=\"bookSummary.originName\"></strong></a>\\n                <p class=\"b_int\">\\n                {{ bookSummary.author }} 지음<br />\\n                {{ bookSummary.publishingCompany }} | {{ bookSummary.date }}\\n                </p>\\n                <p class=\"b_type\">\\n                <span>{{ bookSummary.bookType }}</span>\\n                </p>\\n              </td>\\n            </tr>\\n          </table>\\n        </div>\\n\\n        <!--\\n        <div class=\"sugg_edu\" v-if=\"educationList.length !== 0\">\\n          <h3 class=\"tit\">EDUCATION</h3>\\n          <ul class=\"edu_list\">\\n            <li v-for=\"education in educationList\">&#149; <a @click=\"clickEducationKeyword(education)\"><span v-html=\"education.title\"></span></a></li>\\n          </ul>\\n        </div>\\n        -->\\n        \\n        <div class=\"sugg_cont\" v-if=\"contentList.length !== 0\">\\n          <h3 class=\"tit\">CONTENTS</h3>\\n          <ul class=\"cont_list\">\\n            <li v-for=\"content in contentList\">&#149; <a @click=\"clickContentKeyword(content)\"><span v-html=\"content.title\"></span></a></li>\\n          </ul>\\n        </div>\\n      </div>\\n    </div>\\n    <!-- //② 검색결과/검색서제스쳔 -->\\n\\n  <!-- 닫기 -->\\n  <div class=\"msa_wrap_close\">\\n    <a href=\"javascript:;\" onclick=\"view_hover(\\'main_search_area\\',\\'\\',\\'hide\\')\">닫기</a>\\n  </div>\\n  <!-- //닫기 -->\\n\\n  </div>\\n</div>\\n\\n<script type=\"text/javascript\">\\n    \"use strict\";\\n\\n    var common_top_search_vue = new Vue({\\n        el: \\'#main_search_area\\',\\n        data: {\\n            //검색엔진 URL\\n            searchProxyURL: \"https://search.hanbit.co.kr\",\\n            //인기 검색어 show 여부\\n            showPopularKeyword: true,\\n            //사용자 검색 키워드\\n            keyword: \\'\\',\\n            //인기 검색어 리스트\\n            popularKeywordList: [],\\n            // 인기 검색어 리스트 (왼쪽)\\n            leftPopularKeywordList: [],\\n            // 인기 검색어 리스트 (오른쪽)\\n            rightPopularKeywordList: [],\\n            // 자동완성에서의 책 리스트\\n            bookList: [],\\n            // 자동완성에서의 책 정보\\n            bookSummary: {\\n                \\'imgUrl\\': \\'\\',\\n                \\'link\\': \\'\\',\\n                \\'name\\': \\'\\',\\n                \\'author\\': \\'\\',\\n                \\'publishingCompany\\': \\'\\',\\n                \\'date\\': \\'\\',\\n                \\'bookType\\': \\'\\'\\n            },\\n            //에듀케이션 리스트\\n            educationList: [],\\n            //컨텐츠 리스트\\n            contentList: []\\n        },\\n        created: function created() {\\n            // 인기 검색어 조회\\n            this.getPopularKeyword();\\n        },\\n        methods: {\\n            /**\\n             * 사용자가 검색 키워드를 입력할때 발생하는 이벤트\\n             */\\n            typeKeyword: function typeKeyword() {\\n                var self = this;\\n                var keyword = $(\"#keyword_str\").val();\\n\\n                if (keyword.length !== 0) {\\n                    //자동완성어\\n                    this.findAutocompleteResult(keyword);\\n                } else {\\n                    //인기검색어\\n                    self.showPopularKeyword = true;\\n                }\\n            },\\n\\n            /**\\n             * 인기검색어 조회\\n             */\\n            getPopularKeyword: function getPopularKeyword() {\\n                var self = this;\\n                this.popularKeywordList = [];\\n                $.get(this.searchProxyURL + \"/querylog/popularKeyword\").done(function (data) {\\n                    if (data != null) {\\n                        self.drawPopularKeyword(data);\\n                    }\\n                });\\n            },\\n\\n            /**\\n             * 인기 검색어 그리기\\n             */\\n            drawPopularKeyword: function drawPopularKeyword(popularBooks) {\\n                var self = this;\\n                popularBooks.forEach(function (item) {\\n                    var popularBook = {\\n                        bookName: item.keyword\\n                    };\\n                    self.popularKeywordList.push(popularBook);\\n                });\\n                var number = 0;\\n\\n                for (var _iterator = this.popularKeywordList, _isArray = Array.isArray(_iterator), _i = 0, _iterator = _isArray ? _iterator : _iterator[Symbol.iterator]();;) {\\n                    var _ref;\\n\\n                    if (_isArray) {\\n                        if (_i >= _iterator.length) break;\\n                        _ref = _iterator[_i++];\\n                    } else {\\n                        _i = _iterator.next();\\n                        if (_i.done) break;\\n                        _ref = _i.value;\\n                    }\\n\\n                    var keyword = _ref;\\n                    number = number + 1;\\n                    keyword.number = number.toString().length < 2 ? \"0\" + number : number;\\n\\n                    if (number > 5) {\\n                        keyword.direction = \"right\";\\n                        self.rightPopularKeywordList.push(keyword);\\n                    } else {\\n                        keyword.direction = \"left\";\\n\\n                        if (number < 4) {\\n                            keyword.bold = \\'active\\';\\n                        }\\n\\n                        self.leftPopularKeywordList.push(keyword);\\n                    }\\n                }\\n            },\\n\\n            /**\\n             * 자동완성 검색 결과\\n             */\\n            findAutocompleteResult: function findAutocompleteResult(keyword) {\\n                var self = this;\\n                var param = {\\n                    q: keyword,\\n                    types: \"education,book,contents\",\\n                    fq: keyword\\n                };\\n                $.post(this.searchProxyURL + \"/autocomplete/search\", param).done(function (data) {\\n                    if (data != null) {\\n                        var bookResult = data.booksResults;\\n                        self.changeBookList(keyword, bookResult);\\n                        var contentResult = data.contentsResults;\\n                        self.changeContentList(keyword, contentResult);\\n                        var educationResult = data.educationResults;\\n                        self.changeEducationList(keyword, educationResult);\\n                    }\\n                });\\n                this.showPopularKeyword = false;\\n            },\\n\\n            /**\\n             * 자동완성어에서 BOOK 부분에서 마우스를 올렸을 시에 발생하는 이벤트\\n             * @param bookId\\n             */\\n            mouseOverBook: function mouseOverBook(bookId) {\\n                var currentBook = this.bookList.filter(function (book) {\\n                    return book.id === bookId;\\n                });\\n                this.changeBookSummary(currentBook[0]);\\n            },\\n\\n            /**\\n             * 책 소개 변경\\n             * @param book\\n             */\\n            changeBookSummary: function changeBookSummary(book) {\\n                if (book !== {}) {\\n                    this.bookSummary.name = book.name;\\n                    this.bookSummary.originName = book.originName;\\n                    this.bookSummary.author = book.author;\\n                    this.bookSummary.bookType = book.bookType;\\n                    this.bookSummary.imgUrl = book.imgUrl;\\n                    this.bookSummary.link = book.link;\\n                    this.bookSummary.publishingCompany = book.publishingCompany;\\n                    this.bookSummary.date = book.date;\\n                    this.bookSummary.bookType = book.bookType;\\n                }\\n            },\\n\\n            /**\\n             * BOOK 리스트 변경\\n             */\\n            changeBookList: function changeBookList(keyword, bookResultList) {\\n                var self = this;\\n                self.bookList = [];\\n                var index = 0;\\n\\n                if (bookResultList != null) {\\n                    for (var _iterator2 = bookResultList, _isArray2 = Array.isArray(_iterator2), _i2 = 0, _iterator2 = _isArray2 ? _iterator2 : _iterator2[Symbol.iterator]();;) {\\n                        var _ref2;\\n\\n                        if (_isArray2) {\\n                            if (_i2 >= _iterator2.length) break;\\n                            _ref2 = _iterator2[_i2++];\\n                        } else {\\n                            _i2 = _iterator2.next();\\n                            if (_i2.done) break;\\n                            _ref2 = _i2.value;\\n                        }\\n\\n                        var result = _ref2;\\n\\n                        if (index < 10) {\\n                            var book = {};\\n                            book.id = result.code;\\n                            book.originName = result.title;\\n                            book.name = JSON.parse(JSON.stringify(self.replaceHighlightWord(result.title, keyword)));\\n                            book.link = result.code;\\n                            book.imgUrl = self.getBookImageURL(result.code);\\n                            book.author = result.author;\\n                            book.publishingCompany = result.brand;\\n                            book.date = result.pubDate;\\n                            book.bookType = result.bookType;\\n                            self.bookList.push(book); //책 미리보기 변경\\n\\n                            self.changeBookSummary(self.bookList[0]);\\n                        }\\n                    }\\n                } else {\\n                    self.initBookSummary();\\n                }\\n            },\\n\\n            /**\\n             * 책 이미지 주소 가져오기\\n             */\\n            getBookImageURL: function getBookImageURL(bookCode) {\\n                var imgURL;\\n\\n                if (bookCode.substr(0, 1) === \"E\") {\\n                    imgURL = \\'/data/ebook/\\' + bookCode + \\'_m.jpg\\';\\n                } else {\\n                    imgURL = \\'/data/books/\\' + bookCode + \"_m.jpg\";\\n                }\\n\\n                return imgURL;\\n            },\\n\\n            /**\\n             * 검색 결과가 없을 경우 책 미리보기 초기화\\n             */\\n            initBookSummary: function initBookSummary() {\\n                this.bookSummary = {\\n                    \\'imgUrl\\': \\'\\',\\n                    \\'link\\': \\'\\',\\n                    \\'name\\': \\'\\',\\n                    \\'author\\': \\'\\',\\n                    \\'publishingCompany\\': \\'\\',\\n                    \\'date\\': \\'\\',\\n                    \\'bookType\\': \\'\\'\\n                };\\n            },\\n\\n            /**\\n             * education 리스트 변경\\n             */\\n            changeEducationList: function changeEducationList(keyword, educationResultList) {\\n                var self = this;\\n                self.educationList = [];\\n                var index = 0;\\n\\n                if (educationResultList != null) {\\n                    for (var _iterator3 = educationResultList, _isArray3 = Array.isArray(_iterator3), _i3 = 0, _iterator3 = _isArray3 ? _iterator3 : _iterator3[Symbol.iterator]();;) {\\n                        var _ref3;\\n\\n                        if (_isArray3) {\\n                            if (_i3 >= _iterator3.length) break;\\n                            _ref3 = _iterator3[_i3++];\\n                        } else {\\n                            _i3 = _iterator3.next();\\n                            if (_i3.done) break;\\n                            _ref3 = _i3.value;\\n                        }\\n\\n                        var result = _ref3;\\n\\n                        if (index < 3) {\\n                            var content = {};\\n                            content.title = JSON.parse(JSON.stringify(self.replaceHighlightWord(result.title, keyword)));\\n                            content.link = result.code;\\n                            self.educationList.push(content);\\n                            index = index + 1;\\n                        }\\n                    }\\n                }\\n            },\\n\\n            /**\\n             * contents 리스트 변경\\n             */\\n            changeContentList: function changeContentList(keyword, contentResult) {\\n                var self = this;\\n                self.contentList = [];\\n                var index = 0;\\n\\n                if (contentResult != null) {\\n                    for (var _iterator4 = contentResult, _isArray4 = Array.isArray(_iterator4), _i4 = 0, _iterator4 = _isArray4 ? _iterator4 : _iterator4[Symbol.iterator]();;) {\\n                        var _ref4;\\n\\n                        if (_isArray4) {\\n                            if (_i4 >= _iterator4.length) break;\\n                            _ref4 = _iterator4[_i4++];\\n                        } else {\\n                            _i4 = _iterator4.next();\\n                            if (_i4.done) break;\\n                            _ref4 = _i4.value;\\n                        }\\n\\n                        var result = _ref4;\\n\\n                        if (index < 7) {\\n                            var content = {};\\n                            content.title = JSON.parse(JSON.stringify(self.replaceHighlightWord(result.title, keyword)));\\n                            content.link = result.code;\\n                            self.contentList.push(content);\\n                            index = index + 1;\\n                        }\\n                    }\\n                }\\n            },\\n\\n            /**\\n             * 하이라이트 표시\\n             */\\n            replaceHighlightWord: function replaceHighlightWord(str, highlightKeyword) {\\n                var replaceHighlightKeyword = highlightKeyword.replace(/[^a-z0-9가-힣_ ]/gi, \\'\\');\\n                var regEx = new RegExp(replaceHighlightKeyword, \"gi\");\\n                str = str.replace(regEx, function (a) {\\n                    return \\'<span class=\"keysel\">\\' + a + \\'</span>\\';\\n                });\\n                return str;\\n            },\\n\\n            /**\\n             * 검색 버튼 클릭 시\\n             * @param e\\n             */\\n            clickSearch: function clickSearch(e) {\\n                if (!this.keyword || this.keyword.length === 0) {\\n                    alert(\"검색어를 입력하세요\");\\n                    $(\"#keyword_str\").focus();\\n                    e.preventDefault();\\n                } else {\\n                    location.href = \"/search/search_list.html?keyword=\" + this.keyword;\\n                }\\n            },\\n\\n            /**\\n             * 인기 검색어 클릭시\\n             * @param book\\n             */\\n            clickPopularKeyword: function clickPopularKeyword(book) {\\n                var searchKeyword = book.bookName;\\n                location.href = \"/search/search_list.html?keyword=\" + searchKeyword;\\n            },\\n\\n            /**\\n             * 책 검색어 클릭시 책 상세로 이동\\n             * @param book\\n             */\\n            clickBookKeyword: function clickBookKeyword(book) {\\n                location.href = \"/store/books/look.php?p_code=\" + book.link;\\n            },\\n\\n            /**\\n             * 교육 클릭시 교육 상세로 이동\\n             * @param education\\n             */\\n            clickEducationKeyword: function clickEducationKeyword(education) {\\n                location.href = \"/store/education/edu_view.html?p_code=\" + education.link;\\n            },\\n\\n            /**\\n             * 컨텐츠 클릭시 컨텐츠 상세로 이동\\n             * @param contents\\n             */\\n            clickContentKeyword: function clickContentKeyword(content) {\\n                location.href = \"/channel/category/category_view.html?cms_code=\" + content.link;\\n            }\\n        }\\n    });\\n</script>\\n<!-- //메인 검색 및 카테고리 영역 -->\\r\\n\\r\\n<link rel=\"stylesheet\" href=\"/css/main.css?202108041350\" />\\r\\n<link rel=\"preconnect\" href=\"https://fonts.googleapis.com\">\\r\\n<link rel=\"preconnect\" href=\"https://fonts.gstatic.com\" crossorigin>\\r\\n<link href=\"https://fonts.googleapis.com/css2?family=Black+Han+Sans&display=swap\" rel=\"stylesheet\">\\r\\n\\r\\n<!-- 프로모션 -->\\r\\n<section id=\"main_top_wrap\" name=\"main_top_wrap\">\\r\\n  <div class=\"main_promotion_wrap\">\\r\\n    <article onmouseover=\"view_hover(\\'main_prm_btn\\',\\'\\',\\'show\\')\" onmouseout=\"view_hover(\\'main_prm_btn\\',\\'\\',\\'hide\\')\">\\r\\n      <div class=\"promo_top\">\\r\\n        <div id=\"touchSlider_prm\">\\r\\n          <ul style=\"width:100% !important;\">\\r\\n                        <li style=\"background: linear-gradient(to top, rgb(230,230,230), rgb(244,244,244)); float: none; display: block; position: absolute; top: 0px; left: -1367px; width: 1367px;\">\\r\\n                <div class=\"prm_tex_wrap\">\\r\\n                <a href=\"/store/books/look.php?p_code=B6361762764\" target=\"_self\">\\r\\n                <div class=\"prm_tex\">\\r\\n                  <span class=\"prm_brand_tex\">한빛미디어</span>\\r\\n                  <span class=\"prm_book_title\">아이패드 드로잉 with 프로크리에이트</span>\\r\\n                  <span class=\"prm_book_detail\">더 쉽게, 더 재미있게 아이패드 드로잉을 시작하자!</span>\\r\\n                  <!-- <span class=\"prm_book_author\"></span> --> \\r\\n                </div>\\r\\n                <div class=\"prm_img\">\\r\\n                  <img style=\"margin:41px 5px 0 0;\" src=\"/data/books/B6361762764_l.jpg\" width=\"\" height=\"340\" alt=\"아이패드 드로잉 with 프로크리에이트\">\\r\\n                </div>\\r\\n                </a>\\r\\n                </div>\\r\\n              </li>\\r\\n                        <li style=\"background-color:#d4d4d4\"><a href=\"https://www.hanbit.co.kr/event/current/current_event_view.html?hbe_idx=171&page=0\" target=\"_self\"><img src=\"/data/banner/webbanner_1114.jpg\" width=\"1140\" height=\"400\" alt=\"천하제일 비상식 경연대회\"></a></li>\\r\\n                        <li style=\"background: linear-gradient(to top, rgb(230,230,230), rgb(244,244,244)); float: none; display: block; position: absolute; top: 0px; left: -1367px; width: 1367px;\">\\r\\n                <div class=\"prm_tex_wrap\">\\r\\n                <a href=\"/store/books/look.php?p_code=B5825921855\" target=\"_self\">\\r\\n                <div class=\"prm_tex\">\\r\\n                  <span class=\"prm_brand_tex\">한빛미디어</span>\\r\\n                  <span class=\"prm_book_title\">사례 분석으로 배우는 데이터 시각화</span>\\r\\n                  <span class=\"prm_book_detail\">기초가 탄탄한 데이터 시각화 입문서</span>\\r\\n                  <!-- <span class=\"prm_book_author\"></span> --> \\r\\n                </div>\\r\\n                <div class=\"prm_img\">\\r\\n                  <img style=\"margin:41px 5px 0 0;\" src=\"/data/books/B5825921855_l.jpg\" width=\"\" height=\"340\" alt=\"사례 분석으로 배우는 데이터 시각화\">\\r\\n                </div>\\r\\n                </a>\\r\\n                </div>\\r\\n              </li>\\r\\n                        <li style=\"background-color:#f4f4f4\"><a href=\"https://www.hanbit.co.kr/devletter/\" target=\"_blank\"><img src=\"/data/banner/webbanner_1113.jpg\" width=\"1140\" height=\"400\" alt=\"데브레터 season2 구독하기\"></a></li>\\r\\n                    </ul>\\r\\n        </div>\\r\\n        <div id=\"main_prm_btn\" class=\"btn_prm_area\">\\r\\n          <div class=\"btn_promo_left\"><a href=\"javascript:;\" class=\"btn_prm_prev\"></a></div>\\r\\n          <div class=\"btn_promo_right\"><a href=\"javascript:;\" class=\"btn_prm_next\"></a></div>\\r\\n        </div>\\r\\n        <div class=\"btn_prm_area_page\" style=\"text-align:center;\">\\r\\n          <div class=\"btn_prm_page\">paging</div>\\r\\n        </div>\\r\\n      </div>\\r\\n    </article>\\r\\n  </div>\\r\\n</section>\\r\\n<!-- //프로모션 -->\\r\\n\\r\\n<!-- //메인 상단 영역 -->\\r\\n<section id=\"box_main_quick\">\\r\\n  <div class=\"main_quick_wrap\">\\r\\n  <!-- 배너 -->\\r\\n    <article class=\"main_quick\">\\r\\n    <div class=\"txt\">\\r\\n      <p><a href=\"/publisher/write.html?lang=k\" target=\"_blank\">\\r\\n      <span class=\"icon_plan\"></span><br>\\r\\n      <strong>기획/원고 모집</strong>\\r\\n      </a></p>\\r\\n    </div>\\r\\n    </article>\\r\\n    \\r\\n    <article class=\"main_quick\">\\r\\n    <div class=\"txt\">\\r\\n      <p><a href=\"/academy/professor/\">\\r\\n      <span class=\"icon_professor\"></span><br>\\r\\n      <strong>교수전용</strong>\\r\\n      </a></p>\\r\\n    </div>\\r\\n    </article>\\r\\n    \\r\\n    <article class=\"main_quick\">\\r\\n    <div class=\"txt\">\\r\\n      <p><a href=\"/rent/\" target=\"_blank\">\\r\\n      <span class=\"icon_rent\"></span><br>\\r\\n      <strong>대관서비스</strong>\\r\\n      </a></p>\\r\\n    </div>\\r\\n    </article>\\r\\n\\r\\n    <article class=\"main_quick\">\\r\\n    <div class=\"txt\">\\r\\n      <p><a href=\"/support/supplement_list.html\">\\r\\n      <span class=\"icon_source\"></span><br>\\r\\n      <strong>부록/예제소스</strong>\\r\\n      </a></p>\\r\\n    </div>\\r\\n    </article>\\r\\n\\r\\n    <article class=\"main_quick\">\\r\\n    <div class=\"txt\">\\r\\n      <p><a href=\"https://support.hanbit.co.kr/hc/ko/categories/200229407-%EC%9E%90%EC%A3%BC-%EB%AC%BB%EB%8A%94-%EC%A7%88%EB%AC%B8-FAQ-\" target=\"_blank\">\\r\\n      <span class=\"icon_question\"></span><br>\\r\\n      <strong>자주묻는질문</strong>\\r\\n      </a></p>\\r\\n    </div>\\r\\n    </article>\\r\\n\\r\\n    <article class=\"main_quick\">\\r\\n    <div class=\"txt\">\\r\\n      <p><a href=\"/publisher/foreignrights.html?lang=e\" target=\"_blank\">\\r\\n      <span class=\"icon_foreign\"></span><br>\\r\\n      <strong>FOREIGN RIGHTS</strong>\\r\\n      </a></p>\\r\\n    </div>\\r\\n    </article>\\r\\n  </div>\\r\\n  <!-- //배너 -->\\r\\n</section>\\r\\n<!-- //메인 상단 영역 -->\\r\\n\\r\\n\\r\\n\\r\\n<!-- 메인 책 영역 -->\\r\\n\\r\\n<script>\\r\\nvar main_book_setid_list = new Array([\"#hbmain_book_area_new_HBIT\",\\r\\n                     \"#hbmain_book_area_new_HM\",\\r\\n                     \"#hbmain_book_area_new_HA\",\\r\\n                     \"#hbmain_book_area_new_HB\",\\r\\n                     \"#hbmain_book_area_new_HL\",\\r\\n                     \"#hbmain_book_area_new_HR\",\\r\\n                     \"#hbmain_book_area_new_MK\",\\r\\n                     \"#hbmain_book_area_new_HE\"],\\r\\n                     \\r\\n                    [\"#hbmain_book_area_best_HBIT\",\\r\\n                     \"#hbmain_book_area_best_HM\",\\r\\n                     \"#hbmain_book_area_best_HA\",\\r\\n                     \"#hbmain_book_area_best_HB\",\\r\\n                     \"#hbmain_book_area_best_HL\",\\r\\n                     \"#hbmain_book_area_best_HR\",\\r\\n                     \"#hbmain_book_area_best_MK\",\\r\\n                     \"#hbmain_book_area_best_HE\"]);\\r\\n\\r\\nfunction main_book_display(set_num, brand_num){\\r\\n  var set_num = set_num-1;\\r\\n  var brand_num = brand_num-1;\\r\\n  var array_langth = main_book_setid_list[0].length;\\r\\n  for(var i=0; i<array_langth; i++){\\r\\n    $(main_book_setid_list[0][i]).css(\"display\",\"none\");\\r\\n    $(main_book_setid_list[1][i]).css(\"display\",\"none\");\\r\\n  };\\r\\n  $(main_book_setid_list[set_num][brand_num]).css(\"display\",\"block\");\\r\\n}\\r\\n</script>\\r\\n\\r\\n<!-- 메인 새로나온책 -->\\r\\n<section id=\"hbmain_book_area_new_HBIT\" name=\"hbmain_book_area_new_HBIT\" style=\"display:block;\" onmouseover=\"view_hover(\\'main_book_btn_new_HBIT\\',\\'\\',\\'show\\')\" onmouseout=\"view_hover(\\'main_book_btn_new_HBIT\\',\\'\\',\\'hide\\')\">\\r\\n  <!-- 탭메뉴 -->\\r\\n  <div class=\"m_tab\">\\r\\n    <ul class=\"m_tab_menu\">\\r\\n      <li><a href=\"javascript:main_book_display(1,1);\" class=\"curr\">새로나온책</a></li>\\r\\n      <li><a href=\"javascript:main_book_display(2,1);\">베스트셀러</a></li>\\r\\n    </ul>\\r\\n  </div>\\r\\n  <!-- //탭메뉴 -->\\r\\n  \\r\\n  <!-- 책 리스트 -->\\r\\n  <div id=\"touchSlider_book_new_HBIT\">\\r\\n    <ul>\\r\\n      <li>\\r\\n        <div class=\"main_book_list\">\\r\\n                  <div class=\"view_box\">\\r\\n            <span class=\"view_box_block\">\\r\\n              <span class=\"img_hidden_l\">\\r\\n                <span class=\"pop_quick_menu\">\\r\\n                  <a href=\"/store/books/look.php?p_code=B8806843023\"><img src=\"/images/common/icon_view_detail.png\" alt=\"상세보기\" /></a>\\r\\n                                    <a href=\"javascript:;\" onClick=\"addCart(\\'B8806843023\\',\\'\\',\\'1\\',\\'\\');\"><img src=\"/images/common/icon_add_cart.png\" alt=\"장바구니 담기\" /></a>\\r\\n                                  </span>\\r\\n                <span class=\"price\">16,200<span>원</span></span>\\r\\n                <span class=\"pop_quick_bg\" onClick=\"location=\\'/store/books/look.php?p_code=B8806843023\\'\"></span>\\r\\n              </span>\\r\\n                                                        <img src=\"/data/books/B8806843023_m.jpg\" alt=\"리얼 싱가포르 [2022~2023 최신판]\" class=\"thumb\" />\\r\\n                          </span>\\r\\n          </div>\\r\\n                  <div class=\"view_box\">\\r\\n            <span class=\"view_box_block\">\\r\\n              <span class=\"img_hidden_m\">\\r\\n                <span class=\"pop_quick_menu\">\\r\\n                  <a href=\"/store/books/look.php?p_code=B4813114979\"><img src=\"/images/common/icon_view_detail.png\" alt=\"상세보기\" /></a>\\r\\n                                    <a href=\"javascript:;\" onClick=\"addCart(\\'B4813114979\\',\\'\\',\\'1\\',\\'\\');\"><img src=\"/images/common/icon_add_cart.png\" alt=\"장바구니 담기\" /></a>\\r\\n                                  </span>\\r\\n                <span class=\"price\">36,000<span>원</span></span>\\r\\n                <span class=\"pop_quick_bg\" onClick=\"location=\\'/store/books/look.php?p_code=B4813114979\\'\"></span>\\r\\n              </span>\\r\\n                                                        <img src=\"/data/books/B4813114979_m.jpg\" alt=\"구글 앱스 스크립트 완벽 가이드\" class=\"thumb\" />\\r\\n                          </span>\\r\\n          </div>\\r\\n                  <div class=\"view_box\">\\r\\n            <span class=\"view_box_block\">\\r\\n              <span class=\"img_hidden_b\">\\r\\n                <span class=\"pop_quick_menu\">\\r\\n                  <a href=\"/store/books/look.php?p_code=B2859439220\"><img src=\"/images/common/icon_view_detail.png\" alt=\"상세보기\" /></a>\\r\\n                                                    </span>\\r\\n                <span class=\"price\">15,300<span>원</span></span>\\r\\n                <span class=\"pop_quick_bg\" onClick=\"location=\\'/store/books/look.php?p_code=B2859439220\\'\"></span>\\r\\n              </span>\\r\\n                                                        <img src=\"/data/books/B2859439220_m.jpg\" alt=\"원소 이야기\" class=\"thumb\" />\\r\\n                          </span>\\r\\n          </div>\\r\\n                  <div class=\"view_box\">\\r\\n            <span class=\"view_box_block\">\\r\\n              <span class=\"img_hidden_m\">\\r\\n                <span class=\"pop_quick_menu\">\\r\\n                  <a href=\"/store/books/look.php?p_code=B1996635146\"><img src=\"/images/common/icon_view_detail.png\" alt=\"상세보기\" /></a>\\r\\n                                    <a href=\"javascript:;\" onClick=\"addCart(\\'B1996635146\\',\\'\\',\\'1\\',\\'\\');\"><img src=\"/images/common/icon_add_cart.png\" alt=\"장바구니 담기\" /></a>\\r\\n                                  </span>\\r\\n                <span class=\"price\">34,200<span>원</span></span>\\r\\n                <span class=\"pop_quick_bg\" onClick=\"location=\\'/store/books/look.php?p_code=B1996635146\\'\"></span>\\r\\n              </span>\\r\\n                                                        <img src=\"/data/books/B1996635146_m.jpg\" alt=\"핸즈온 데이터 시각화\" class=\"thumb\" />\\r\\n                          </span>\\r\\n          </div>\\r\\n                  <div class=\"view_box\">\\r\\n            <span class=\"view_box_block\">\\r\\n              <span class=\"img_hidden_e\">\\r\\n                <span class=\"pop_quick_menu\">\\r\\n                  <a href=\"/store/books/look.php?p_code=B4354575770\"><img src=\"/images/common/icon_view_detail.png\" alt=\"상세보기\" /></a>\\r\\n                                    <a href=\"javascript:;\" onClick=\"addCart(\\'B4354575770\\',\\'\\',\\'1\\',\\'\\');\"><img src=\"/images/common/icon_add_cart.png\" alt=\"장바구니 담기\" /></a>\\r\\n                                  </span>\\r\\n                <span class=\"price\">6,300<span>원</span></span>\\r\\n                <span class=\"pop_quick_bg\" onClick=\"location=\\'/store/books/look.php?p_code=B4354575770\\'\"></span>\\r\\n              </span>\\r\\n                                                        <img src=\"/data/books/B4354575770_m.jpg\" alt=\"똑똑한 두뇌 연습 : 첫 숨은그림찾기\" class=\"thumb\" />\\r\\n                          </span>\\r\\n          </div>\\r\\n        </div></li><li><div class=\\'main_book_list\\'>          <div class=\"view_box\">\\r\\n            <span class=\"view_box_block\">\\r\\n              <span class=\"img_hidden_a\">\\r\\n                <span class=\"pop_quick_menu\">\\r\\n                  <a href=\"/store/books/look.php?p_code=B9063949643\"><img src=\"/images/common/icon_view_detail.png\" alt=\"상세보기\" /></a>\\r\\n                                                    </span>\\r\\n                <span class=\"price\">32,000<span>원</span></span>\\r\\n                <span class=\"pop_quick_bg\" onClick=\"location=\\'/store/books/look.php?p_code=B9063949643\\'\"></span>\\r\\n              </span>\\r\\n                                                        <img src=\"/data/books/B9063949643_m.jpg\" alt=\"IT CookBook, TCP/IP 소켓 프로그래밍&#40;2판&#41;\" class=\"thumb\" />\\r\\n                          </span>\\r\\n          </div>\\r\\n                  <div class=\"view_box\">\\r\\n            <span class=\"view_box_block\">\\r\\n              <span class=\"img_hidden_m\">\\r\\n                <span class=\"pop_quick_menu\">\\r\\n                  <a href=\"/store/books/look.php?p_code=B7798657798\"><img src=\"/images/common/icon_view_detail.png\" alt=\"상세보기\" /></a>\\r\\n                                    <a href=\"javascript:;\" onClick=\"addCart(\\'B7798657798\\',\\'\\',\\'1\\',\\'\\');\"><img src=\"/images/common/icon_add_cart.png\" alt=\"장바구니 담기\" /></a>\\r\\n                                  </span>\\r\\n                <span class=\"price\">28,800<span>원</span></span>\\r\\n                <span class=\"pop_quick_bg\" onClick=\"location=\\'/store/books/look.php?p_code=B7798657798\\'\"></span>\\r\\n              </span>\\r\\n                                                        <img src=\"/data/books/B7798657798_m.jpg\" alt=\"파이썬을 활용한 베이지안 통계&#40;2판&#41;\" class=\"thumb\" />\\r\\n                          </span>\\r\\n          </div>\\r\\n                  <div class=\"view_box\">\\r\\n            <span class=\"view_box_block\">\\r\\n              <span class=\"img_hidden_b\">\\r\\n                <span class=\"pop_quick_menu\">\\r\\n                  <a href=\"/store/books/look.php?p_code=B5171715268\"><img src=\"/images/common/icon_view_detail.png\" alt=\"상세보기\" /></a>\\r\\n                                                    </span>\\r\\n                <span class=\"price\">17,820<span>원</span></span>\\r\\n                <span class=\"pop_quick_bg\" onClick=\"location=\\'/store/books/look.php?p_code=B5171715268\\'\"></span>\\r\\n              </span>\\r\\n                                                        <img src=\"/data/books/B5171715268_m.jpg\" alt=\"인피니티\" class=\"thumb\" />\\r\\n                          </span>\\r\\n          </div>\\r\\n                  <div class=\"view_box\">\\r\\n            <span class=\"view_box_block\">\\r\\n              <span class=\"img_hidden_a\">\\r\\n                <span class=\"pop_quick_menu\">\\r\\n                  <a href=\"/store/books/look.php?p_code=B7400451696\"><img src=\"/images/common/icon_view_detail.png\" alt=\"상세보기\" /></a>\\r\\n                                                    </span>\\r\\n                <span class=\"price\">27,000<span>원</span></span>\\r\\n                <span class=\"pop_quick_bg\" onClick=\"location=\\'/store/books/look.php?p_code=B7400451696\\'\"></span>\\r\\n              </span>\\r\\n                                                        <img src=\"/data/books/B7400451696_m.jpg\" alt=\"IT CookBook, 쉽게 배우는 데이터 통신과 컴퓨터 네트워크&#40;3판&#41;\" class=\"thumb\" />\\r\\n                          </span>\\r\\n          </div>\\r\\n                  <div class=\"view_box\">\\r\\n            <span class=\"view_box_block\">\\r\\n              <span class=\"img_hidden_a\">\\r\\n                <span class=\"pop_quick_menu\">\\r\\n                  <a href=\"/store/books/look.php?p_code=B6129400746\"><img src=\"/images/common/icon_view_detail.png\" alt=\"상세보기\" /></a>\\r\\n                                                    </span>\\r\\n                <span class=\"price\">34,000<span>원</span></span>\\r\\n                <span class=\"pop_quick_bg\" onClick=\"location=\\'/store/books/look.php?p_code=B6129400746\\'\"></span>\\r\\n              </span>\\r\\n                                                        <img src=\"/data/books/B6129400746_m.jpg\" alt=\"IT CookBook, 우분투 리눅스&#40;3판&#41;\" class=\"thumb\" />\\r\\n                          </span>\\r\\n          </div>\\r\\n        </div></li><li><div class=\\'main_book_list\\'>          <div class=\"view_box\">\\r\\n            <span class=\"view_box_block\">\\r\\n              <span class=\"img_hidden_a\">\\r\\n                <span class=\"pop_quick_menu\">\\r\\n                  <a href=\"/store/books/look.php?p_code=B1959656080\"><img src=\"/images/common/icon_view_detail.png\" alt=\"상세보기\" /></a>\\r\\n                                                    </span>\\r\\n                <span class=\"price\">39,000<span>원</span></span>\\r\\n                <span class=\"pop_quick_bg\" onClick=\"location=\\'/store/books/look.php?p_code=B1959656080\\'\"></span>\\r\\n              </span>\\r\\n              <span class=\"rsv_book\"></span>                                          <img src=\"/data/books/B1959656080_m.jpg\" alt=\"경영학원론&#40;10판&#41;\" class=\"thumb\" />\\r\\n                          </span>\\r\\n          </div>\\r\\n                  <div class=\"view_box\">\\r\\n            <span class=\"view_box_block\">\\r\\n              <span class=\"img_hidden_m\">\\r\\n                <span class=\"pop_quick_menu\">\\r\\n                  <a href=\"/store/books/look.php?p_code=B6001875802\"><img src=\"/images/common/icon_view_detail.png\" alt=\"상세보기\" /></a>\\r\\n                                    <a href=\"javascript:;\" onClick=\"addCart(\\'B6001875802\\',\\'\\',\\'1\\',\\'\\');\"><img src=\"/images/common/icon_add_cart.png\" alt=\"장바구니 담기\" /></a>\\r\\n                                  </span>\\r\\n                <span class=\"price\">31,500<span>원</span></span>\\r\\n                <span class=\"pop_quick_bg\" onClick=\"location=\\'/store/books/look.php?p_code=B6001875802\\'\"></span>\\r\\n              </span>\\r\\n                                                        <img src=\"/data/books/B6001875802_m.jpg\" alt=\"비즈니스 데이터 과학\" class=\"thumb\" />\\r\\n                          </span>\\r\\n          </div>\\r\\n                  <div class=\"view_box\">\\r\\n            <span class=\"view_box_block\">\\r\\n              <span class=\"img_hidden_m\">\\r\\n                <span class=\"pop_quick_menu\">\\r\\n                  <a href=\"/store/books/look.php?p_code=B6361762764\"><img src=\"/images/common/icon_view_detail.png\" alt=\"상세보기\" /></a>\\r\\n                                    <a href=\"javascript:;\" onClick=\"addCart(\\'B6361762764\\',\\'\\',\\'1\\',\\'\\');\"><img src=\"/images/common/icon_add_cart.png\" alt=\"장바구니 담기\" /></a>\\r\\n                                  </span>\\r\\n                <span class=\"price\">19,800<span>원</span></span>\\r\\n                <span class=\"pop_quick_bg\" onClick=\"location=\\'/store/books/look.php?p_code=B6361762764\\'\"></span>\\r\\n              </span>\\r\\n                                                        <img src=\"/data/books/B6361762764_m.jpg\" alt=\"혼자 해도 프로 작가처럼 잘 그리는 아이패드 드로잉 with 프로크리에이트\" class=\"thumb\" />\\r\\n                          </span>\\r\\n          </div>\\r\\n                  <div class=\"view_box\">\\r\\n            <span class=\"view_box_block\">\\r\\n              <span class=\"img_hidden_a\">\\r\\n                <span class=\"pop_quick_menu\">\\r\\n                  <a href=\"/store/books/look.php?p_code=B4947312430\"><img src=\"/images/common/icon_view_detail.png\" alt=\"상세보기\" /></a>\\r\\n                                                    </span>\\r\\n                <span class=\"price\">23,000<span>원</span></span>\\r\\n                <span class=\"pop_quick_bg\" onClick=\"location=\\'/store/books/look.php?p_code=B4947312430\\'\"></span>\\r\\n              </span>\\r\\n                                                        <img src=\"/data/books/B4947312430_m.jpg\" alt=\"IT CookBook, C로 시작하는 컴퓨터 프로그래밍&#40;4판&#41;\" class=\"thumb\" />\\r\\n                          </span>\\r\\n          </div>\\r\\n                  <div class=\"view_box\">\\r\\n            <span class=\"view_box_block\">\\r\\n              <span class=\"img_hidden_a\">\\r\\n                <span class=\"pop_quick_menu\">\\r\\n                  <a href=\"/store/books/look.php?p_code=B1393628384\"><img src=\"/images/common/icon_view_detail.png\" alt=\"상세보기\" /></a>\\r\\n                                                    </span>\\r\\n                <span class=\"price\">29,000<span>원</span></span>\\r\\n                <span class=\"pop_quick_bg\" onClick=\"location=\\'/store/books/look.php?p_code=B1393628384\\'\"></span>\\r\\n              </span>\\r\\n                                                        <img src=\"/data/books/B1393628384_m.jpg\" alt=\"IT CookBook, 인터넷 해킹과 보안&#40;4판&#41;\" class=\"thumb\" />\\r\\n                          </span>\\r\\n          </div>\\r\\n        </div></li>  \\r\\n        </div>\\r\\n      </li>\\r\\n    </ul>\\r\\n  </div>\\r\\n  <div id=\"main_book_btn_new_HBIT\">\\r\\n    <div class=\"btn_book_left\"><a href=\"javascript:;\" class=\"btn_book_prev\" onmouseover=\"view_hover(\\'main_book_btn\\',\\'\\',\\'show\\')\" onmouseout=\"view_hover(\\'main_book_btn\\',\\'\\',\\'hide\\')\"></a></div>\\r\\n    <div class=\"btn_book_right\"><a href=\"javascript:;\" class=\"btn_book_next\" onmouseover=\"view_hover(\\'main_book_btn\\',\\'\\',\\'show\\')\" onmouseout=\"view_hover(\\'main_book_btn\\',\\'\\',\\'hide\\')\"></a></div>\\r\\n  </div>\\r\\n  <div class=\"btn_book_area_page\" style=\"text-align:center;\">\\r\\n    <div class=\"btn_book_page\">paging</div>\\r\\n  </div>\\r\\n  <!-- //책 리스트 -->\\r\\n  \\r\\n  <div class=\"btn_more\"><a href=\"/store/books/new_book_list.html\"><span>더보기</span></a></div>\\r\\n</section>\\r\\n<!-- //메인 새로나온 책-통합 -->\\r\\n\\r\\n\\r\\n<!-- 메인 베스트셀러 -->\\r\\n<section id=\"hbmain_book_area_best_HBIT\" name=\"hbmain_book_area_best_HBIT\" style=\"display:none;\" onmouseover=\"view_hover(\\'main_book_btn_best_HBIT\\',\\'\\',\\'show\\')\" onmouseout=\"view_hover(\\'main_book_btn_best_HBIT\\',\\'\\',\\'hide\\')\">\\r\\n  <!-- 탭메뉴 -->\\r\\n  <div class=\"m_tab\">\\r\\n    <ul class=\"m_tab_menu\">\\r\\n      <li><a href=\"javascript:main_book_display(1,1);\">새로나온책</a></li>\\r\\n      <li><a href=\"javascript:main_book_display(2,1);\" class=\"curr\">베스트셀러</a></li>\\r\\n    </ul>\\r\\n  </div>\\r\\n  <!-- //탭메뉴 -->\\r\\n  \\r\\n  <!-- 책 리스트 -->\\r\\n  <div id=\"touchSlider_book_best_HBIT\">\\r\\n    <ul>\\r\\n      <li>\\r\\n        <div class=\"main_book_list\">\\r\\n                  <div class=\"view_box\">\\r\\n            <span class=\"view_box_block\">\\r\\n              <span class=\"img_hidden_m\">\\r\\n                <span class=\"pop_quick_menu\">\\r\\n                  <a href=\"/store/books/look.php?p_code=B1207366943\"><img src=\"/images/common/icon_view_detail.png\" alt=\"상세보기\" /></a>\\r\\n                                    <a href=\"javascript:;\" onClick=\"addCart(\\'B1207366943\\',\\'\\',\\'1\\',\\'\\');\"><img src=\"/images/common/icon_add_cart.png\" alt=\"장바구니 담기\" /></a>\\r\\n                                  </span>\\r\\n                <span class=\"price\">40,500<span>원</span></span>\\r\\n                <span class=\"pop_quick_bg\" onClick=\"location=\\'/store/books/look.php?p_code=B1207366943\\'\"></span>\\r\\n              </span>\\r\\n                                          <img src=\"/data/books/B1207366943_m.jpg\" alt=\"구글 엔지니어는 이렇게 일한다\" class=\"thumb\" />\\r\\n                          </span>\\r\\n          </div>\\r\\n                  <div class=\"view_box\">\\r\\n            <span class=\"view_box_block\">\\r\\n              <span class=\"img_hidden_m\">\\r\\n                <span class=\"pop_quick_menu\">\\r\\n                  <a href=\"/store/books/look.php?p_code=B2002963743\"><img src=\"/images/common/icon_view_detail.png\" alt=\"상세보기\" /></a>\\r\\n                                    <a href=\"javascript:;\" onClick=\"addCart(\\'B2002963743\\',\\'\\',\\'1\\',\\'\\');\"><img src=\"/images/common/icon_add_cart.png\" alt=\"장바구니 담기\" /></a>\\r\\n                                  </span>\\r\\n                <span class=\"price\">23,400<span>원</span></span>\\r\\n                <span class=\"pop_quick_bg\" onClick=\"location=\\'/store/books/look.php?p_code=B2002963743\\'\"></span>\\r\\n              </span>\\r\\n                                          <img src=\"/data/books/B2002963743_m.jpg\" alt=\"혼자 공부하는 머신러닝+딥러닝\" class=\"thumb\" />\\r\\n                          </span>\\r\\n          </div>\\r\\n                  <div class=\"view_box\">\\r\\n            <span class=\"view_box_block\">\\r\\n              <span class=\"img_hidden_m\">\\r\\n                <span class=\"pop_quick_menu\">\\r\\n                  <a href=\"/store/books/look.php?p_code=B1854329839\"><img src=\"/images/common/icon_view_detail.png\" alt=\"상세보기\" /></a>\\r\\n                                    <a href=\"javascript:;\" onClick=\"addCart(\\'B1854329839\\',\\'\\',\\'1\\',\\'\\');\"><img src=\"/images/common/icon_add_cart.png\" alt=\"장바구니 담기\" /></a>\\r\\n                                  </span>\\r\\n                <span class=\"price\">21,600<span>원</span></span>\\r\\n                <span class=\"pop_quick_bg\" onClick=\"location=\\'/store/books/look.php?p_code=B1854329839\\'\"></span>\\r\\n              </span>\\r\\n                                          <img src=\"/data/books/B1854329839_m.jpg\" alt=\"혼자 공부하는 C 언어\" class=\"thumb\" />\\r\\n                          </span>\\r\\n          </div>\\r\\n                  <div class=\"view_box\">\\r\\n            <span class=\"view_box_block\">\\r\\n              <span class=\"img_hidden_b\">\\r\\n                <span class=\"pop_quick_menu\">\\r\\n                  <a href=\"/store/books/look.php?p_code=B7422209817\"><img src=\"/images/common/icon_view_detail.png\" alt=\"상세보기\" /></a>\\r\\n                                                    </span>\\r\\n                <span class=\"price\">34,200<span>원</span></span>\\r\\n                <span class=\"pop_quick_bg\" onClick=\"location=\\'/store/books/look.php?p_code=B7422209817\\'\"></span>\\r\\n              </span>\\r\\n                                          <img src=\"/data/books/B7422209817_m.jpg\" alt=\"변화하는 세계 질서\" class=\"thumb\" />\\r\\n                          </span>\\r\\n          </div>\\r\\n                  <div class=\"view_box\">\\r\\n            <span class=\"view_box_block\">\\r\\n              <span class=\"img_hidden_m\">\\r\\n                <span class=\"pop_quick_menu\">\\r\\n                  <a href=\"/store/books/look.php?p_code=B8945183661\"><img src=\"/images/common/icon_view_detail.png\" alt=\"상세보기\" /></a>\\r\\n                                    <a href=\"javascript:;\" onClick=\"addCart(\\'B8945183661\\',\\'\\',\\'1\\',\\'\\');\"><img src=\"/images/common/icon_add_cart.png\" alt=\"장바구니 담기\" /></a>\\r\\n                                  </span>\\r\\n                <span class=\"price\">30,600<span>원</span></span>\\r\\n                <span class=\"pop_quick_bg\" onClick=\"location=\\'/store/books/look.php?p_code=B8945183661\\'\"></span>\\r\\n              </span>\\r\\n                                          <img src=\"/data/books/B8945183661_m.jpg\" alt=\"이것이 취업을 위한 코딩 테스트다 with 파이썬\" class=\"thumb\" />\\r\\n                          </span>\\r\\n          </div>\\r\\n        </div></li><li><div class=\\'main_book_list\\'>          <div class=\"view_box\">\\r\\n            <span class=\"view_box_block\">\\r\\n              <span class=\"img_hidden_m\">\\r\\n                <span class=\"pop_quick_menu\">\\r\\n                  <a href=\"/store/books/look.php?p_code=B3346434043\"><img src=\"/images/common/icon_view_detail.png\" alt=\"상세보기\" /></a>\\r\\n                                    <a href=\"javascript:;\" onClick=\"addCart(\\'B3346434043\\',\\'\\',\\'1\\',\\'\\');\"><img src=\"/images/common/icon_add_cart.png\" alt=\"장바구니 담기\" /></a>\\r\\n                                  </span>\\r\\n                <span class=\"price\">21,600<span>원</span></span>\\r\\n                <span class=\"pop_quick_bg\" onClick=\"location=\\'/store/books/look.php?p_code=B3346434043\\'\"></span>\\r\\n              </span>\\r\\n                                          <img src=\"/data/books/B3346434043_m.jpg\" alt=\"일잘러의 비밀, 엑셀 대신 파이썬으로 업무 자동화하기\" class=\"thumb\" />\\r\\n                          </span>\\r\\n          </div>\\r\\n                  <div class=\"view_box\">\\r\\n            <span class=\"view_box_block\">\\r\\n              <span class=\"img_hidden_a\">\\r\\n                <span class=\"pop_quick_menu\">\\r\\n                  <a href=\"/store/books/look.php?p_code=B4622884510\"><img src=\"/images/common/icon_view_detail.png\" alt=\"상세보기\" /></a>\\r\\n                                                    </span>\\r\\n                <span class=\"price\">30,000<span>원</span></span>\\r\\n                <span class=\"pop_quick_bg\" onClick=\"location=\\'/store/books/look.php?p_code=B4622884510\\'\"></span>\\r\\n              </span>\\r\\n                                          <img src=\"/data/books/B4622884510_m.jpg\" alt=\"IT CookBook, UI/UX 디자인 이론과 실무 with 어도비 XD\" class=\"thumb\" />\\r\\n                          </span>\\r\\n          </div>\\r\\n                  <div class=\"view_box\">\\r\\n            <span class=\"view_box_block\">\\r\\n              <span class=\"img_hidden_a\">\\r\\n                <span class=\"pop_quick_menu\">\\r\\n                  <a href=\"/store/books/look.php?p_code=B6318137900\"><img src=\"/images/common/icon_view_detail.png\" alt=\"상세보기\" /></a>\\r\\n                                                    </span>\\r\\n                <span class=\"price\">23,000<span>원</span></span>\\r\\n                <span class=\"pop_quick_bg\" onClick=\"location=\\'/store/books/look.php?p_code=B6318137900\\'\"></span>\\r\\n              </span>\\r\\n                                          <img src=\"/data/books/B6318137900_m.jpg\" alt=\"한번에 통과하는 논문 : SPSS 결과표 작성과 해석 방법\" class=\"thumb\" />\\r\\n                          </span>\\r\\n          </div>\\r\\n                  <div class=\"view_box\">\\r\\n            <span class=\"view_box_block\">\\r\\n              <span class=\"img_hidden_a\">\\r\\n                <span class=\"pop_quick_menu\">\\r\\n                  <a href=\"/store/books/look.php?p_code=B1710834745\"><img src=\"/images/common/icon_view_detail.png\" alt=\"상세보기\" /></a>\\r\\n                                                    </span>\\r\\n                <span class=\"price\">35,000<span>원</span></span>\\r\\n                <span class=\"pop_quick_bg\" onClick=\"location=\\'/store/books/look.php?p_code=B1710834745\\'\"></span>\\r\\n              </span>\\r\\n                                          <img src=\"/data/books/B1710834745_m.jpg\" alt=\"프리드버그 선형대수학\" class=\"thumb\" />\\r\\n                          </span>\\r\\n          </div>\\r\\n                  <div class=\"view_box\">\\r\\n            <span class=\"view_box_block\">\\r\\n              <span class=\"img_hidden_l\">\\r\\n                <span class=\"pop_quick_menu\">\\r\\n                  <a href=\"/store/books/look.php?p_code=B7748014142\"><img src=\"/images/common/icon_view_detail.png\" alt=\"상세보기\" /></a>\\r\\n                                    <a href=\"javascript:;\" onClick=\"addCart(\\'B7748014142\\',\\'\\',\\'1\\',\\'\\');\"><img src=\"/images/common/icon_add_cart.png\" alt=\"장바구니 담기\" /></a>\\r\\n                                  </span>\\r\\n                <span class=\"price\">15,120<span>원</span></span>\\r\\n                <span class=\"pop_quick_bg\" onClick=\"location=\\'/store/books/look.php?p_code=B7748014142\\'\"></span>\\r\\n              </span>\\r\\n                                          <img src=\"/data/books/B7748014142_m.jpg\" alt=\"나는 왜 네 말이 힘들까\" class=\"thumb\" />\\r\\n                          </span>\\r\\n          </div>\\r\\n        </div></li><li><div class=\\'main_book_list\\'>          <div class=\"view_box\">\\r\\n            <span class=\"view_box_block\">\\r\\n              <span class=\"img_hidden_e\">\\r\\n                <span class=\"pop_quick_menu\">\\r\\n                  <a href=\"/store/books/look.php?p_code=B1765707537\"><img src=\"/images/common/icon_view_detail.png\" alt=\"상세보기\" /></a>\\r\\n                                    <a href=\"javascript:;\" onClick=\"addCart(\\'B1765707537\\',\\'\\',\\'1\\',\\'\\');\"><img src=\"/images/common/icon_add_cart.png\" alt=\"장바구니 담기\" /></a>\\r\\n                                  </span>\\r\\n                <span class=\"price\">10,800<span>원</span></span>\\r\\n                <span class=\"pop_quick_bg\" onClick=\"location=\\'/store/books/look.php?p_code=B1765707537\\'\"></span>\\r\\n              </span>\\r\\n                                          <img src=\"/data/books/B1765707537_m.jpg\" alt=\"1학년 한글 떼기\" class=\"thumb\" />\\r\\n                          </span>\\r\\n          </div>\\r\\n                  <div class=\"view_box\">\\r\\n            <span class=\"view_box_block\">\\r\\n              <span class=\"img_hidden_r\">\\r\\n                <span class=\"pop_quick_menu\">\\r\\n                  <a href=\"/store/books/look.php?p_code=E1054933296\"><img src=\"/images/common/icon_view_detail.png\" alt=\"상세보기\" /></a>\\r\\n                                    <a href=\"javascript:;\" onClick=\"addCart(\\'E1054933296\\',\\'\\',\\'1\\',\\'\\');\"><img src=\"/images/common/icon_add_cart.png\" alt=\"장바구니 담기\" /></a>\\r\\n                                  </span>\\r\\n                <span class=\"price\">14,400<span>원</span></span>\\r\\n                <span class=\"pop_quick_bg\" onClick=\"location=\\'/store/books/look.php?p_code=E1054933296\\'\"></span>\\r\\n              </span>\\r\\n                                          <img src=\"/data/ebook/E1054933296_m.jpg\" alt=\"C#과 데이터베이스로 누구나 쉽게 주식 자동매매 시스템 만들기\" class=\"thumb\" />\\r\\n                          </span>\\r\\n          </div>\\r\\n                  <div class=\"view_box\">\\r\\n            <span class=\"view_box_block\">\\r\\n              <span class=\"img_hidden_r\">\\r\\n                <span class=\"pop_quick_menu\">\\r\\n                  <a href=\"/store/books/look.php?p_code=E9745937947\"><img src=\"/images/common/icon_view_detail.png\" alt=\"상세보기\" /></a>\\r\\n                                    <a href=\"javascript:;\" onClick=\"addCart(\\'E9745937947\\',\\'\\',\\'1\\',\\'\\');\"><img src=\"/images/common/icon_add_cart.png\" alt=\"장바구니 담기\" /></a>\\r\\n                                  </span>\\r\\n                <span class=\"price\">12,600<span>원</span></span>\\r\\n                <span class=\"pop_quick_bg\" onClick=\"location=\\'/store/books/look.php?p_code=E9745937947\\'\"></span>\\r\\n              </span>\\r\\n                                          <img src=\"/data/ebook/E9745937947_m.jpg\" alt=\"Apache JMeter : 오픈소스로 대용량 웹 성능 테스트하기\" class=\"thumb\" />\\r\\n                          </span>\\r\\n          </div>\\r\\n                  <div class=\"view_box\">\\r\\n            <span class=\"view_box_block\">\\r\\n              <span class=\"img_hidden_m\">\\r\\n                <span class=\"pop_quick_menu\">\\r\\n                  <a href=\"/store/books/look.php?p_code=B4035028569\"><img src=\"/images/common/icon_view_detail.png\" alt=\"상세보기\" /></a>\\r\\n                                    <a href=\"javascript:;\" onClick=\"addCart(\\'B4035028569\\',\\'\\',\\'1\\',\\'\\');\"><img src=\"/images/common/icon_add_cart.png\" alt=\"장바구니 담기\" /></a>\\r\\n                                  </span>\\r\\n                <span class=\"price\">19,800<span>원</span></span>\\r\\n                <span class=\"pop_quick_bg\" onClick=\"location=\\'/store/books/look.php?p_code=B4035028569\\'\"></span>\\r\\n              </span>\\r\\n                                          <img src=\"/data/books/B4035028569_m.jpg\" alt=\"맛있는 디자인 포토샵&일러스트레이터 CC 2022\" class=\"thumb\" />\\r\\n                          </span>\\r\\n          </div>\\r\\n                  <div class=\"view_box\">\\r\\n            <span class=\"view_box_block\">\\r\\n              <span class=\"img_hidden_m\">\\r\\n                <span class=\"pop_quick_menu\">\\r\\n                  <a href=\"/store/books/look.php?p_code=B6952616555\"><img src=\"/images/common/icon_view_detail.png\" alt=\"상세보기\" /></a>\\r\\n                                    <a href=\"javascript:;\" onClick=\"addCart(\\'B6952616555\\',\\'\\',\\'1\\',\\'\\');\"><img src=\"/images/common/icon_add_cart.png\" alt=\"장바구니 담기\" /></a>\\r\\n                                  </span>\\r\\n                <span class=\"price\">31,500<span>원</span></span>\\r\\n                <span class=\"pop_quick_bg\" onClick=\"location=\\'/store/books/look.php?p_code=B6952616555\\'\"></span>\\r\\n              </span>\\r\\n                                          <img src=\"/data/books/B6952616555_m.jpg\" alt=\"리팩터링 2판 &#40;리팩토링 개정판&#41;\" class=\"thumb\" />\\r\\n                          </span>\\r\\n          </div>\\r\\n        </div></li>        </div>\\r\\n      </li>\\r\\n      \\r\\n    </ul>\\r\\n  </div>\\r\\n  \\r\\n  <div id=\"main_book_btn_best_HBIT\">\\r\\n    <div class=\"btn_book_left\"><a href=\"javascript:;\" class=\"btn_book_prev\" onmouseover=\"view_hover(\\'main_book_btn\\',\\'\\',\\'show\\')\" onmouseout=\"view_hover(\\'main_book_btn\\',\\'\\',\\'hide\\')\"></a></div>\\r\\n    <div class=\"btn_book_right\"><a href=\"javascript:;\" class=\"btn_book_next\" onmouseover=\"view_hover(\\'main_book_btn\\',\\'\\',\\'show\\')\" onmouseout=\"view_hover(\\'main_book_btn\\',\\'\\',\\'hide\\')\"></a></div>\\r\\n  </div>\\r\\n  <div class=\"btn_book_area_page\" style=\"text-align:center;\">\\r\\n    <div class=\"btn_book_page\">paging</div>\\r\\n  </div>\\r\\n  <!-- //책 리스트 -->\\r\\n  \\r\\n  <div class=\"btn_more\"><a href=\"/store/books/bestseller_list.html\"><span>더보기</span></a></div>\\r\\n</section>\\r\\n<!-- //메인 베스트셀러 -->\\r\\n\\r\\n<!-- //메인 책 영역 -->\\r\\n\\r\\n\\r\\n<!-- 메인 네트워크 영역 -->\\r\\n<section id=\"main_sns_area\" name=\"main_sns_area\" onmouseover=\"view_hover(\\'main_network_btn\\',\\'\\',\\'show\\')\" onmouseout=\"view_hover(\\'main_network_btn\\',\\'\\',\\'hide\\')\">\\r\\n  <!-- 타이틀 -->\\r\\n  <div class=\"main_sns_area_tit\">한빛 콘텐츠와 함께!!</div>\\r\\n  \\r\\n  <div class=\"main_sns_area_tit_r\">\\r\\n   <ul class=\"tab_sns\">\\r\\n    <li><a href=\"https://blog.hanbit.co.kr\" target=\"_blank\"><div class=\"sns_blog\"></div></a></li>\\r\\n    <li><a href=\"https://www.instagram.com/hanbit.pub/\" target=\"_blank\"><div class=\"sns_inst\"></div></a></li>\\r\\n    <li><a href=\"https://www.youtube.com/%ED%95%9C%EB%B9%9BTV\" target=\"_blank\"><div class=\"sns_yutu\"></div></a></li>\\r\\n    <li><a href=\"https://m.post.naver.com/hanbitstory\" target=\"_blank\"><div class=\"sns_nv\"></div></a></li>\\r\\n    <li><a href=\"https://www.facebook.com/hanbitmedia\" target=\"_blank\"><div class=\"sns_fb\"></div></a></li>\\r\\n    <li><a href=\"/channel/channel_submain.html\" target=\"_self\"><div class=\"sns_hb\"></div></a></li>\\r\\n  </ul> \\r\\n  </div>\\r\\n  <!-- //타이틀 -->\\r\\n  \\r\\n  <!-- 네트워크 리스트 -->\\r\\n  <div id=\"sns_network\">\\r\\n    <ul>\\r\\n      <li>\\r\\n        <div class=\"main_sns_list_area\">\\r\\n          <div class=\"main_sns_list\">\\r\\n                    \\r\\n            <div class=\"thumb\">\\r\\n              <div class=\"sns_icon_bl\"></div>\\r\\n              <a class=\"\" href=\"https://blog.hanbit.co.kr/284\" target=\"_blank\">\\r\\n\\t\\t\\t\\t  <img src=\"/data/cms/SNS7087861425_thumb.jpg\" alt=\"2022 서울국제도서전을 다녀오다 - 코엑스! 2년만인가!\" class=\"thumb hv1\"/>\\r\\n\\t\\t\\t\\t  <span><p>2022 서울국제도서전을 다녀오다 - 코엑스! 2년만인가!</p></span>\\r\\n              </a>\\r\\n            </div>\\r\\n                    \\r\\n            <div class=\"thumb\">\\r\\n              <div class=\"sns_icon_hb\"></div>\\r\\n              <a class=\"\" href=\"/channel/category/category_view.html?cms_code=CMS2118567228\" target=\"_self\">\\r\\n\\t\\t\\t\\t  <img src=\"/data/cms/CMS2118567228_thumb.jpg\" alt=\"개발자에 의한, 개발자를 위한...“데브렐이란 무엇인가?”\" class=\"thumb hv1\"/>\\r\\n\\t\\t\\t\\t  <span><p>개발자에 의한, 개발자를 위한...“데브렐이란 무엇인가?”</p></span>\\r\\n              </a>\\r\\n            </div>\\r\\n                    \\r\\n            <div class=\"thumb\">\\r\\n              <div class=\"sns_icon_hb\"></div>\\r\\n              <a class=\"\" href=\"/channel/category/category_view.html?cms_code=CMS7108503140\" target=\"_self\">\\r\\n\\t\\t\\t\\t  <img src=\"/data/cms/CMS7108503140_thumb.jpg\" alt=\"어느 구글러의 경험담: 내 코드를 숨기고 싶어요\" class=\"thumb hv1\"/>\\r\\n\\t\\t\\t\\t  <span><p>어느 구글러의 경험담: 내 코드를 숨기고 싶어요</p></span>\\r\\n              </a>\\r\\n            </div>\\r\\n                    \\r\\n            <div class=\"thumb\">\\r\\n              <div class=\"sns_icon_bl\"></div>\\r\\n              <a class=\"\" href=\"https://blog.hanbit.co.kr/282\" target=\"_blank\">\\r\\n\\t\\t\\t\\t  <img src=\"/data/cms/SNS8196601744_thumb.jpg\" alt=\"지나치게 재미있는 아카데미 워크숍♥\" class=\"thumb hv1\"/>\\r\\n\\t\\t\\t\\t  <span><p>지나치게 재미있는 아카데미 워크숍♥</p></span>\\r\\n              </a>\\r\\n            </div>\\r\\n        </div><div class=\"main_sns_list\">            \\r\\n            <div class=\"thumb\">\\r\\n              <div class=\"sns_icon_yt\"></div>\\r\\n              <a class=\"\" href=\"https://youtu.be/Xtih85QeSB8\" target=\"_blank\">\\r\\n\\t\\t\\t\\t  <img src=\"/data/cms/SNS9061808850_thumb.jpg\" alt=\"미라클모닝 시작은 정말 6시일까?_해답드림&#40;미라클모닝 도서 담당자들&#41;\" class=\"thumb hv1\"/>\\r\\n\\t\\t\\t\\t  <span><p>미라클모닝 시작은 정말 6시일까?_해답드림&#40;미라클모닝 도서 담당자들&#41;</p></span>\\r\\n              </a>\\r\\n            </div>\\r\\n                    \\r\\n            <div class=\"thumb\">\\r\\n              <div class=\"sns_icon_hb\"></div>\\r\\n              <a class=\"\" href=\"/channel/category/category_view.html?cms_code=CMS7895414616\" target=\"_self\">\\r\\n\\t\\t\\t\\t  <img src=\"/data/cms/CMS7895414616_thumb.jpg\" alt=\"캐글 대회에서 가장 많은 우승을...XGBoost란?\" class=\"thumb hv1\"/>\\r\\n\\t\\t\\t\\t  <span><p>캐글 대회에서 가장 많은 우승을...XGBoost란?</p></span>\\r\\n              </a>\\r\\n            </div>\\r\\n                    \\r\\n            <div class=\"thumb\">\\r\\n              <div class=\"sns_icon_hb\"></div>\\r\\n              <a class=\"\" href=\"/channel/category/category_view.html?cms_code=CMS9733780399\" target=\"_self\">\\r\\n\\t\\t\\t\\t  <img src=\"/data/cms/CMS9733780399_thumb.jpg\" alt=\"파이썬과 엑셀 비교, python 업무 자동화 사례 알아보기\" class=\"thumb hv1\"/>\\r\\n\\t\\t\\t\\t  <span><p>파이썬과 엑셀 비교, python 업무 자동화 사례 알아보기</p></span>\\r\\n              </a>\\r\\n            </div>\\r\\n                    \\r\\n            <div class=\"thumb\">\\r\\n              <div class=\"sns_icon_hb\"></div>\\r\\n              <a class=\"\" href=\"/channel/category/category_view.html?cms_code=CMS7678783507\" target=\"_self\">\\r\\n\\t\\t\\t\\t  <img src=\"/data/cms/CMS7678783507_thumb.jpg\" alt=\"창시자가 말하는 엘릭서 언어의 탄생, “실용적으로 접근한 함수형 프로그래밍”\" class=\"thumb hv1\"/>\\r\\n\\t\\t\\t\\t  <span><p>창시자가 말하는 엘릭서 언어의 탄생, “실용적으로 접근한 함수형 프로그래밍”</p></span>\\r\\n              </a>\\r\\n            </div>\\r\\n                  </div>\\r\\n        </div>\\r\\n      </li>    \\r\\n    </ul>\\r\\n  </div>\\r\\n  <!-- //네트워크 리스트 -->\\r\\n</section>\\r\\n<!-- //메인 네트워크 영역 -->\\r\\n\\r\\n<!-- 공지사항 -->\\r\\n<section id=\"hb_supprt\">\\r\\n  <!-- 탭메뉴 -->\\r\\n  <div class=\"m_tab\">\\r\\n    <ul class=\"m_tab_menu\">\\r\\n      <li><a href=\"/support/notice_list.html\" class=\"curr\">공지사항</a></li>\\r\\n    </ul>\\r\\n  </div>\\r\\n  <div class=\"btn_more\"><a href=\"/support/notice_list.html\"><span>더보기</span></a></div>\\r\\n\\r\\n  <div class=\"supprt_wrap\">\\r\\n    <div class=\"supprt_content\">\\r\\n    <a class=\"gen_supprt\" href=\"/support/notice_view.html?hnb_idx=318\">\\r\\n      <p>[채용공고] IT활용서 분야 도서 기획편집자&#40;경력&#41; 모집&#40;서류전형 : 22/5/30 ~ 22/6/15&#41;</p>\\r\\n    </a>\\r\\n    <span>2022-05-30</span>\\r\\n  </div>\\r\\n    <div class=\"supprt_content_m\">\\r\\n    <a class=\"gen_supprt\" href=\"/support/notice_view.html?hnb_idx=317\">\\r\\n      <p>BIZSIREN 서버 교체 작업으로 본인인증서비스 중단 안내&#40;22년 5월 26일 03:00~06:00&#41;</p>\\r\\n    </a>\\r\\n    <span>2022-05-25</span>\\r\\n  </div>\\r\\n    <div class=\"supprt_content\">\\r\\n    <a class=\"gen_supprt\" href=\"/support/notice_view.html?hnb_idx=316\">\\r\\n      <p>[채용공고] 한빛라이프 여행 분야 도서 기획/편집자 모집</p>\\r\\n    </a>\\r\\n    <span>2022-03-28</span>\\r\\n  </div>\\r\\n    </div>\\r\\n</section>\\r\\n\\r\\n  <!-- 레이어 팝업 - 카트 담기 -->\\r\\n  \\t<div class=\"add_cart_layer\">\\r\\n\\t\\t<div class=\"bg\"></div>\\r\\n\\t\\t<div class=\"add_cart_pop-layer\" id=\"layer_add_cart\">\\r\\n\\t\\t\\t<div class=\"pop-container\">\\r\\n\\t\\t\\t\\t<div class=\"pop-conts\">\\r\\n\\t\\t\\t\\t\\t\\r\\n\\t\\t\\t\\t\\t<!--content //-->\\r\\n\\t\\t\\t\\t\\t<div class=\"close\"><a class=\"cbtn\" href=\"javascript:;\" onClick=\"\"><img src=\"https://www.hanbit.co.kr/images/common/icon_close.png\" width=\"38\" height=\"38\" alt=\"닫기\" /></a></div>\\r\\n\\t\\t\\t\\t\\t<p class=\"ctxt\"><span id=\\'cartmsg\\'>해당 상품을 장바구니에 담았습니다.</span><span id=\\'cartmsg2\\'>이미 장바구니에 추가된 상품입니다.</span><br />장바구니로 이동하시겠습니까?</p>\\r\\n\\t\\t\\t\\t\\t<div class=\"btn_layer\">\\r\\n\\t\\t\\t\\t\\t\\t<a href=\"/myhanbit/cart.html\">장바구니<br />이동</a>\\r\\n\\t\\t\\t\\t\\t\\t<!--<a href=\"javascript:;\" onClick=\"$(\\'.add_cart_layer\\').hide();\">쇼핑<br />계속</a>-->\\r\\n\\t\\t\\t\\t\\t\\t<a class=\"cbtn\" href=\"javascript:;\" onClick=\"\">쇼핑<br />계속</a>\\r\\n\\t\\t\\t\\t\\t</div>\\r\\n\\t\\t\\t\\t\\t<!--// content-->\\r\\n\\t\\t\\t\\t\\t\\r\\n\\t\\t\\t\\t</div>\\r\\n\\t\\t\\t</div>\\r\\n\\t\\t</div>\\r\\n\\t</div>  <!-- //레이어 팝업 - 카트 담기 -->\\r\\n\\r\\n<!-- Footer -->\\r\\n<footer>\\r\\n  <!-- 공지사항 -->\\r\\n  <div class=\"foot_notice\" style=\"height:6px;\"></div>  <!-- //공지사항 -->\\r\\n  \\r\\n  <div class=\"foot_contents\">\\r\\n    <!-- 하단 메뉴 -->\\r\\n    <div class=\"foot_menu\">\\r\\n      <!-- added by coffin -->\\r\\n            <ul>\\r\\n        <li><a href=\"https://www.hanbit.co.kr/publisher/index.html\" target=\"_blank\">회사소개</a>(<a href=\"https://www.hanbit.co.kr/publisher/index.html\" target=\"_blank\">KOR</a> | <a href=\"https://www.hanbit.co.kr/publisher/index.html?lang=e\" target=\"_blank\">ENG</a>) &#149; <a href=\"https://www.hanbit.co.kr/publisher/contact.html?lang=k\" target=\"_blank\">약도</a></li>\\r\\n        <li><a href=\"https://www.hanbit.co.kr/publisher/write.html\" target=\"_blank\">기획 및 원고 모집</a></li>\\r\\n        <li><a href=\"https://www.hanbit.co.kr/publisher/career.html\" target=\"_blank\">채용</a> &#149; 입사지원 <a href=\"mailto:jobs@hanbit.co.kr\">jobs@hanbit.co.kr</a></li>\\r\\n        <li><a href=\"https://www.hanbit.co.kr/publisher/foreignrights.html\" target=\"_blank\">FOREIGN RIGHTS</a></li>\\r\\n        <li><a href=\"https://www.hanbit.co.kr/member/use_agreement.html\">이용약관</a> &#149; <a href=\"https://www.hanbit.co.kr/member/privacy_policy.html\"><strong>개인정보처리방침</strong></a></li>\\r\\n        <li><a href=\"https://www.hanbit.co.kr/sitemap/sitemap.html\">사이트맵</a></li>\\r\\n      </ul>\\r\\n          </div>\\r\\n    <!-- //하단 메뉴 -->\\r\\n\\r\\n    <!-- SNS -->\\r\\n    <div class=\"foot_sns\">\\r\\n          \\t<!-- 데브레터 구독하기 -->\\r\\n    \\t<div class=\"devletter_contet\">\\r\\n    \\t\\t<div class=\"devletter_sub\">\\r\\n    \\t\\t\\t<span class=\"dev_header_img\">데브레터 구독하기</span><a class=\"dev_sit_a\" href=\"/devletter/\" target=\"_blank\"><span class=\"dev_site_img\">데브레터 보러가기</span></a>\\r\\n    \\t\\t</div>\\r\\n    \\r\\n    \\t\\t <form class=\"subscribe_form\" action=\"/devletter/dev_process.php\" method=\"post\">\\r\\n    \\t\\t\\t<fieldset class=\"subscribe_fiel\">\\r\\n    \\t\\t\\t\\t<legend>구독서비스</legend>\\r\\n    \\t\\t\\t\\t<input type=\"text\" placeholder=\"Your Email Address\" name=\"user_email\"></input>\\r\\n    \\t\\t\\t\\t<button type=\"submit\" class=\"sub_btn\"><span>구독</span></button>\\r\\n    \\t\\t\\t</fieldset>\\r\\n    \\t\\t </form>\\r\\n    \\r\\n    \\t\\t  <div class=\"main_foot_sns\">\\r\\n    \\t\\t\\t  <ul>\\r\\n    \\t\\t\\t\\t<li class=\"main_foot_facebook\"><a href=\"https://www.facebook.com/hanbitmedia\" target=\"_blank\"><span>페이스북</span></a></li>\\r\\n    \\t\\t\\t\\t<li class=\"main_foot_youtube\"><a href=\"https://www.youtube.com/한빛TV\" target=\"_blank\"><span>유튜브</span></a></li>\\r\\n    \\t\\t\\t\\t<li class=\"main_foot_bolg\"><a href=\"http://blog.hanbit.co.kr/\" target=\"_blank\"><span>블로그</span></a></li>\\r\\n    \\t\\t\\t\\t<li class=\"main_foot_naverpost\"><a href=\"https://m.post.naver.com/hanbitstory\" target=\"_blank\"><span>네이버포스트</span></a></li>\\r\\n    \\t\\t\\t  </ul>\\r\\n    \\t\\t  </div>\\r\\n    \\t</div>  \\r\\n    \\t<!-- 데브레터 구독하기 //-->\\r\\n          \\r\\n         </div>\\r\\n    <!-- //SNS -->\\r\\n    \\r\\n    <!-- 한빛 정보 -->\\r\\n    <div class=\"foot_about\">\\r\\n      <div class=\"foot_about_area\">\\r\\n        \\r\\n\\r\\n        <p><strong>한빛미디어㈜ &#149; 한빛아카데미㈜ &#149; 한빛비즈㈜</strong></p>\\r\\n        <p>(03785) 서울 서대문구 연희로2길 62</p>\\r\\n        <p>EMAIL : support@hanbit.co.kr</p>\\r\\n        <p>대표이사 : 김태헌</p>\\r\\n        <p>사업자등록번호 : 220-81-05665 <a href=\"http://www.ftc.go.kr/bizCommPop.do?wrkr_no=2208105665\" target=\"_blank\">[확인]</a></p>\\r\\n        <p>통신판매업신고 : 2017-서울서대문-0671호</p>\\r\\n        <p>호스팅제공자 : (주)누리호스팅</p>        \\r\\n\\r\\n      </div>\\r\\n    </div>\\r\\n    <!-- //한빛 정보 -->\\r\\n  </div>\\r\\n  \\r\\n  <div class=\"copyright\">&copy;1993-2022 Hanbit Publishing Network, Inc. All rights reserved.</div>\\r\\n</footer>\\r\\n<!-- //푸터 -->\\r\\n<div class=\"foot_download_btn\"><a href=\"https://www.hanbit.co.kr/support/supplement_list.html\">자료실</a></div>\\r\\n\\r\\n<!-- 공통 JS 호출 -->\\r\\n<script type=\"text/javascript\" src=\"/js/common.js\"></script>\\r\\n<!-- //공통 JS 호출 -->\\r\\n\\r\\n</body>\\r\\n</html>\\r\\n'"
     },
     "execution_count": 5,
     "metadata": {},
     "output_type": "execute_result"
    }
   ]
  },
  {
   "cell_type": "code",
   "source": [
    "# bytes 자료형의 응답 본문을 추출하고 싶다면? \n",
    "r.content[:700]"
   ],
   "metadata": {
    "id": "53cn8iDMoJzv",
    "pycharm": {
     "name": "#%%\n"
    }
   },
   "execution_count": 6,
   "outputs": [
    {
     "data": {
      "text/plain": "b'<!DOCTYPE html>\\r\\n<html lang=\"ko\">\\r\\n<head>\\r\\n<!--[if lte IE 8]>\\r\\n<script>\\r\\n  location.replace(\\'/support/explorer_upgrade.html\\');\\r\\n</script>\\r\\n<![endif]-->\\r\\n<meta charset=\"utf-8\"/>\\r\\n<title>\\xed\\x95\\x9c\\xeb\\xb9\\x9b\\xec\\xb6\\x9c\\xed\\x8c\\x90\\xeb\\x84\\xa4\\xed\\x8a\\xb8\\xec\\x9b\\x8c\\xed\\x81\\xac</title>\\r\\n<link rel=\"shortcut icon\" href=\"https://www.hanbit.co.kr/images/common/hanbit.ico\"> \\r\\n<meta http-equiv=\"X-UA-Compatible\" content=\"IE=Edge\" />\\r\\n<meta property=\"og:type\" content=\"website\"/>\\r\\n<meta property=\"og:title\" content=\"\\xed\\x95\\x9c\\xeb\\xb9\\x9b\\xec\\xb6\\x9c\\xed\\x8c\\x90\\xeb\\x84\\xa4\\xed\\x8a\\xb8\\xec\\x9b\\x8c\\xed\\x81\\xac\"/>\\r\\n<meta property=\"og:description\" content=\"\\xeb\\x8d\\x94 \\xeb\\x84\\x93\\xec\\x9d\\x80 \\xec\\x84\\xb8\\xec\\x83\\x81, \\xeb\\x8d\\x94 \\xeb\\x82\\x98\\xec\\x9d\\x80 \\xeb\\xaf\\xb8\\xeb\\x9e\\x98\\xeb\\xa5\\xbc \\xec\\x9c\\x84\\xed\\x95\\x9c \\xec\\x95\\x84\\xec\\x8b\\x9c\\xec\\x95\\x84 \\xec\\xb6\\x9c\\xed\\x8c\\x90 \\xeb\\x84\\xa4\\xed\\x8a\\xb8\\xec\\x9b\\x8c\\xed\\x81\\xac :: \\xed\\x95\\x9c\\xeb\\xb9\\x9b\\xeb\\xaf\\xb8\\xeb\\x94\\x94\\xec\\x96\\xb4, \\xed\\x95\\x9c\\xeb\\xb9\\x9b\\xec\\x95\\x84\\xec\\xb9\\xb4\\xeb\\x8d\\xb0\\xeb\\xaf\\xb8, \\xed\\x95\\x9c\\xeb\\xb9\\x9b\\xeb\\xb9\\x84\\xec\\xa6\\x88, \\xed\\x95\\x9c\\xeb\\xb9\\x9b\\xeb\\x9d\\xbc\\xec\\x9d\\xb4\\xed\\x94\\x84, \\xed\\x95\\x9c\\xeb\\xb9\\x9b\\xec\\x97\\x90\\xeb\\x93\\x80\"/>\\r\\n<meta property=\"og:ima'"
     },
     "execution_count": 6,
     "metadata": {},
     "output_type": "execute_result"
    }
   ]
  },
  {
   "cell_type": "markdown",
   "source": [
    "Response 객체의 text 속성을 기반으로 유니코드 문자열을 쉽게 추출이 가능하다 HTTP 헤더에서 응답 본문의 인코딩 방식을 추출하고, str 자료형으로 디코딩하기만 하면 된다.\n",
    "\n",
    "만약 응답 본문이 gzip형식 또는 Deflate 형식으로 압축돼 있는 경우에도 자동으로 해석해 주므로 압축관련 내용을 따로 신경쓸 필요는 없다."
   ],
   "metadata": {
    "id": "2ACYRhA5oRh4",
    "pycharm": {
     "name": "#%% md\n"
    }
   }
  },
  {
   "cell_type": "code",
   "source": [
    "# requests에는 post(), put(), delete(), head(), options()함수가 있으며,\n",
    "# 각각 HTTP 메서드의 POST, PUT, DELETE, HEAD, OPTIONS에 대응"
   ],
   "metadata": {
    "id": "nLaRXkiVF8d2",
    "pycharm": {
     "name": "#%%\n"
    }
   },
   "execution_count": 7,
   "outputs": []
  },
  {
   "cell_type": "code",
   "source": [
    "# POST 메서드로 전송\n",
    "# 키워드 매개변수 data에 딕셔너리를 지정하면 HTML 입력 양식처럼 전송.\n",
    "r = requests.post('http://httpbin.org/post', data={'key1':'value1'})\n",
    "\n",
    "# 요청에 추가할 HTTP 헤더는 키워드 매개변수 headers에 딕셔너리로 지정\n",
    "r = requests.get('http://httpbin.org/get',\n",
    "                 headers = {'user-agent': 'my-crawler/1.0 (+foo@example.com)'})\n",
    "\n",
    "# # Basic 인증은 키워드 매개변수 auth로 지정\n",
    "# r = requests.get('https://api.github.com/user',\n",
    "#                  auth = ('<GitHub의 사용자 ID>', '<GitHub의 비밀번호>' ))\n",
    "\n",
    "# URL 매개변수는 키워드 매개변수 params로도 지정 가능\n",
    "r = requests.get('http://httpbin.org/get', data={'key1':'value1'})"
   ],
   "metadata": {
    "id": "aK_BuoEfzYi4",
    "pycharm": {
     "name": "#%%\n"
    }
   },
   "execution_count": 8,
   "outputs": []
  },
  {
   "cell_type": "markdown",
   "source": [
    "여러 개의 페이지를 연속으로 크롤링 시 Session 객체를 활용하면 효과적이다. Session 객체를 사용하면 HTTP 헤더 또는 Basic 인증 등의 설정을 한 번만 수행한 후 여러 번 재사용 가능하다. 또한 Cookie도 자동으로 지원된다."
   ],
   "metadata": {
    "id": "73gwxoy6IO1m",
    "pycharm": {
     "name": "#%% md\n"
    }
   }
  },
  {
   "cell_type": "markdown",
   "source": [
    "참고로 Session 객체를 사용해 같은 웹사이트에 여러번 요청할 대에는 HTTP Keep-Alive 방식을 활용한다. 한 번 확립한 TCP 요청을 계속 활용하므로 오버헤드가 되는 TCP 커넥션 확립 처리를 줄일 수 있는 장점이 기대된다."
   ],
   "metadata": {
    "id": "a0sg7E5gQ5M3",
    "pycharm": {
     "name": "#%% md\n"
    }
   }
  },
  {
   "cell_type": "markdown",
   "source": [
    "특히 https://로 시작되는 URL에 요청을 보낼 때 TCP 네트워크 확립에 암호화를 위한 TLS/SSL 핸드쉐이크를 하게 되는데, 부하가 많이 걸리므로\n",
    "위에서 언급한 HTTP Keep-Alive 방식으로 서버측 부하도 줄일 수 있다."
   ],
   "metadata": {
    "id": "LlORIRPKRrts",
    "pycharm": {
     "name": "#%% md\n"
    }
   }
  },
  {
   "cell_type": "code",
   "source": [
    "# HTTP 헤더를 여러 번 사용할 시 session 함수 활용\n",
    "s = requests.Session()\n",
    "# s.headers.update(headers = {'user-agent': 'my-crawler/1.0 (+foo@example.com)'})"
   ],
   "metadata": {
    "id": "ILxh9MRrRniO",
    "pycharm": {
     "name": "#%%\n"
    }
   },
   "execution_count": 9,
   "outputs": []
  },
  {
   "cell_type": "code",
   "source": [
    "# 위의 cell에서 설정한 {'user-agent': 'my-crawler/1.0 (+foo@example.com)'}\n",
    "# 와 같은 dict 형태이므로, 일단 주석처리\n",
    "\n",
    "r = s.get('https://naver.com')\n",
    "r = s.get('https://www.daum.net/')"
   ],
   "metadata": {
    "id": "VoTGCZ4jSwsv",
    "pycharm": {
     "name": "#%%\n"
    }
   },
   "execution_count": 10,
   "outputs": []
  },
  {
   "cell_type": "markdown",
   "source": [
    "### HTML 스크레이핑"
   ],
   "metadata": {
    "id": "77loKJCNT2Ya",
    "pycharm": {
     "name": "#%% md\n"
    }
   }
  },
  {
   "cell_type": "markdown",
   "source": [
    "HTML 스크레이핑 할 때 널리 사용되는 라이브러리들의 경우에는 *** XPath와 CSS 선택자***를 활용한다. XPath와 CSS 선택자에 대한 설명과 구체적인 라이브러리로 ***lxml과 Beautiful Soup***을 사용하는 방법 또한 살펴보자."
   ],
   "metadata": {
    "id": "98_ZtYwcT9Lg",
    "pycharm": {
     "name": "#%% md\n"
    }
   }
  },
  {
   "cell_type": "markdown",
   "source": [
    "*    lxml은 C언어로 작성된 XML처리와 관련된 유명한 라이브러리인 libxml2와 libxslt의 파이썬 파인딩이다. libxml2와 libxslt은 C언어 기반이므로 속도가 매우 빠르다.\n",
    "\n",
    "    또한 단순히 C언어 라이브러리를 wrapping 했다는 것 뿐 만 아니라 파이썬에서 사용하기 쉬운 API를 제공한다는 것 또한 특징이다. \n",
    "\n",
    "    단점을 굳이 꼽자면 기능이 너무 많기에 처음 사용하는 사용자의 적응문제 정도가 있다."
   ],
   "metadata": {
    "id": "jjvzIScTc9tx",
    "pycharm": {
     "name": "#%% md\n"
    }
   }
  },
  {
   "cell_type": "markdown",
   "source": [
    "*    Beautiful Soup은 간단하고 이해하기 쉬운 직관적인 API를 활용해 데이터를 추출할 수 있다는 것이 특징이다. 과거부터 굉장히 인기있고 자주 쓰이는 라이브러리 중 하나이며, 내부적으로 사용되는 파서(parser)를 목적에 맞게 변경도 가능하다."
   ],
   "metadata": {
    "id": "edoZf8audoOQ",
    "pycharm": {
     "name": "#%% md\n"
    }
   }
  },
  {
   "cell_type": "markdown",
   "source": [
    "*    pyquery는 자바스크립트(JSP)의 라이브러리인 JQuery와 같은 인터페이스로 스크레이핑(Scraping)할 수 있게 해주는 것이 특징이다. jQuery의 $함수에 CSS 선택자를 매개변수로 지정하는 것과 비슷한 형태로 사용하므로 jQuery에 익숙한 사용자라면 매우 친숙할 것이다. 참고로 pyquery의 경우 내부적으로는 lxml을 활용한다."
   ],
   "metadata": {
    "id": "j1BDdjtwfEBh",
    "pycharm": {
     "name": "#%% md\n"
    }
   }
  },
  {
   "cell_type": "markdown",
   "source": [
    "스크레이핑을 위한 라이브러리의 종류는 매우 많으나, 초보자의 경우 lxml을 경험해보기를 권한다. 그 이유는 Scraping이라는 처리는 꽤나 무거운 처리이므로 빠른 처리가 가능한 C기반의 라이브러리를 활용하는 것이 권장되는데 lxml이 그렇기 때문이다. "
   ],
   "metadata": {
    "id": "SeeyBQrPfcza",
    "pycharm": {
     "name": "#%% md\n"
    }
   }
  },
  {
   "cell_type": "markdown",
   "source": [
    "### XPath와 CSS 선택자의 개념"
   ],
   "metadata": {
    "id": "tqy1j_aDf5Kx",
    "pycharm": {
     "name": "#%% md\n"
    }
   }
  },
  {
   "cell_type": "markdown",
   "source": [
    "* XPath(XML Path Language) - XML의 특정 요소를 지정할 때 사용되는 언어이다. 예를 들어, //body/h1이라고 지정하면 body 요소의 직접적인 자식중에 h1 태그를 선택하게 됨\n",
    "\n",
    "\n",
    "\n",
    "* CSS 선택자 - CSS로 요소를 디자인할 때 사용하는 표기 방법이다. 예를 들어, body > h1이라고 표기하면 body 요소의 직접적인 자식중에 h1 태그를 선택하게 됨"
   ],
   "metadata": {
    "id": "cHlhE6LbgBaC",
    "pycharm": {
     "name": "#%% md\n"
    }
   }
  },
  {
   "cell_type": "markdown",
   "source": [
    "|대상요소|XPath|CSS 선택자|\n",
    "|-----|-----|-----|\n",
    "|title요소|//title| title|\n",
    "|body 요소의 후손 중 h1 요소|//body//h1|body h1|\n",
    "|body 요소의 자식 중 h1 요소|//body/h1|body > h1|\n",
    "|body 요소의 내부의 모든 자식요소|//body/* | body > *|\n",
    "|Id 속성이 \"main\"인 요소|id(\"main\") 또는 //*[@id=\"main\"] | #main|\n",
    "|class 속성으로 \"active\"를 포함하고 있는 li 요소|//li[@class and contains(concat(' ', normalize-space(@class),' '), 'active')]|li.active\n",
    "|type 속성이 \"text\"인 input 요소|//input[@type=\"text\"]|input[type=\"text\"]\n",
    "|href 속성이 \"http://\"로 시작하는 a 요소|//a[starts-with(@href, \"http://\")]|a[href^=\"http://\"]\n",
    "|src 속성이 \".jpg\"로 끝나는 img 요소|//img[ends-with(@src, \".jpg\"]| img[src$=\".jpg\"]\n",
    "|요소의 내부에 \"개요\"라는 텍스트 노드가 포함돼 있는 h2 요소|//h2[contains(.,\"개요\")]|h2:contains(\"개요\") ※ cssselect의 독자적인 구현이므로 표준 CSS 사양은 아니다\n",
    "|요소의 바로 아래에 \"개요\"라는 텍스트 노드가 포함돼 있는 h2 요소|//h2[text() = \"개요\")]|※ CSS 선택자로는 표현 불가능\n",
    "\n"
   ],
   "metadata": {
    "id": "EAxrDt3hpPND",
    "pycharm": {
     "name": "#%% md\n"
    }
   }
  },
  {
   "cell_type": "code",
   "source": [
    "# lxml로 스크레이핑 시도 \n",
    "!pip install lxml"
   ],
   "metadata": {
    "id": "7Zdc2d_XqwrU",
    "pycharm": {
     "name": "#%%\n"
    }
   },
   "execution_count": 11,
   "outputs": [
    {
     "name": "stdout",
     "output_type": "stream",
     "text": [
      "Requirement already satisfied: lxml in c:\\anaconda3\\lib\\site-packages (4.6.3)\n"
     ]
    }
   ]
  },
  {
   "cell_type": "code",
   "source": [
    "!pip install cssselect"
   ],
   "metadata": {
    "id": "p-2Menkg2w_p",
    "pycharm": {
     "name": "#%%\n"
    }
   },
   "execution_count": 12,
   "outputs": [
    {
     "name": "stdout",
     "output_type": "stream",
     "text": [
      "Collecting cssselect\n",
      "  Downloading cssselect-1.1.0-py2.py3-none-any.whl (16 kB)\n",
      "Installing collected packages: cssselect\n",
      "Successfully installed cssselect-1.1.0\n"
     ]
    }
   ]
  },
  {
   "cell_type": "code",
   "source": [
    "## lxml 사용법\n",
    "import lxml.html\n",
    "\n",
    "# parse 함수로 파일 경로를 지정 가능하다\n",
    "tree = lxml.html.parse('/content/drive/MyDrive/Colab Notebooks/98_crawling_scraping/full_book_list.html')\n",
    "\n",
    "\n",
    "# parse()함수로 URL 지정도 가능하지만, 추출 시 미세한 설정을 따로 할 수 없으므로 추천되진 않는다.\n",
    "tree = lxml.html.parse('http://example.com')\n",
    "\n",
    "# 파일 객체를 지정하여 parsing 할 수도 있다.\n",
    "from urllib.request import urlopen\n",
    "tree = lxml.html.parse(urlopen('http://example.com'))\n",
    "\n",
    "type(tree) # parsing하면 ElementTree객체로 추출된다\n",
    "\n",
    "html = tree.getroot() #getroot()메서드로 html 루트 요소의 HtmlElement 객체를 추출할 수 잇다.\n",
    "type(html)"
   ],
   "metadata": {
    "id": "n3bPHDFJ4hY5",
    "pycharm": {
     "name": "#%%\n"
    }
   },
   "execution_count": 13,
   "outputs": [
    {
     "ename": "OSError",
     "evalue": "Error reading file '/content/drive/MyDrive/Colab Notebooks/98_crawling_scraping/full_book_list.html': failed to load external entity \"/content/drive/MyDrive/Colab Notebooks/98_crawling_scraping/full_book_list.html\"",
     "output_type": "error",
     "traceback": [
      "\u001B[1;31m---------------------------------------------------------------------------\u001B[0m",
      "\u001B[1;31mOSError\u001B[0m                                   Traceback (most recent call last)",
      "\u001B[1;32m~\\AppData\\Local\\Temp/ipykernel_16200/1338685872.py\u001B[0m in \u001B[0;36m<module>\u001B[1;34m\u001B[0m\n\u001B[0;32m      3\u001B[0m \u001B[1;33m\u001B[0m\u001B[0m\n\u001B[0;32m      4\u001B[0m \u001B[1;31m# parse 함수로 파일 경로를 지정 가능하다\u001B[0m\u001B[1;33m\u001B[0m\u001B[1;33m\u001B[0m\u001B[0m\n\u001B[1;32m----> 5\u001B[1;33m \u001B[0mtree\u001B[0m \u001B[1;33m=\u001B[0m \u001B[0mlxml\u001B[0m\u001B[1;33m.\u001B[0m\u001B[0mhtml\u001B[0m\u001B[1;33m.\u001B[0m\u001B[0mparse\u001B[0m\u001B[1;33m(\u001B[0m\u001B[1;34m'/content/drive/MyDrive/Colab Notebooks/98_crawling_scraping/full_book_list.html'\u001B[0m\u001B[1;33m)\u001B[0m\u001B[1;33m\u001B[0m\u001B[1;33m\u001B[0m\u001B[0m\n\u001B[0m\u001B[0;32m      6\u001B[0m \u001B[1;33m\u001B[0m\u001B[0m\n\u001B[0;32m      7\u001B[0m \u001B[1;33m\u001B[0m\u001B[0m\n",
      "\u001B[1;32mC:\\anaconda3\\lib\\site-packages\\lxml\\html\\__init__.py\u001B[0m in \u001B[0;36mparse\u001B[1;34m(filename_or_url, parser, base_url, **kw)\u001B[0m\n\u001B[0;32m    937\u001B[0m     \u001B[1;32mif\u001B[0m \u001B[0mparser\u001B[0m \u001B[1;32mis\u001B[0m \u001B[1;32mNone\u001B[0m\u001B[1;33m:\u001B[0m\u001B[1;33m\u001B[0m\u001B[1;33m\u001B[0m\u001B[0m\n\u001B[0;32m    938\u001B[0m         \u001B[0mparser\u001B[0m \u001B[1;33m=\u001B[0m \u001B[0mhtml_parser\u001B[0m\u001B[1;33m\u001B[0m\u001B[1;33m\u001B[0m\u001B[0m\n\u001B[1;32m--> 939\u001B[1;33m     \u001B[1;32mreturn\u001B[0m \u001B[0metree\u001B[0m\u001B[1;33m.\u001B[0m\u001B[0mparse\u001B[0m\u001B[1;33m(\u001B[0m\u001B[0mfilename_or_url\u001B[0m\u001B[1;33m,\u001B[0m \u001B[0mparser\u001B[0m\u001B[1;33m,\u001B[0m \u001B[0mbase_url\u001B[0m\u001B[1;33m=\u001B[0m\u001B[0mbase_url\u001B[0m\u001B[1;33m,\u001B[0m \u001B[1;33m**\u001B[0m\u001B[0mkw\u001B[0m\u001B[1;33m)\u001B[0m\u001B[1;33m\u001B[0m\u001B[1;33m\u001B[0m\u001B[0m\n\u001B[0m\u001B[0;32m    940\u001B[0m \u001B[1;33m\u001B[0m\u001B[0m\n\u001B[0;32m    941\u001B[0m \u001B[1;33m\u001B[0m\u001B[0m\n",
      "\u001B[1;32msrc/lxml/etree.pyx\u001B[0m in \u001B[0;36mlxml.etree.parse\u001B[1;34m()\u001B[0m\n",
      "\u001B[1;32msrc/lxml/parser.pxi\u001B[0m in \u001B[0;36mlxml.etree._parseDocument\u001B[1;34m()\u001B[0m\n",
      "\u001B[1;32msrc/lxml/parser.pxi\u001B[0m in \u001B[0;36mlxml.etree._parseDocumentFromURL\u001B[1;34m()\u001B[0m\n",
      "\u001B[1;32msrc/lxml/parser.pxi\u001B[0m in \u001B[0;36mlxml.etree._parseDocFromFile\u001B[1;34m()\u001B[0m\n",
      "\u001B[1;32msrc/lxml/parser.pxi\u001B[0m in \u001B[0;36mlxml.etree._BaseParser._parseDocFromFile\u001B[1;34m()\u001B[0m\n",
      "\u001B[1;32msrc/lxml/parser.pxi\u001B[0m in \u001B[0;36mlxml.etree._ParserContext._handleParseResultDoc\u001B[1;34m()\u001B[0m\n",
      "\u001B[1;32msrc/lxml/parser.pxi\u001B[0m in \u001B[0;36mlxml.etree._handleParseResult\u001B[1;34m()\u001B[0m\n",
      "\u001B[1;32msrc/lxml/parser.pxi\u001B[0m in \u001B[0;36mlxml.etree._raiseParseError\u001B[1;34m()\u001B[0m\n",
      "\u001B[1;31mOSError\u001B[0m: Error reading file '/content/drive/MyDrive/Colab Notebooks/98_crawling_scraping/full_book_list.html': failed to load external entity \"/content/drive/MyDrive/Colab Notebooks/98_crawling_scraping/full_book_list.html\""
     ]
    }
   ]
  },
  {
   "cell_type": "code",
   "source": [
    "# lxml로 스크레이핑\n",
    "import lxml.html\n",
    "\n",
    "# html read and make HtmlElement by method getroot()\n",
    "tree = lxml.html.parse('/content/drive/MyDrive/Colab Notebooks/98_crawling_scraping/full_book_list.html')\n",
    "html = tree.getroot()"
   ],
   "metadata": {
    "id": "YLd2U1ay1Jry",
    "pycharm": {
     "name": "#%%\n"
    }
   },
   "execution_count": null,
   "outputs": []
  },
  {
   "cell_type": "code",
   "source": [
    "# cssselect()메서드로 a요소의 리스트를 추출하고 for문을 수행한다.\n",
    "for a in html.cssselect('a'):\n",
    "    # href 속성과 글자를 추출한다.\n",
    "    print(a.get('href'), a.text)"
   ],
   "metadata": {
    "id": "1tnCqxgF7S8l",
    "pycharm": {
     "name": "#%%\n"
    }
   },
   "execution_count": null,
   "outputs": []
  },
  {
   "cell_type": "markdown",
   "source": [
    "### Beautiful Soup로 스크레이핑하기"
   ],
   "metadata": {
    "id": "9unE9XSF7kD7",
    "pycharm": {
     "name": "#%% md\n"
    }
   }
  },
  {
   "cell_type": "markdown",
   "source": [
    "Beautiful Soup은 기억하기 쉬운 단순한 API가 특징인 스크레이핑 라이브러리이다. 목적에 따라 파서(parser)를 선택해서 사용할 수 있다.\n",
    "\n",
    "참고로 Beautiful Soup은 2012년에 version 4가 공개된 이후 크게 변경되지 않고 있다. 기본적인 API는 변경되지 않았지만 내부적인 패키지명 또는 모듈 이름 등이 조금 수정되었다. "
   ],
   "metadata": {
    "id": "gMLxXvK79jMr",
    "pycharm": {
     "name": "#%% md\n"
    }
   }
  },
  {
   "cell_type": "code",
   "source": [
    "! pip install beautifulsoup4"
   ],
   "metadata": {
    "id": "KCeqHUWs-ovd",
    "pycharm": {
     "name": "#%%\n"
    }
   },
   "execution_count": null,
   "outputs": []
  },
  {
   "cell_type": "code",
   "source": [
    "from bs4 import BeautifulSoup # bs4 모듈에서 BeautifulSoup 클래스를 호출한다\n",
    "\n",
    "# 첫 번째 매개변수에 file object를 지정해 BeautifulSoup 객체를 생성 \n",
    "# BeautifulSoup()에는 파일 이름 또는 URL을 지정할 수 없다.\n",
    "# 두 번째 매개변수에는 parser의 종류를 지정 가능하다\n",
    "\n",
    "with open('/content/drive/MyDrive/Colab Notebooks/98_crawling_scraping/full_book_list.html') as f:\n",
    "    soup = BeautifulSoup(f,'html.parser')\n",
    "\n",
    "\n",
    "# find_all()메서드로 a 요소를 추출하고 for문 적용\n",
    "for a in soup.find_all('a'):\n",
    "    # href 속성과 글자 추출\n",
    "    print(a.get('href'), a.text)\n"
   ],
   "metadata": {
    "id": "EDdfPDiN-fFM",
    "pycharm": {
     "name": "#%%\n"
    }
   },
   "execution_count": null,
   "outputs": []
  },
  {
   "cell_type": "code",
   "source": [
    "## parsing 된 데이터 soup\n",
    "soup"
   ],
   "metadata": {
    "id": "Rmms30EPUQ8g",
    "pycharm": {
     "name": "#%%\n"
    }
   },
   "execution_count": null,
   "outputs": []
  },
  {
   "cell_type": "code",
   "source": [
    "## soup.h1처럼 태그 이름을 가진 속성으로 h1 요소를 추출할 수 있다.\n",
    "soup.h1\n",
    "print(type(soup.h1)) #요소는 Tag 객체이다."
   ],
   "metadata": {
    "id": "NJ4qJx52VV35",
    "pycharm": {
     "name": "#%%\n"
    }
   },
   "execution_count": null,
   "outputs": []
  },
  {
   "cell_type": "code",
   "source": [
    "# name 속성으로 태그 이름 추출 가능\n",
    "print(soup.h1.name)\n",
    "\n",
    "# string 속성은 str을 상속한 NavigableString 객체\n",
    "print(soup.h1.string)\n",
    "print(type(soup.h1.string))\n",
    "\n",
    "# text 속성은 요소 내부 모든 문자열을 결합하여 문자열 추출\n",
    "print(soup.ul.text)\n",
    "print(type(soup.ul.text)) # 자료형은 str\n",
    "\n",
    "print(soup.h1.get('id'))"
   ],
   "metadata": {
    "id": "dO6EyWn-Viyg",
    "pycharm": {
     "name": "#%%\n"
    }
   },
   "execution_count": null,
   "outputs": []
  },
  {
   "cell_type": "markdown",
   "source": [
    "### feedparser를 활용하여 RSS 스크레이핑"
   ],
   "metadata": {
    "id": "evopbwW_WEA5",
    "pycharm": {
     "name": "#%% md\n"
    }
   }
  },
  {
   "cell_type": "code",
   "source": [
    "!pip install feedparser"
   ],
   "metadata": {
    "id": "fcnbXoHZXzFz",
    "pycharm": {
     "name": "#%%\n"
    }
   },
   "execution_count": null,
   "outputs": []
  },
  {
   "cell_type": "code",
   "source": [
    "import feedparser\n",
    "\n",
    "d= feedparser.parse('https://www.aladin.co.kr/rss/special_new/351')\n",
    "\n",
    "# 항목 조회\n",
    "for entry in d.entries:\n",
    "    print('이름:', entry.title)\n",
    "    print('타이틀:', entry.link)\n",
    "    print()"
   ],
   "metadata": {
    "id": "eLtVgT0BX0mp",
    "pycharm": {
     "name": "#%%\n"
    }
   },
   "execution_count": null,
   "outputs": []
  },
  {
   "cell_type": "code",
   "source": [
    "# end of file"
   ],
   "metadata": {
    "id": "Ry2ypO1QX29p",
    "pycharm": {
     "name": "#%%\n"
    }
   },
   "execution_count": null,
   "outputs": []
  }
 ]
}