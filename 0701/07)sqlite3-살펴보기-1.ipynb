{
 "cells": [
  {
   "cell_type": "markdown",
   "id": "bdcb2ef6",
   "metadata": {
    "pycharm": {
     "name": "#%% md\n"
    }
   },
   "source": [
    "### ***sqlite3와 Jupyter Notebook의 python과의 연결을 위해서는 미리 sqlite3를 설치하시길 바랍니다***"
   ]
  },
  {
   "cell_type": "markdown",
   "id": "3cc83e04",
   "metadata": {
    "pycharm": {
     "name": "#%% md\n"
    }
   },
   "source": [
    "\"sqlite3 라이브러리\"의 버전과 \"SQLite(DB 엔진)\"버전을 출력해보자"
   ]
  },
  {
   "cell_type": "code",
   "execution_count": 13,
   "id": "91b4fc0e",
   "metadata": {
    "pycharm": {
     "name": "#%%\n"
    }
   },
   "outputs": [
    {
     "name": "stdout",
     "output_type": "stream",
     "text": [
      "2.6.0\n",
      "3.36.0\n"
     ]
    }
   ],
   "source": [
    "import sqlite3\n",
    "\n",
    "print(sqlite3.version)\n",
    "print(sqlite3.sqlite_version)"
   ]
  },
  {
   "cell_type": "code",
   "execution_count": 14,
   "id": "e6d74c6b",
   "metadata": {
    "pycharm": {
     "name": "#%%\n"
    }
   },
   "outputs": [
    {
     "data": {
      "text/plain": [
       "<sqlite3.Cursor at 0x22e34006f10>"
      ]
     },
     "execution_count": 14,
     "metadata": {},
     "output_type": "execute_result"
    }
   ],
   "source": [
    "# DB 생성 (오토 커밋)\n",
    "# isolation_level= None이라고 하는 것은 쿼리문을 실행하여\n",
    "# DB에 즉시 반영, 즉시 자동 커밋(commit)을 해보기 위함이다.\n",
    "\n",
    "conn = sqlite3.connect(\"test.db\", isolation_level = None)\n",
    "\n",
    "# 커서 획득\n",
    "c = conn.cursor()\n",
    "\n",
    "# 테이블 생성 (데이터 타입은 TEST, NUMERIC, INTEGER, REAL, BLOB 등)\n",
    "c.execute(\"CREATE TABLE IF NOT EXISTS table1 \\\n",
    "(id integet PRIMARY KEY, name text, birthday text)\")"
   ]
  },
  {
   "cell_type": "markdown",
   "id": "fd99cf5d",
   "metadata": {
    "pycharm": {
     "name": "#%% md\n"
    }
   },
   "source": [
    "### 데이터 삽입하기"
   ]
  },
  {
   "cell_type": "code",
   "execution_count": 10,
   "id": "b461bc00",
   "metadata": {
    "pycharm": {
     "name": "#%%\n"
    }
   },
   "outputs": [
    {
     "ename": "IntegrityError",
     "evalue": "UNIQUE constraint failed: table1.id",
     "output_type": "error",
     "traceback": [
      "\u001B[1;31m---------------------------------------------------------------------------\u001B[0m",
      "\u001B[1;31mIntegrityError\u001B[0m                            Traceback (most recent call last)",
      "\u001B[1;32m~\\AppData\\Local\\Temp/ipykernel_16764/1835911450.py\u001B[0m in \u001B[0;36m<module>\u001B[1;34m\u001B[0m\n\u001B[0;32m      1\u001B[0m \u001B[1;31m# 데이터 삽입 방법 1\u001B[0m\u001B[1;33m\u001B[0m\u001B[1;33m\u001B[0m\u001B[0m\n\u001B[1;32m----> 2\u001B[1;33m c.execute(\"INSERT INTO table1 \\\n\u001B[0m\u001B[0;32m      3\u001B[0m     VALUES(1,'PARK','2022-00-00')\")\n",
      "\u001B[1;31mIntegrityError\u001B[0m: UNIQUE constraint failed: table1.id"
     ]
    }
   ],
   "source": [
    "# 데이터 삽입 방법 1\n",
    "c.execute(\"INSERT INTO table1 \\\n",
    "    VALUES(1,'PARK','2022-00-00')\")"
   ]
  },
  {
   "cell_type": "code",
   "execution_count": 11,
   "id": "57556505",
   "metadata": {
    "pycharm": {
     "name": "#%%\n"
    }
   },
   "outputs": [
    {
     "data": {
      "text/plain": [
       "<sqlite3.Cursor at 0x22e3413df10>"
      ]
     },
     "execution_count": 11,
     "metadata": {},
     "output_type": "execute_result"
    }
   ],
   "source": [
    "# 데이터 삽입 방법 2\n",
    "c.execute(\"INSERT INTO table1(id, name, birthday)\\\n",
    "    VALUES(?,?,?)\",\\\n",
    "         (2,'KIM','2021-00-00'))"
   ]
  },
  {
   "cell_type": "code",
   "execution_count": 12,
   "id": "f4b0ac54",
   "metadata": {
    "pycharm": {
     "name": "#%%\n"
    }
   },
   "outputs": [
    {
     "data": {
      "text/plain": [
       "<sqlite3.Cursor at 0x22e3413df10>"
      ]
     },
     "execution_count": 12,
     "metadata": {},
     "output_type": "execute_result"
    }
   ],
   "source": [
    "test_tuple = (\n",
    "    (3,'LEE', '2020-00-00'),\n",
    "    (4,'CHOI', '2019-00-00'),\n",
    "    (5,'JUNG', '2018-00-00')\n",
    ")\n",
    "\n",
    "c.executemany(\"INSERT INTO table1(id, name, birthday) VALUES(?,?,?)\", test_tuple)"
   ]
  },
  {
   "cell_type": "markdown",
   "id": "114987b0",
   "metadata": {
    "pycharm": {
     "name": "#%% md\n"
    }
   },
   "source": [
    "### 데이터 불러오기"
   ]
  },
  {
   "cell_type": "code",
   "execution_count": 29,
   "id": "6f8da308",
   "metadata": {
    "pycharm": {
     "name": "#%%\n"
    }
   },
   "outputs": [
    {
     "data": {
      "text/plain": [
       "<sqlite3.Cursor at 0x22e34006f10>"
      ]
     },
     "execution_count": 29,
     "metadata": {},
     "output_type": "execute_result"
    }
   ],
   "source": [
    "c.execute(\"SELECT * FROM table1\")"
   ]
  },
  {
   "cell_type": "code",
   "execution_count": 30,
   "id": "7edbee67",
   "metadata": {
    "pycharm": {
     "name": "#%%\n"
    }
   },
   "outputs": [
    {
     "name": "stdout",
     "output_type": "stream",
     "text": [
      "(1, 'PARK', '2022-00-00')\n",
      "(2, 'KIM', '2021-00-00')\n",
      "[(3, 'LEE', '2020-00-00'), (4, 'CHOI', '2019-00-00'), (5, 'JUNG', '2018-00-00')]\n"
     ]
    }
   ],
   "source": [
    "print(c.fetchone()) # c.fetchone()을 사용하면 한 줄씩 출력하는 걸 확인가능하다\n",
    "print(c.fetchone()) # 단, 이미 출력한 이후의 자료들만 차례대로 출력이 된다.\n",
    "print(c.fetchall()) # c.fetchall()함수를 활용하여 전체를 출력한다.\n",
    "                    # 다만, 이미 읽었던 지점 이후부터 전체가 출력된다."
   ]
  },
  {
   "cell_type": "markdown",
   "id": "8abe3a20",
   "metadata": {
    "pycharm": {
     "name": "#%% md\n"
    }
   },
   "source": [
    "만약 전체 데이터를 출력하고 싶다면 아래와 같이 전체를 다시 실행 후 다시 진행해야 한다"
   ]
  },
  {
   "cell_type": "code",
   "execution_count": 31,
   "id": "2297038f",
   "metadata": {
    "pycharm": {
     "name": "#%%\n"
    }
   },
   "outputs": [
    {
     "name": "stdout",
     "output_type": "stream",
     "text": [
      "[(1, 'PARK', '2022-00-00'), (2, 'KIM', '2021-00-00'), (3, 'LEE', '2020-00-00'), (4, 'CHOI', '2019-00-00'), (5, 'JUNG', '2018-00-00')]\n"
     ]
    }
   ],
   "source": [
    "c.execute(\"SELECT * FROM table1\")\n",
    "print(c.fetchall())"
   ]
  },
  {
   "cell_type": "markdown",
   "id": "da035ee9",
   "metadata": {
    "pycharm": {
     "name": "#%% md\n"
    }
   },
   "source": [
    "위의 데이터는 리스트로 출력되는 것을 확인가능한데, 결국 이는 for문을 적용할 수 있음을 의미한다."
   ]
  },
  {
   "cell_type": "code",
   "execution_count": 32,
   "id": "62a9805f",
   "metadata": {
    "pycharm": {
     "name": "#%%\n"
    }
   },
   "outputs": [
    {
     "name": "stdout",
     "output_type": "stream",
     "text": [
      "(1, 'PARK', '2022-00-00')\n",
      "(2, 'KIM', '2021-00-00')\n",
      "(3, 'LEE', '2020-00-00')\n",
      "(4, 'CHOI', '2019-00-00')\n",
      "(5, 'JUNG', '2018-00-00')\n"
     ]
    }
   ],
   "source": [
    "# 방법 1\n",
    "c.execute(\"SELECT * FROM table1\")\n",
    "for row in c.fetchall():\n",
    "    print(row)"
   ]
  },
  {
   "cell_type": "code",
   "execution_count": 33,
   "id": "87a0e771",
   "metadata": {
    "pycharm": {
     "name": "#%%\n"
    }
   },
   "outputs": [
    {
     "name": "stdout",
     "output_type": "stream",
     "text": [
      "(1, 'PARK', '2022-00-00')\n",
      "(2, 'KIM', '2021-00-00')\n",
      "(3, 'LEE', '2020-00-00')\n",
      "(4, 'CHOI', '2019-00-00')\n",
      "(5, 'JUNG', '2018-00-00')\n"
     ]
    }
   ],
   "source": [
    "# 방법 2\n",
    "for row in c.execute(\"SELECT * FROM table1\"):\n",
    "    print(row)"
   ]
  },
  {
   "cell_type": "markdown",
   "id": "38f18893",
   "metadata": {
    "pycharm": {
     "name": "#%% md\n"
    }
   },
   "source": [
    "### 데이터 조회하기 (필터링)"
   ]
  },
  {
   "cell_type": "markdown",
   "id": "5d26219b",
   "metadata": {
    "pycharm": {
     "name": "#%% md\n"
    }
   },
   "source": [
    "SQL에서 WHERE문을 써야 합니다. "
   ]
  },
  {
   "cell_type": "code",
   "execution_count": 38,
   "id": "71ba0acf",
   "metadata": {
    "pycharm": {
     "name": "#%%\n"
    }
   },
   "outputs": [
    {
     "name": "stdout",
     "output_type": "stream",
     "text": [
      "param1 (1, 'PARK', '2022-00-00')\n",
      "param1 []\n"
     ]
    }
   ],
   "source": [
    "# 방법 1\n",
    "param1 = (1,)\n",
    "c.execute('SELECT * FROM table1 WHERE id=?', param1)\n",
    "print('param1', c.fetchone())\n",
    "print('param1', c.fetchall())"
   ]
  },
  {
   "cell_type": "code",
   "execution_count": 40,
   "id": "78ff900f",
   "metadata": {
    "pycharm": {
     "name": "#%%\n"
    }
   },
   "outputs": [
    {
     "name": "stdout",
     "output_type": "stream",
     "text": [
      "param1 (1, 'PARK', '2022-00-00')\n",
      "param1 []\n"
     ]
    }
   ],
   "source": [
    "# 방법 2\n",
    "param2 = 1\n",
    "c.execute(\"SELECT * FROM table1 WHERE id='%s'\" % param2) # %s %d %f\n",
    "print('param2', c.fetchone())\n",
    "print('param2', c.fetchall())"
   ]
  },
  {
   "cell_type": "code",
   "execution_count": 41,
   "id": "c889ed12",
   "metadata": {
    "pycharm": {
     "name": "#%%\n"
    }
   },
   "outputs": [
    {
     "name": "stdout",
     "output_type": "stream",
     "text": [
      "param3 (1, 'PARK', '2022-00-00')\n",
      "param3 [(2, 'KIM', '2021-00-00'), (3, 'LEE', '2020-00-00'), (4, 'CHOI', '2019-00-00'), (5, 'JUNG', '2018-00-00')]\n"
     ]
    }
   ],
   "source": [
    "# 방법 3\n",
    "c.execute(\"SELECT * FROM table1 WHERE id=ID\", {\"Id\":1}) # %s %d %f\n",
    "print('param3', c.fetchone())\n",
    "print('param3', c.fetchall())"
   ]
  },
  {
   "cell_type": "code",
   "execution_count": 42,
   "id": "6e8a5d51",
   "metadata": {
    "pycharm": {
     "name": "#%%\n"
    }
   },
   "outputs": [
    {
     "name": "stdout",
     "output_type": "stream",
     "text": [
      "param4 [(1, 'PARK', '2022-00-00'), (4, 'CHOI', '2019-00-00')]\n"
     ]
    }
   ],
   "source": [
    "# 방법 4\n",
    "param4 = (1,4)\n",
    "c.execute(\"SELECT * FROM table1 WHERE id IN(?,?)\", param4) \n",
    "print('param4', c.fetchall())"
   ]
  },
  {
   "cell_type": "code",
   "execution_count": 45,
   "id": "e84df557",
   "metadata": {
    "pycharm": {
     "name": "#%%\n"
    }
   },
   "outputs": [
    {
     "name": "stdout",
     "output_type": "stream",
     "text": [
      "param6 [(1, 'PARK', '2022-00-00'), (4, 'CHOI', '2019-00-00')]\n"
     ]
    }
   ],
   "source": [
    "# 방법 5\n",
    "c.execute(\"SELECT * FROM table1 WHERE id IN('%d','%d')\" % (1,4)) \n",
    "print('param6', c.fetchall())"
   ]
  },
  {
   "cell_type": "code",
   "execution_count": 47,
   "id": "86f2b9ae",
   "metadata": {
    "pycharm": {
     "name": "#%%\n"
    }
   },
   "outputs": [
    {
     "name": "stdout",
     "output_type": "stream",
     "text": [
      "param6 [(1, 'PARK', '2022-00-00'), (4, 'CHOI', '2019-00-00')]\n"
     ]
    }
   ],
   "source": [
    "# 방법 6\n",
    "c.execute(\"SELECT * FROM table1 WHERE id=:id1 OR id=:id2\", {\"id1\":1, \"id2\":4})\n",
    "print('param6', c.fetchall())"
   ]
  },
  {
   "cell_type": "markdown",
   "id": "427eeaf5",
   "metadata": {
    "pycharm": {
     "name": "#%% md\n"
    }
   },
   "source": [
    "### 데이터 수정하기"
   ]
  },
  {
   "cell_type": "code",
   "execution_count": 48,
   "id": "e40fa22d",
   "metadata": {
    "pycharm": {
     "name": "#%%\n"
    }
   },
   "outputs": [
    {
     "data": {
      "text/plain": [
       "<sqlite3.Cursor at 0x22e34006f10>"
      ]
     },
     "execution_count": 48,
     "metadata": {},
     "output_type": "execute_result"
    }
   ],
   "source": [
    "# 방법1\n",
    "c.execute(\"UPDATE table1 SET name=? WHERE id=?\", ('NEW1', 1))"
   ]
  },
  {
   "cell_type": "code",
   "execution_count": 49,
   "id": "ea72613a",
   "metadata": {
    "pycharm": {
     "name": "#%%\n"
    }
   },
   "outputs": [
    {
     "data": {
      "text/plain": [
       "<sqlite3.Cursor at 0x22e34006f10>"
      ]
     },
     "execution_count": 49,
     "metadata": {},
     "output_type": "execute_result"
    }
   ],
   "source": [
    "# 방법2\n",
    "c.execute(\"UPDATE table1 SET name=:name WHERE id=:id\", {\"name\":'NEW2', 'id':3})"
   ]
  },
  {
   "cell_type": "code",
   "execution_count": 51,
   "id": "99060956",
   "metadata": {
    "pycharm": {
     "name": "#%%\n"
    }
   },
   "outputs": [
    {
     "data": {
      "text/plain": [
       "<sqlite3.Cursor at 0x22e34006f10>"
      ]
     },
     "execution_count": 51,
     "metadata": {},
     "output_type": "execute_result"
    }
   ],
   "source": [
    "# 방법2\n",
    "c.execute(\"UPDATE table1 SET name='%s' WHERE id='%s'\" % ('NEW3', 5))"
   ]
  },
  {
   "cell_type": "code",
   "execution_count": 52,
   "id": "f5641b2d",
   "metadata": {
    "pycharm": {
     "name": "#%%\n"
    }
   },
   "outputs": [
    {
     "name": "stdout",
     "output_type": "stream",
     "text": [
      "(1, 'NEW1', '2022-00-00')\n",
      "(2, 'KIM', '2021-00-00')\n",
      "(3, 'NEW2', '2020-00-00')\n",
      "(4, 'CHOI', '2019-00-00')\n",
      "(5, 'NEW3', '2018-00-00')\n"
     ]
    }
   ],
   "source": [
    "# 수정된 데이터 확인\n",
    "for row in c.execute('SELECT * FROM table1'):\n",
    "    print(row)"
   ]
  },
  {
   "cell_type": "markdown",
   "id": "f2c116e8",
   "metadata": {
    "pycharm": {
     "name": "#%% md\n"
    }
   },
   "source": [
    "### 데이터 삭제하기"
   ]
  },
  {
   "cell_type": "code",
   "execution_count": 53,
   "id": "ca98e397",
   "metadata": {
    "pycharm": {
     "name": "#%%\n"
    }
   },
   "outputs": [
    {
     "data": {
      "text/plain": [
       "<sqlite3.Cursor at 0x22e34006f10>"
      ]
     },
     "execution_count": 53,
     "metadata": {},
     "output_type": "execute_result"
    }
   ],
   "source": [
    "# 방법 1\n",
    "c.execute(\"DELETE FROM table1 WHERE id=?\", (1,))"
   ]
  },
  {
   "cell_type": "code",
   "execution_count": 54,
   "id": "c9939903",
   "metadata": {
    "pycharm": {
     "name": "#%%\n"
    }
   },
   "outputs": [
    {
     "data": {
      "text/plain": [
       "<sqlite3.Cursor at 0x22e34006f10>"
      ]
     },
     "execution_count": 54,
     "metadata": {},
     "output_type": "execute_result"
    }
   ],
   "source": [
    "# 방법 2\n",
    "c.execute(\"DELETE FROM table1 WHERE id=:id\", {'id':3})"
   ]
  },
  {
   "cell_type": "code",
   "execution_count": 56,
   "id": "6e063e1d",
   "metadata": {
    "pycharm": {
     "name": "#%%\n"
    }
   },
   "outputs": [
    {
     "data": {
      "text/plain": [
       "<sqlite3.Cursor at 0x22e34006f10>"
      ]
     },
     "execution_count": 56,
     "metadata": {},
     "output_type": "execute_result"
    }
   ],
   "source": [
    "# 방법 3\n",
    "c.execute(\"DELETE FROM table1 WHERE id='%s'\" % 5)"
   ]
  },
  {
   "cell_type": "code",
   "execution_count": 57,
   "id": "c4170dda",
   "metadata": {
    "pycharm": {
     "name": "#%%\n"
    }
   },
   "outputs": [
    {
     "name": "stdout",
     "output_type": "stream",
     "text": [
      "(2, 'KIM', '2021-00-00')\n",
      "(4, 'CHOI', '2019-00-00')\n"
     ]
    }
   ],
   "source": [
    "# 확인\n",
    "for row in c.execute('SELECT * FROM table1'):\n",
    "    print(row)"
   ]
  },
  {
   "cell_type": "code",
   "execution_count": 58,
   "id": "85d9e8ae",
   "metadata": {
    "pycharm": {
     "name": "#%%\n"
    }
   },
   "outputs": [],
   "source": [
    "### 모든 테이블의 데이터 전체를 지우려면 conn.execute()안에 쿼리문을 써주면 된다."
   ]
  },
  {
   "cell_type": "code",
   "execution_count": 59,
   "id": "20dfcb13",
   "metadata": {
    "pycharm": {
     "name": "#%%\n"
    }
   },
   "outputs": [
    {
     "name": "stdout",
     "output_type": "stream",
     "text": [
      "2\n"
     ]
    }
   ],
   "source": [
    "# 방법1\n",
    "# conn.execute(\"DELETE FROM table1\")\n",
    "\n",
    "# 방법1\n",
    "print(conn.execute(\"DELETE FROM table1\").rowcount) # rowcount property는 지운 행의 개수를 보여줌"
   ]
  },
  {
   "cell_type": "markdown",
   "id": "cad8946f",
   "metadata": {
    "pycharm": {
     "name": "#%% md\n"
    }
   },
   "source": [
    "2,4의 데이터 2개만 있었을 때에 2개를 지웠으므로 2라는 숫자가 나왔다."
   ]
  },
  {
   "cell_type": "markdown",
   "id": "ef739470",
   "metadata": {
    "pycharm": {
     "name": "#%% md\n"
    }
   },
   "source": [
    "### sqlite3 - 연결해제"
   ]
  },
  {
   "cell_type": "markdown",
   "id": "594dd8d6",
   "metadata": {
    "pycharm": {
     "name": "#%% md\n"
    }
   },
   "source": [
    "DB를 연결해서 CRUD를 수행하였다면 마지막엔 그 연결을 해제하여야 한다. 그래서 항상 conn.close()로 마무리를 한다."
   ]
  },
  {
   "cell_type": "markdown",
   "id": "7dfffce7",
   "metadata": {
    "pycharm": {
     "name": "#%% md\n"
    }
   },
   "source": [
    "### DB 백업하기 (dump)"
   ]
  },
  {
   "cell_type": "markdown",
   "id": "b24140a2",
   "metadata": {
    "pycharm": {
     "name": "#%% md\n"
    }
   },
   "source": [
    "DB는 항상 dump를 통해 백업을 해놓는게 중요하다. "
   ]
  },
  {
   "cell_type": "code",
   "execution_count": 60,
   "id": "12a3e6ff",
   "metadata": {
    "pycharm": {
     "name": "#%%\n"
    }
   },
   "outputs": [
    {
     "name": "stdout",
     "output_type": "stream",
     "text": [
      "Completed.\n"
     ]
    }
   ],
   "source": [
    "with conn:\n",
    "    with open('dump.sql', 'w') as f:\n",
    "        for line in conn.iterdump():\n",
    "            f.write('%s\\n' % line)\n",
    "        print('Completed.')"
   ]
  },
  {
   "cell_type": "markdown",
   "id": "2d1784a7",
   "metadata": {
    "pycharm": {
     "name": "#%% md\n"
    }
   },
   "source": [
    "위의 코드를 수행하고 sql파일을 열어보면 아래의 형태와 같이 호출된다."
   ]
  },
  {
   "cell_type": "code",
   "execution_count": null,
   "id": "e571904b",
   "metadata": {
    "pycharm": {
     "name": "#%%\n"
    }
   },
   "outputs": [],
   "source": [
    "BEGIN TRANSACTION;\n",
    "CREATE TABLE table1(id integer PRIMARY KEY, name text, birthday text);\n",
    "INSERT INTO \"table1\" VALUES(1,'LEE','1987-00-00');\n",
    "INSERT INTO \"table1\" VALUES(2,'KIM','1990-00-00');\n",
    "INSERT INTO \"table1\" VALUES(3,'PARK','1991-00-00');\n",
    "INSERT INTO \"table1\" VALUES(4,'CHOI','1999-00-00');\n",
    "INSERT INTO \"table1\" VALUES(5,'JUNG','1989-00-00');\n",
    "COMMIT;"
   ]
  },
  {
   "cell_type": "code",
   "execution_count": 63,
   "id": "3cb00965",
   "metadata": {
    "pycharm": {
     "name": "#%%\n"
    }
   },
   "outputs": [],
   "source": [
    "# end of files"
   ]
  }
 ],
 "metadata": {
  "kernelspec": {
   "display_name": "Python 3 (ipykernel)",
   "language": "python",
   "name": "python3"
  },
  "language_info": {
   "codemirror_mode": {
    "name": "ipython",
    "version": 3
   },
   "file_extension": ".py",
   "mimetype": "text/x-python",
   "name": "python",
   "nbconvert_exporter": "python",
   "pygments_lexer": "ipython3",
   "version": "3.9.7"
  }
 },
 "nbformat": 4,
 "nbformat_minor": 5
}