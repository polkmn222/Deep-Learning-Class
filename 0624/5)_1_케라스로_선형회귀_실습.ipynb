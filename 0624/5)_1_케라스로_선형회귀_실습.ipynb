{
 "cells": [
  {
   "cell_type": "markdown",
   "metadata": {
    "id": "Hvc5Tw43jV-W"
   },
   "source": [
    "다음주 즈음에 케라스를 활용한 선형회귀를 구현해 보겠지만 기본적인 케라스 모델을 구현하는 방식은 아래와 같이 이루어집니다. \n",
    "\n",
    "Sequential로 model이라는 이름의 모델을 생성하고, 그에 따른 add함수를 통해\n",
    "입력과 출력 벡터의 차원과 같은 필요 정보들을 추가합니다."
   ]
  },
  {
   "cell_type": "code",
   "execution_count": 1,
   "metadata": {
    "id": "qIbmMENmjRNs"
   },
   "outputs": [],
   "source": [
    "# ## 예시코드로써 실행이 되진 않습니다.\n",
    "# model = Sequential()\n",
    "# model.add(keras.layers.Dense(1, input_dim=1))"
   ]
  },
  {
   "cell_type": "code",
   "execution_count": 2,
   "metadata": {
    "id": "RCDbXfzWj0yF"
   },
   "outputs": [],
   "source": [
    "import numpy as np\n",
    "import matplotlib.pyplot as plt\n",
    "from tensorflow.keras.models import Sequential\n",
    "from tensorflow.keras.layers import Dense\n",
    "from tensorflow.keras import optimizers"
   ]
  },
  {
   "cell_type": "code",
   "execution_count": 3,
   "metadata": {
    "id": "6fqs6yNSj1mb"
   },
   "outputs": [
    {
     "name": "stderr",
     "output_type": "stream",
     "text": [
      "C:\\anaconda3\\lib\\site-packages\\keras\\optimizers\\optimizer_v2\\gradient_descent.py:108: UserWarning: The `lr` argument is deprecated, use `learning_rate` instead.\n",
      "  super(SGD, self).__init__(name, **kwargs)\n"
     ]
    },
    {
     "name": "stdout",
     "output_type": "stream",
     "text": [
      "Epoch 1/2\n",
      "1/1 [==============================] - 0s 364ms/step - loss: 3960.9714 - mse: 3960.9714\n",
      "Epoch 2/2\n",
      "1/1 [==============================] - 0s 5ms/step - loss: 488.4547 - mse: 488.4547\n"
     ]
    },
    {
     "data": {
      "text/plain": [
       "<keras.callbacks.History at 0x16e9e29da60>"
      ]
     },
     "execution_count": 3,
     "metadata": {},
     "output_type": "execute_result"
    }
   ],
   "source": [
    "X = [1,2,3,4,5,6,7,8,9] # 공부하는 시간\n",
    "y = [11,22,33,44,53,66,77,87,95] # 각 공부하는 시간에 매핑되는 성적\n",
    "\n",
    "model = Sequential()\n",
    "\n",
    "# 출력 y의 차원은 1. 입력 x의 차원(input_dim)은 1이다\n",
    "# 선형회귀를 구현할 것이므로 activation(활성화 함수라고도)구현하려는 \n",
    "# 함수를 의미한다. \n",
    "\n",
    "model.add(Dense(1, input_dim=1, activation='linear'))\n",
    "\n",
    "# sgd는 경사 하강법을 의미. 학습률(Learing_rate, 이하 lr)은 0.01\n",
    "sgd = optimizers.SGD(lr=0.01)\n",
    "\n",
    "# 손실함수(loss function)은 평균제곱오차 mse를 사용한다.\n",
    "model.compile(optimizer=sgd, loss='mse', metrics=['mse'])\n",
    "\n",
    "# 주어진 x와 y데이터에 대해서 오차를 최소화하는 작업을 300번 시도해보자.\n",
    "model.fit(X,y, epochs=2)"
   ]
  },
  {
   "cell_type": "code",
   "execution_count": 4,
   "metadata": {
    "id": "u9RQpXYpn3ic"
   },
   "outputs": [
    {
     "name": "stdout",
     "output_type": "stream",
     "text": [
      "1/1 [==============================] - 0s 82ms/step\n"
     ]
    },
    {
     "data": {
      "text/plain": [
       "[<matplotlib.lines.Line2D at 0x16ea5c75880>,\n",
       " <matplotlib.lines.Line2D at 0x16ea5c758b0>]"
      ]
     },
     "execution_count": 4,
     "metadata": {},
     "output_type": "execute_result"
    },
    {
     "data": {
      "image/png": "[encoded data removed]",
      "text/plain": [
       "<Figure size 432x288 with 1 Axes>"
      ]
     },
     "metadata": {
      "needs_background": "light"
     },
     "output_type": "display_data"
    }
   ],
   "source": [
    "plt.plot(X, model.predict(X), 'b', X,y, 'k.')"
   ]
  },
  {
   "cell_type": "code",
   "execution_count": 5,
   "metadata": {
    "id": "nMnXIKdn28iH"
   },
   "outputs": [],
   "source": [
    "# end of files"
   ]
  }
 ],
 "metadata": {
  "colab": {
   "collapsed_sections": [],
   "name": "5)-1_케라스로_선형회귀_실습.ipynb",
   "private_outputs": true,
   "provenance": []
  },
  "kernelspec": {
   "display_name": "Python 3 (ipykernel)",
   "language": "python",
   "name": "python3"
  },
  "language_info": {
   "codemirror_mode": {
    "name": "ipython",
    "version": 3
   },
   "file_extension": ".py",
   "mimetype": "text/x-python",
   "name": "python",
   "nbconvert_exporter": "python",
   "pygments_lexer": "ipython3",
   "version": "3.9.7"
  }
 },
 "nbformat": 4,
 "nbformat_minor": 1
}
