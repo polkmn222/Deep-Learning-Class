{
  "nbformat": 4,
  "nbformat_minor": 0,
  "metadata": {
    "colab": {
      "name": "13)PDF_python_예제.ipynb",
      "private_outputs": true,
      "provenance": []
    },
    "kernelspec": {
      "name": "python3",
      "display_name": "Python 3"
    },
    "language_info": {
      "name": "python"
    }
  },
  "cells": [
    {
      "cell_type": "code",
      "source": [
        "!pip install PyPDF2"
      ],
      "metadata": {
        "id": "cJaKTo-i43sw"
      },
      "execution_count": null,
      "outputs": []
    },
    {
      "cell_type": "code",
      "execution_count": null,
      "metadata": {
        "id": "6M3sG--P2X33"
      },
      "outputs": [],
      "source": [
        "## PyPDF2모듈을 사용하여 Python으로 PDF 읽기\n",
        "\n",
        "from PyPDF2 import PdfFileReader\n",
        "temp = open('/content/drive/MyDrive/Colab Notebooks/98_crawling_scraping/woori.pdf', 'rb')\n",
        "PDF_read = PdfFileReader(temp)\n",
        "first_page = PDF_read.getPage(0)\n",
        "print(first_page.extractText())"
      ]
    },
    {
      "cell_type": "code",
      "source": [
        "!pip install PDFplumber"
      ],
      "metadata": {
        "id": "val3PwxX5bGY"
      },
      "execution_count": null,
      "outputs": []
    },
    {
      "cell_type": "code",
      "source": [
        "## pdfplumber모듈을 사용하여 Python으로 PDF 읽기\n",
        "\n",
        "import pdfplumber\n",
        "with pdfplumber.open('/content/drive/MyDrive/Colab Notebooks/98_crawling_scraping/woori.pdf') as temp:\n",
        "  first_page = temp.pages[0]\n",
        "  print(first_page.extract_text())"
      ],
      "metadata": {
        "id": "TeSLYAzH46_H"
      },
      "execution_count": null,
      "outputs": []
    },
    {
      "cell_type": "code",
      "source": [
        "!pip install pdfminer.six"
      ],
      "metadata": {
        "id": "bAdNRP8g7TU0"
      },
      "execution_count": null,
      "outputs": []
    },
    {
      "cell_type": "code",
      "source": [
        "from pdfminer.high_level import extract_text\n",
        "PDF_read = extract_text('/content/drive/MyDrive/Colab Notebooks/98_crawling_scraping/woori.pdf')\n",
        "print(PDF_read)"
      ],
      "metadata": {
        "id": "7vEKzCjk5btv"
      },
      "execution_count": null,
      "outputs": []
    },
    {
      "cell_type": "code",
      "source": [
        ""
      ],
      "metadata": {
        "id": "6JKuYpaT8CmA"
      },
      "execution_count": null,
      "outputs": []
    }
  ]
}