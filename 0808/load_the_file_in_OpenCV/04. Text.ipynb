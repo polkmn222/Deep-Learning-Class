{
 "cells": [
  {
   "cell_type": "markdown",
   "id": "5d870f56",
   "metadata": {},
   "source": [
    "## 4. Text"
   ]
  },
  {
   "cell_type": "markdown",
   "id": "7fc632bb",
   "metadata": {},
   "source": [
    "###  OpenCV 에서 사용하는 글꼴 종류\n",
    "1. cv2.FONT_HERSHEY_SIMPLEX : 보통 크기의 산 세리프(sans-serif) 글꼴\n",
    "1. cv2.FONT_HERSHEY_PLAIN : 작은 크기의 산 세리프(sans-serif) 글꼴\n",
    "1. cv2.FONT_HERSHEY_SCRIPT_SIMPLEX : 필기체 스타일 글꼴\n",
    "\n",
    "1. cv2.FONT_HERSHEY_TRIPLEX : 보통 크기의 세리프(sans-serif) 글꼴\n",
    "1. cv2.FONT_ITALIC : 기울임 (이탤릭체)"
   ]
  },
  {
   "cell_type": "code",
   "execution_count": 26,
   "id": "8b1c1dae",
   "metadata": {},
   "outputs": [],
   "source": [
    "import cv2\n",
    "import numpy as np\n",
    "\n",
    "img = np.zeros((480,640,3), dtype = np.uint8)\n",
    "\n",
    "SCALE = 2 # Text Size \n",
    "COLOR = (255,255,255) # 흰색\n",
    "THICKNESS = 2 # 두께 // 소수점은 안됩니다. \n",
    "\n",
    "\n",
    "cv2.putText(img, \"Leon_Park SIMPLEX\", (20,50), cv2.FONT_HERSHEY_SIMPLEX, SCALE, COLOR, THICKNESS)\n",
    "#      그릴위치, 텍스트 내용, 시작위치, 폰트종류, 크기, 색깔, 두께\n",
    "cv2.putText(img, \"Leon_Park PLAIN\", (20,150), cv2.FONT_HERSHEY_PLAIN, SCALE, COLOR, THICKNESS)\n",
    "cv2.putText(img, \"Leon_SCRIPT_SCRIPT_SIMPLEX\", (20,250), cv2.FONT_HERSHEY_SCRIPT_SIMPLEX, SCALE, COLOR, THICKNESS)\n",
    "cv2.putText(img, \"Leon_TRIPLEX\", (20,350), cv2.FONT_HERSHEY_TRIPLEX, SCALE, COLOR, THICKNESS)\n",
    "cv2.putText(img, \"Leon_ITALIC\", (20,450), cv2.FONT_HERSHEY_TRIPLEX | cv2.FONT_ITALIC, SCALE, COLOR, THICKNESS)\n",
    "\n",
    "cv2.imshow('img_text', img)\n",
    "cv2.waitKey(0)\n",
    "cv2.destroyAllWindows()"
   ]
  },
  {
   "cell_type": "markdown",
   "id": "a2edf77b",
   "metadata": {},
   "source": [
    "## 한글적용"
   ]
  },
  {
   "cell_type": "code",
   "execution_count": 32,
   "id": "64a997bd",
   "metadata": {},
   "outputs": [],
   "source": [
    "import cv2\n",
    "import numpy as np\n",
    "\n",
    "img = np.zeros((480,640,3), dtype = np.uint8)\n",
    "\n",
    "SCALE = 2 # Text Size \n",
    "COLOR = (255,255,255) # 흰색\n",
    "THICKNESS = 2 # 두께 // 소수점은 안됩니다. \n",
    "\n",
    "# 한글의 깨짐 현상 - OpenCV에서 제공하지 않는 한글\n",
    "# 우회할 방법을 고민해야...\n",
    "cv2.putText(img, \"닥터박\", (20,50), cv2.FONT_HERSHEY_SIMPLEX, SCALE, COLOR, THICKNESS)\n",
    "\n",
    "cv2.imshow('img_text', img)\n",
    "cv2.waitKey(0)\n",
    "cv2.destroyAllWindows()"
   ]
  },
  {
   "cell_type": "markdown",
   "id": "065924ad",
   "metadata": {},
   "source": [
    "###  한글 우회 방법 - 타 라이브러리를 활용"
   ]
  },
  {
   "cell_type": "code",
   "execution_count": 33,
   "id": "b640b2dc",
   "metadata": {},
   "outputs": [],
   "source": [
    "import cv2\n",
    "import numpy as np\n",
    "# PIL (Python Image Library)\n",
    "from PIL import ImageFont, ImageDraw, Image\n",
    "\n",
    "def Leon_putText(src, text, pos, font_size, font_color):\n",
    "    img_pil = Image.fromarray(src)\n",
    "    draw = ImageDraw.Draw(img_pil)\n",
    "    font_set = ImageFont.truetype('fonts/gulim.ttc', font_size)\n",
    "    draw.text(pos, text, font= font_set, fill = font_color)\n",
    "    \n",
    "    return np.array(img_pil)\n",
    "\n",
    "img_text = np.zeros((480,640,3), dtype = np.uint8)\n",
    "\n",
    "FONT_SIZE = 30 \n",
    "COLOR = (255,255,255) # 흰색\n",
    "\n",
    "# 한글의 깨짐 현상 - OpenCV에서 제공하지 않는 한글\n",
    "# 우회할 방법을 고민해야...\n",
    "img_kor = Leon_putText(img, \"닥터박\", (20,50), FONT_SIZE, COLOR)\n",
    "\n",
    "cv2.imshow('img_text', img_kor)\n",
    "cv2.waitKey(0)\n",
    "cv2.destroyAllWindows()"
   ]
  },
  {
   "cell_type": "code",
   "execution_count": 25,
   "id": "61a8054a",
   "metadata": {},
   "outputs": [],
   "source": [
    "# end of file"
   ]
  }
 ],
 "metadata": {
  "kernelspec": {
   "display_name": "Python 3 (ipykernel)",
   "language": "python",
   "name": "python3"
  },
  "language_info": {
   "codemirror_mode": {
    "name": "ipython",
    "version": 3
   },
   "file_extension": ".py",
   "mimetype": "text/x-python",
   "name": "python",
   "nbconvert_exporter": "python",
   "pygments_lexer": "ipython3",
   "version": "3.9.7"
  }
 },
 "nbformat": 4,
 "nbformat_minor": 5
}
