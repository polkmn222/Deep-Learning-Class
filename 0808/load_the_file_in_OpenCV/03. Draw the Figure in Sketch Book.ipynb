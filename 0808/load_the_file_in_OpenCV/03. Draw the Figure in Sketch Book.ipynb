{
 "cells": [
  {
   "cell_type": "markdown",
   "id": "b3cccbed",
   "metadata": {},
   "source": [
    "## 03. 도형 그리기"
   ]
  },
  {
   "cell_type": "markdown",
   "id": "0e29eac3",
   "metadata": {},
   "source": [
    "## Make the White or Black SketchBook "
   ]
  },
  {
   "cell_type": "code",
   "execution_count": 2,
   "id": "0b22b18b",
   "metadata": {},
   "outputs": [],
   "source": [
    "import cv2\n",
    "import numpy as np\n",
    "\n",
    "# row 480 X col 640, 3channel (RGB)에 해당\n",
    "# 그러나 opencv에서는 GBR 순서이다.\n",
    "\n",
    "img = np.zeros((480,640,3), dtype = np.uint8)\n",
    "img[:] = (0,0,255) # 전체 값을 255로 세팅 :: 흰 색이 출력됨\n",
    "#print(img)\n",
    "\n",
    "cv2.imshow('img', img)\n",
    "cv2.waitKey(0)\n",
    "cv2.destroyAllWindows()"
   ]
  },
  {
   "cell_type": "markdown",
   "id": "6d0249dc",
   "metadata": {},
   "source": [
    "### 일부 영역을 색칠"
   ]
  },
  {
   "cell_type": "code",
   "execution_count": 3,
   "id": "e3cefb3b",
   "metadata": {},
   "outputs": [],
   "source": [
    "import cv2\n",
    "import numpy as np\n",
    "\n",
    "\n",
    "img = np.zeros((480,640,3), dtype = np.uint8) \n",
    "\n",
    "## 만약 row를 100~200\n",
    "## col을 200~300으로 지정한다면?\n",
    "\n",
    "# 흰 색으로 채워보자. (255,255,255) \n",
    "img[100:200, 200:300] = (255,255,255) \n",
    "\n",
    "cv2.imshow('img', img)\n",
    "cv2.waitKey(0)\n",
    "cv2.destroyAllWindows()"
   ]
  },
  {
   "cell_type": "markdown",
   "id": "27fee172",
   "metadata": {},
   "source": [
    "### 직선 그리기\n",
    "직선의 종류 (Line_Type)\n",
    "\n",
    "1. cv2.LINE_4: 상하좌우 4방향으로 연결된 선\n",
    "1. cv2.LINE_8: 대각선을 포함한 8 방향으로 연결된 선 (default)\n",
    "1. cv2.LINE_AA: Anti-aliasing :: 부드러운 선"
   ]
  },
  {
   "cell_type": "code",
   "execution_count": 7,
   "id": "861eb1cd",
   "metadata": {},
   "outputs": [],
   "source": [
    "import cv2\n",
    "import numpy as np\n",
    "\n",
    "img_line = np.zeros((480,640,3), dtype = np.uint8)\n",
    "\n",
    "COLOR = (0,255,255) # yellow = BGR 순서 -> Green + Red = Yellow\n",
    "THICKNESS = 3 # 두께\n",
    "\n",
    "\n",
    "cv2.line(img_line, (50,100),(400,50),COLOR, THICKNESS, cv2.LINE_8) \n",
    "## 그릴파일 = img_line, 시작점 = (X1, y1), 끝 점 = (X2, y2) :: matplotlib과 비슷\n",
    "\n",
    "cv2.line(img_line, (50,200),(400,150),COLOR, THICKNESS, cv2.LINE_4) \n",
    "cv2.line(img_line, (50,300),(400,250),COLOR, THICKNESS, cv2.LINE_AA) \n",
    "\n",
    "\n",
    "cv2.imshow('img_line', img_line)\n",
    "cv2.waitKey(0)\n",
    "cv2.destroyAllWindows()"
   ]
  },
  {
   "attachments": {
    "image-5.png": {
     "image/png": "[encoded data removed]"
    }
   },
   "cell_type": "markdown",
   "id": "6162aace",
   "metadata": {},
   "source": [
    "![image-5.png](attachment:image-5.png)"
   ]
  },
  {
   "cell_type": "markdown",
   "id": "73ff7e8f",
   "metadata": {},
   "source": [
    "### 원 그리기"
   ]
  },
  {
   "cell_type": "code",
   "execution_count": 12,
   "id": "4bda6809",
   "metadata": {},
   "outputs": [],
   "source": [
    "import cv2\n",
    "import numpy as np\n",
    "\n",
    "img_circle = np.zeros((480,640,3), dtype = np.uint8)\n",
    "\n",
    "COLOR = (255,255,0) # B + G = light Blue? \n",
    "RADIUS = 50 # 반지름\n",
    "THICKNESS = 15 # 두께\n",
    "\n",
    "cv2.circle(img_circle, (200,100), RADIUS, COLOR, THICKNESS, cv2.LINE_AA)\n",
    "# img_cricle = 그릴 파일, (200,100) = 원의 중심점, RADIUS = 반지름, 색, 선의 두께, 선의 종류\n",
    "\n",
    "# 색을 채우고 싶다면? :: cv2.FILLED \n",
    "cv2.circle(img_circle, (200,100), RADIUS, COLOR, cv2.FILLED, cv2.LINE_AA) \n",
    "\n",
    "\n",
    "cv2.imshow('img_circle', img_circle)\n",
    "cv2.waitKey(0)\n",
    "cv2.destroyAllWindows()"
   ]
  },
  {
   "cell_type": "markdown",
   "id": "c8fbdd05",
   "metadata": {},
   "source": [
    "### 사각형 그리기"
   ]
  },
  {
   "cell_type": "code",
   "execution_count": 24,
   "id": "aec517c1",
   "metadata": {},
   "outputs": [],
   "source": [
    "import cv2\n",
    "import numpy as np\n",
    "\n",
    "img_rectangle = np.zeros((480,640,3), dtype = np.uint8)\n",
    "\n",
    "COLOR = (0,255,0) # Green \n",
    "THICKNESS = 5 # 두께\n",
    "\n",
    "cv2.rectangle(img_rectangle, (100,100),(200,200), COLOR, THICKNESS )\n",
    "\n",
    "# 2번째 그림 \n",
    "cv2.rectangle(img_rectangle, (300,100),(400,300), COLOR, cv2.FILLED )\n",
    "\n",
    "cv2.imshow('img_rectangle', img_rectangle)\n",
    "cv2.waitKey(0)\n",
    "cv2.destroyAllWindows()"
   ]
  },
  {
   "cell_type": "markdown",
   "id": "41e7a22b",
   "metadata": {},
   "source": [
    "### 다각형 그리기"
   ]
  },
  {
   "cell_type": "code",
   "execution_count": 23,
   "id": "2f980fe6",
   "metadata": {},
   "outputs": [],
   "source": [
    "import cv2\n",
    "import numpy as np\n",
    "\n",
    "img_polygon = np.zeros((480,640,3), dtype = np.uint8)\n",
    "\n",
    "COLOR = (255,255,255) # Green \n",
    "THICKNESS = 5 # 두께\n",
    "\n",
    "pts1 = np.array([[100,100],[200,100],[100,200]])\n",
    "pts2 = np.array([[200,100],[300,100],[300,200]])\n",
    "\n",
    "# cv2.polylines(img_polygon, [pts1], True, COLOR, THICKNESS, cv2.LINE_AA) # True 닫힘, False 열림\n",
    "# cv2.polylines(img_polygon, [pts2], True, COLOR, THICKNESS, cv2.LINE_AA) # True 닫힘, False 열림\n",
    "cv2.polylines(img_polygon, [pts1,pts2], True, COLOR, THICKNESS, cv2.LINE_AA) # 속이 빈 다각형\n",
    "# 그릴 파일, 그릴 좌표들, 닫힘 여부, 색, 두께 및 선의 종류\n",
    "\n",
    "pts3 = np.array([[[100,300],[200,300],[100,400]], [[200,300],[300, 300],[300, 400]]])\n",
    "cv2.fillPoly(img_polygon, pts3, COLOR, cv2.LINE_AA) # 속을 채운 다각형\n",
    "\n",
    "\n",
    "cv2.imshow('img_poly', img_polygon)\n",
    "cv2.waitKey(0)\n",
    "cv2.destroyAllWindows()"
   ]
  },
  {
   "cell_type": "code",
   "execution_count": 25,
   "id": "d65872a7",
   "metadata": {},
   "outputs": [],
   "source": [
    "# end of file"
   ]
  }
 ],
 "metadata": {
  "kernelspec": {
   "display_name": "Python 3 (ipykernel)",
   "language": "python",
   "name": "python3"
  },
  "language_info": {
   "codemirror_mode": {
    "name": "ipython",
    "version": 3
   },
   "file_extension": ".py",
   "mimetype": "text/x-python",
   "name": "python",
   "nbconvert_exporter": "python",
   "pygments_lexer": "ipython3",
   "version": "3.9.7"
  }
 },
 "nbformat": 4,
 "nbformat_minor": 5
}
