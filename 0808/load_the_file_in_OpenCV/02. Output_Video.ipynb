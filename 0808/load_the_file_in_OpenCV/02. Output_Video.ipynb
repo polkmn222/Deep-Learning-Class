{
 "cells": [
  {
   "cell_type": "markdown",
   "id": "13c0873c",
   "metadata": {},
   "source": [
    "## 2. OutPut Video"
   ]
  },
  {
   "cell_type": "markdown",
   "id": "01ec600c",
   "metadata": {},
   "source": [
    "### prerequisite\n",
    "\n",
    "* pexels video down-load"
   ]
  },
  {
   "cell_type": "code",
   "execution_count": 1,
   "id": "22c57fa0",
   "metadata": {},
   "outputs": [
    {
     "name": "stdout",
     "output_type": "stream",
     "text": [
      "This is the End\n"
     ]
    }
   ],
   "source": [
    "import cv2\n",
    "cap = cv2.VideoCapture('video.mp4')\n",
    "\n",
    "while cap.isOpened(): # 동영상 파일이 올바로 열렸는지 \n",
    "    ret, frame = cap.read() # ret: 성공여부(잘 가져왔는지), frame : 받아온 이미지 (프레임)\n",
    "    if not ret:\n",
    "        print('This is the End')\n",
    "        break\n",
    "        \n",
    "    cv2.imshow('video', frame)\n",
    "    \n",
    "    # key를 입력시 사용자가 창을 끄는 문장을 넣고 싶다면?\n",
    "    \n",
    "    if cv2.waitKey(25) == ord('q'): # ord 함수를 활용하면 각 알파벳의 ASACII코드를 가져온다.\n",
    "        print('quit the video by user')\n",
    "        break\n",
    "        \n",
    "cap.release() # 자원 해제\n",
    "cv2.destroyAllWindows() # 모든 창 닫기\n",
    "    "
   ]
  },
  {
   "cell_type": "markdown",
   "id": "14af3620",
   "metadata": {},
   "source": [
    "## Output Camera - labtop version"
   ]
  },
  {
   "cell_type": "code",
   "execution_count": 1,
   "id": "4bdc39dd",
   "metadata": {},
   "outputs": [],
   "source": [
    "import cv2\n",
    "cap = cv2.VideoCapture(0) # 0번째 카메라 장치 (Device ID)\n",
    "\n",
    "\n",
    "if not cap.isOpened():\n",
    "    exit() # quit Program\n",
    "    \n",
    "while True:\n",
    "    ret, frame = cap.read()\n",
    "    if not ret:\n",
    "        break\n",
    "    \n",
    "    cv2.imshow('camera',frame)\n",
    "    if cv2.waitKey(1) == ord('q'): # 사용자가 q를 입력하면 종료\n",
    "        break\n",
    "        \n",
    "cap.release()\n",
    "cv2.destroyAllWindows()"
   ]
  },
  {
   "cell_type": "code",
   "execution_count": 1,
   "id": "1ad5ec88",
   "metadata": {},
   "outputs": [],
   "source": [
    "# end of file"
   ]
  }
 ],
 "metadata": {
  "kernelspec": {
   "display_name": "Python 3 (ipykernel)",
   "language": "python",
   "name": "python3"
  },
  "language_info": {
   "codemirror_mode": {
    "name": "ipython",
    "version": 3
   },
   "file_extension": ".py",
   "mimetype": "text/x-python",
   "name": "python",
   "nbconvert_exporter": "python",
   "pygments_lexer": "ipython3",
   "version": "3.9.7"
  }
 },
 "nbformat": 4,
 "nbformat_minor": 5
}
