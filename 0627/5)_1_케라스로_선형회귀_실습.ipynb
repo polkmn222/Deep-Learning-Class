{
 "cells": [
  {
   "cell_type": "markdown",
   "metadata": {
    "id": "Hvc5Tw43jV-W",
    "pycharm": {
     "name": "#%% md\n"
    }
   },
   "source": [
    "다음주 즈음에 케라스를 활용한 선형회귀를 구현해 보겠지만 기본적인 케라스 모델을 구현하는 방식은 아래와 같이 이루어집니다. \n",
    "\n",
    "Sequential로 model이라는 이름의 모델을 생성하고, 그에 따른 add함수를 통해\n",
    "입력과 출력 벡터의 차원과 같은 필요 정보들을 추가합니다."
   ]
  },
  {
   "cell_type": "code",
   "execution_count": 8,
   "metadata": {
    "id": "qIbmMENmjRNs",
    "pycharm": {
     "name": "#%%\n"
    }
   },
   "outputs": [],
   "source": [
    "# ## 예시코드로써 실행이 되진 않습니다.\n",
    "# model = Sequential()\n",
    "# model.add(keras.layers.Dense(1, input_dim=1))"
   ]
  },
  {
   "cell_type": "code",
   "execution_count": 9,
   "metadata": {
    "id": "RCDbXfzWj0yF",
    "pycharm": {
     "name": "#%%\n"
    }
   },
   "outputs": [],
   "source": [
    "import numpy as np\n",
    "import matplotlib.pyplot as plt\n",
    "from tensorflow.keras.models import Sequential\n",
    "from tensorflow.keras.layers import Dense\n",
    "from tensorflow.keras import optimizers # 활성화 함수"
   ]
  },
  {
   "cell_type": "code",
   "execution_count": 10,
   "metadata": {
    "id": "6fqs6yNSj1mb",
    "pycharm": {
     "name": "#%%\n"
    }
   },
   "outputs": [
    {
     "name": "stderr",
     "output_type": "stream",
     "text": [
      "C:\\anaconda3\\lib\\site-packages\\keras\\optimizers\\optimizer_v2\\gradient_descent.py:108: UserWarning: The `lr` argument is deprecated, use `learning_rate` instead.\n",
      "  super(SGD, self).__init__(name, **kwargs)\n"
     ]
    },
    {
     "name": "stdout",
     "output_type": "stream",
     "text": [
      "1/1 [==============================] - 1s 1s/step - loss: 3018.2410 - mse: 3018.2410\n"
     ]
    },
    {
     "data": {
      "text/plain": [
       "<keras.callbacks.History at 0x20bd1c25940>"
      ]
     },
     "execution_count": 10,
     "metadata": {},
     "output_type": "execute_result"
    }
   ],
   "source": [
    "X = [1,2,3,4,5,6,7,8,9] # 공부하는 시간\n",
    "y = [11,22,33,44,53,66,77,87,95] # 각 공부하는 시간에 매핑되는 성적\n",
    "\n",
    "model = Sequential()\n",
    "\n",
    "# 출력 y의 차원은 1. 입력 x의 차원(input_dim)은 1이다\n",
    "# 선형회귀를 구현할 것이므로 activation(활성화 함수라고도)구현하려는 \n",
    "# 함수를 의미한다. \n",
    "\n",
    "model.add(Dense(1, input_dim=1, activation='linear'))\n",
    "\n",
    "# sgd는 경사 하강법을 의미. 학습률(Learing_rate, 이하 lr)은 0.01\n",
    "sgd = optimizers.SGD(lr=0.01)\n",
    "\n",
    "# 손실함수(loss function)은 평균제곱오차 mse를 사용한다.\n",
    "model.compile(optimizer=sgd, loss='mse', metrics=['mse'])\n",
    "\n",
    "# 주어진 x와 y데이터에 대해서 오차를 최소화하는 작업을 300번 시도해보자.\n",
    "model.fit(X,y, epochs=1)"
   ]
  },
  {
   "cell_type": "code",
   "execution_count": 11,
   "metadata": {
    "pycharm": {
     "name": "#%%\n"
    }
   },
   "outputs": [
    {
     "name": "stdout",
     "output_type": "stream",
     "text": [
      "1/1 [==============================] - 0s 103ms/step\n"
     ]
    },
    {
     "data": {
      "text/plain": [
       "[<matplotlib.lines.Line2D at 0x20bdaa685b0>,\n",
       " <matplotlib.lines.Line2D at 0x20bdaa68640>]"
      ]
     },
     "execution_count": 11,
     "metadata": {},
     "output_type": "execute_result"
    },
    {
     "data": {
      "image/png": "[encoded data removed]",
      "text/plain": [
       "<Figure size 432x288 with 1 Axes>"
      ]
     },
     "metadata": {
      "needs_background": "light"
     },
     "output_type": "display_data"
    }
   ],
   "source": [
    "plt.plot(X, model.predict(X), 'b', X,y, 'k.')"
   ]
  },
  {
   "cell_type": "code",
   "execution_count": 12,
   "metadata": {
    "pycharm": {
     "name": "#%%\n"
    }
   },
   "outputs": [
    {
     "name": "stdout",
     "output_type": "stream",
     "text": [
      "Epoch 1/2\n"
     ]
    },
    {
     "name": "stderr",
     "output_type": "stream",
     "text": [
      "C:\\anaconda3\\lib\\site-packages\\keras\\optimizers\\optimizer_v2\\gradient_descent.py:108: UserWarning: The `lr` argument is deprecated, use `learning_rate` instead.\n",
      "  super(SGD, self).__init__(name, **kwargs)\n"
     ]
    },
    {
     "name": "stdout",
     "output_type": "stream",
     "text": [
      "1/1 [==============================] - 1s 605ms/step - loss: 3608.9353 - mse: 3608.9353\n",
      "Epoch 2/2\n",
      "1/1 [==============================] - 0s 5ms/step - loss: 445.1136 - mse: 445.1136\n"
     ]
    },
    {
     "data": {
      "text/plain": [
       "<keras.callbacks.History at 0x20bdaab1160>"
      ]
     },
     "execution_count": 12,
     "metadata": {},
     "output_type": "execute_result"
    }
   ],
   "source": [
    "X = [1,2,3,4,5,6,7,8,9] # 공부하는 시간\n",
    "y = [11,22,33,44,53,66,77,87,95] # 각 공부하는 시간에 매핑되는 성적\n",
    "\n",
    "model = Sequential()\n",
    "\n",
    "# 출력 y의 차원은 1. 입력 x의 차원(input_dim)은 1이다\n",
    "# 선형회귀를 구현할 것이므로 activation(활성화 함수라고도)구현하려는\n",
    "# 함수를 의미한다.\n",
    "\n",
    "model.add(Dense(1, input_dim=1, activation='linear'))\n",
    "\n",
    "# sgd는 경사 하강법을 의미. 학습률(Learing_rate, 이하 lr)은 0.01\n",
    "sgd = optimizers.SGD(lr=0.01)\n",
    "\n",
    "# 손실함수(loss function)은 평균제곱오차 mse를 사용한다.\n",
    "model.compile(optimizer=sgd, loss='mse', metrics=['mse'])\n",
    "\n",
    "# 주어진 x와 y데이터에 대해서 오차를 최소화하는 작업을 300번 시도해보자.\n",
    "model.fit(X,y, epochs=2)"
   ]
  },
  {
   "cell_type": "code",
   "execution_count": 13,
   "metadata": {
    "pycharm": {
     "name": "#%%\n"
    }
   },
   "outputs": [
    {
     "name": "stdout",
     "output_type": "stream",
     "text": [
      "1/1 [==============================] - 0s 84ms/step\n"
     ]
    },
    {
     "data": {
      "text/plain": [
       "[<matplotlib.lines.Line2D at 0x20bdaa9ff70>,\n",
       " <matplotlib.lines.Line2D at 0x20bdaa9f970>]"
      ]
     },
     "execution_count": 13,
     "metadata": {},
     "output_type": "execute_result"
    },
    {
     "data": {
      "image/png": "[encoded data removed]",
      "text/plain": [
       "<Figure size 432x288 with 1 Axes>"
      ]
     },
     "metadata": {
      "needs_background": "light"
     },
     "output_type": "display_data"
    }
   ],
   "source": [
    "plt.plot(X, model.predict(X), 'b', X,y, 'k.')"
   ]
  },
  {
   "cell_type": "code",
   "execution_count": 14,
   "metadata": {
    "pycharm": {
     "name": "#%%\n"
    }
   },
   "outputs": [
    {
     "name": "stdout",
     "output_type": "stream",
     "text": [
      "Epoch 1/300\n"
     ]
    },
    {
     "name": "stderr",
     "output_type": "stream",
     "text": [
      "C:\\anaconda3\\lib\\site-packages\\keras\\optimizers\\optimizer_v2\\gradient_descent.py:108: UserWarning: The `lr` argument is deprecated, use `learning_rate` instead.\n",
      "  super(SGD, self).__init__(name, **kwargs)\n"
     ]
    },
    {
     "name": "stdout",
     "output_type": "stream",
     "text": [
      "1/1 [==============================] - 0s 495ms/step - loss: 3819.5200 - mse: 3819.5200\n",
      "Epoch 2/300\n",
      "1/1 [==============================] - 0s 6ms/step - loss: 471.0397 - mse: 471.0397\n",
      "Epoch 3/300\n",
      "1/1 [==============================] - 0s 4ms/step - loss: 59.0332 - mse: 59.0332\n",
      "Epoch 4/300\n",
      "1/1 [==============================] - 0s 4ms/step - loss: 8.3377 - mse: 8.3377\n",
      "Epoch 5/300\n",
      "1/1 [==============================] - 0s 4ms/step - loss: 2.0989 - mse: 2.0989\n",
      "Epoch 6/300\n",
      "1/1 [==============================] - 0s 42ms/step - loss: 1.3300 - mse: 1.3300\n",
      "Epoch 7/300\n",
      "1/1 [==============================] - 0s 6ms/step - loss: 1.2343 - mse: 1.2343\n",
      "Epoch 8/300\n",
      "1/1 [==============================] - 0s 4ms/step - loss: 1.2213 - mse: 1.2213\n",
      "Epoch 9/300\n",
      "1/1 [==============================] - 0s 5ms/step - loss: 1.2186 - mse: 1.2186\n",
      "Epoch 10/300\n",
      "1/1 [==============================] - 0s 7ms/step - loss: 1.2171 - mse: 1.2171\n",
      "Epoch 11/300\n",
      "1/1 [==============================] - 0s 4ms/step - loss: 1.2158 - mse: 1.2158\n",
      "Epoch 12/300\n",
      "1/1 [==============================] - 0s 35ms/step - loss: 1.2145 - mse: 1.2145\n",
      "Epoch 13/300\n",
      "1/1 [==============================] - 0s 5ms/step - loss: 1.2133 - mse: 1.2133\n",
      "Epoch 14/300\n",
      "1/1 [==============================] - 0s 5ms/step - loss: 1.2120 - mse: 1.2120\n",
      "Epoch 15/300\n",
      "1/1 [==============================] - 0s 7ms/step - loss: 1.2108 - mse: 1.2108\n",
      "Epoch 16/300\n",
      "1/1 [==============================] - 0s 7ms/step - loss: 1.2095 - mse: 1.2095\n",
      "Epoch 17/300\n",
      "1/1 [==============================] - 0s 14ms/step - loss: 1.2083 - mse: 1.2083\n",
      "Epoch 18/300\n",
      "1/1 [==============================] - 0s 7ms/step - loss: 1.2071 - mse: 1.2071\n",
      "Epoch 19/300\n",
      "1/1 [==============================] - 0s 7ms/step - loss: 1.2059 - mse: 1.2059\n",
      "Epoch 20/300\n",
      "1/1 [==============================] - 0s 6ms/step - loss: 1.2047 - mse: 1.2047\n",
      "Epoch 21/300\n",
      "1/1 [==============================] - 0s 8ms/step - loss: 1.2035 - mse: 1.2035\n",
      "Epoch 22/300\n",
      "1/1 [==============================] - 0s 9ms/step - loss: 1.2023 - mse: 1.2023\n",
      "Epoch 23/300\n",
      "1/1 [==============================] - 0s 4ms/step - loss: 1.2011 - mse: 1.2011\n",
      "Epoch 24/300\n",
      "1/1 [==============================] - 0s 9ms/step - loss: 1.2000 - mse: 1.2000\n",
      "Epoch 25/300\n",
      "1/1 [==============================] - 0s 11ms/step - loss: 1.1988 - mse: 1.1988\n",
      "Epoch 26/300\n",
      "1/1 [==============================] - 0s 7ms/step - loss: 1.1977 - mse: 1.1977\n",
      "Epoch 27/300\n",
      "1/1 [==============================] - 0s 6ms/step - loss: 1.1966 - mse: 1.1966\n",
      "Epoch 28/300\n",
      "1/1 [==============================] - 0s 4ms/step - loss: 1.1954 - mse: 1.1954\n",
      "Epoch 29/300\n",
      "1/1 [==============================] - 0s 5ms/step - loss: 1.1943 - mse: 1.1943\n",
      "Epoch 30/300\n",
      "1/1 [==============================] - 0s 5ms/step - loss: 1.1932 - mse: 1.1932\n",
      "Epoch 31/300\n",
      "1/1 [==============================] - 0s 7ms/step - loss: 1.1921 - mse: 1.1921\n",
      "Epoch 32/300\n",
      "1/1 [==============================] - 0s 4ms/step - loss: 1.1911 - mse: 1.1911\n",
      "Epoch 33/300\n",
      "1/1 [==============================] - 0s 4ms/step - loss: 1.1900 - mse: 1.1900\n",
      "Epoch 34/300\n",
      "1/1 [==============================] - 0s 4ms/step - loss: 1.1889 - mse: 1.1889\n",
      "Epoch 35/300\n",
      "1/1 [==============================] - 0s 5ms/step - loss: 1.1879 - mse: 1.1879\n",
      "Epoch 36/300\n",
      "1/1 [==============================] - 0s 4ms/step - loss: 1.1868 - mse: 1.1868\n",
      "Epoch 37/300\n",
      "1/1 [==============================] - 0s 8ms/step - loss: 1.1858 - mse: 1.1858\n",
      "Epoch 38/300\n",
      "1/1 [==============================] - 0s 5ms/step - loss: 1.1847 - mse: 1.1847\n",
      "Epoch 39/300\n",
      "1/1 [==============================] - 0s 18ms/step - loss: 1.1837 - mse: 1.1837\n",
      "Epoch 40/300\n",
      "1/1 [==============================] - 0s 4ms/step - loss: 1.1827 - mse: 1.1827\n",
      "Epoch 41/300\n",
      "1/1 [==============================] - 0s 5ms/step - loss: 1.1817 - mse: 1.1817\n",
      "Epoch 42/300\n",
      "1/1 [==============================] - 0s 4ms/step - loss: 1.1807 - mse: 1.1807\n",
      "Epoch 43/300\n",
      "1/1 [==============================] - 0s 7ms/step - loss: 1.1797 - mse: 1.1797\n",
      "Epoch 44/300\n",
      "1/1 [==============================] - 0s 12ms/step - loss: 1.1787 - mse: 1.1787\n",
      "Epoch 45/300\n",
      "1/1 [==============================] - 0s 5ms/step - loss: 1.1777 - mse: 1.1777\n",
      "Epoch 46/300\n",
      "1/1 [==============================] - 0s 7ms/step - loss: 1.1768 - mse: 1.1768\n",
      "Epoch 47/300\n",
      "1/1 [==============================] - 0s 6ms/step - loss: 1.1758 - mse: 1.1758\n",
      "Epoch 48/300\n",
      "1/1 [==============================] - 0s 3ms/step - loss: 1.1749 - mse: 1.1749\n",
      "Epoch 49/300\n",
      "1/1 [==============================] - 0s 10ms/step - loss: 1.1739 - mse: 1.1739\n",
      "Epoch 50/300\n",
      "1/1 [==============================] - 0s 7ms/step - loss: 1.1730 - mse: 1.1730\n",
      "Epoch 51/300\n",
      "1/1 [==============================] - 0s 47ms/step - loss: 1.1721 - mse: 1.1721\n",
      "Epoch 52/300\n",
      "1/1 [==============================] - 0s 6ms/step - loss: 1.1711 - mse: 1.1711\n",
      "Epoch 53/300\n",
      "1/1 [==============================] - 0s 6ms/step - loss: 1.1702 - mse: 1.1702\n",
      "Epoch 54/300\n",
      "1/1 [==============================] - 0s 9ms/step - loss: 1.1693 - mse: 1.1693\n",
      "Epoch 55/300\n",
      "1/1 [==============================] - 0s 9ms/step - loss: 1.1684 - mse: 1.1684\n",
      "Epoch 56/300\n",
      "1/1 [==============================] - 0s 12ms/step - loss: 1.1675 - mse: 1.1675\n",
      "Epoch 57/300\n",
      "1/1 [==============================] - 0s 3ms/step - loss: 1.1667 - mse: 1.1667\n",
      "Epoch 58/300\n",
      "1/1 [==============================] - 0s 4ms/step - loss: 1.1658 - mse: 1.1658\n",
      "Epoch 59/300\n",
      "1/1 [==============================] - 0s 11ms/step - loss: 1.1649 - mse: 1.1649\n",
      "Epoch 60/300\n",
      "1/1 [==============================] - 0s 6ms/step - loss: 1.1641 - mse: 1.1641\n",
      "Epoch 61/300\n",
      "1/1 [==============================] - 0s 15ms/step - loss: 1.1632 - mse: 1.1632\n",
      "Epoch 62/300\n",
      "1/1 [==============================] - 0s 9ms/step - loss: 1.1623 - mse: 1.1623\n",
      "Epoch 63/300\n",
      "1/1 [==============================] - 0s 6ms/step - loss: 1.1615 - mse: 1.1615\n",
      "Epoch 64/300\n",
      "1/1 [==============================] - 0s 8ms/step - loss: 1.1607 - mse: 1.1607\n",
      "Epoch 65/300\n",
      "1/1 [==============================] - 0s 7ms/step - loss: 1.1598 - mse: 1.1598\n",
      "Epoch 66/300\n",
      "1/1 [==============================] - 0s 4ms/step - loss: 1.1590 - mse: 1.1590\n",
      "Epoch 67/300\n",
      "1/1 [==============================] - 0s 4ms/step - loss: 1.1582 - mse: 1.1582\n",
      "Epoch 68/300\n",
      "1/1 [==============================] - 0s 5ms/step - loss: 1.1574 - mse: 1.1574\n",
      "Epoch 69/300\n",
      "1/1 [==============================] - 0s 15ms/step - loss: 1.1566 - mse: 1.1566\n",
      "Epoch 70/300\n",
      "1/1 [==============================] - 0s 39ms/step - loss: 1.1558 - mse: 1.1558\n",
      "Epoch 71/300\n",
      "1/1 [==============================] - 0s 6ms/step - loss: 1.1550 - mse: 1.1550\n",
      "Epoch 72/300\n",
      "1/1 [==============================] - 0s 4ms/step - loss: 1.1543 - mse: 1.1543\n",
      "Epoch 73/300\n",
      "1/1 [==============================] - 0s 4ms/step - loss: 1.1535 - mse: 1.1535\n",
      "Epoch 74/300\n",
      "1/1 [==============================] - 0s 43ms/step - loss: 1.1527 - mse: 1.1527\n",
      "Epoch 75/300\n",
      "1/1 [==============================] - 0s 4ms/step - loss: 1.1519 - mse: 1.1519\n",
      "Epoch 76/300\n",
      "1/1 [==============================] - 0s 6ms/step - loss: 1.1512 - mse: 1.1512\n",
      "Epoch 77/300\n",
      "1/1 [==============================] - 0s 4ms/step - loss: 1.1504 - mse: 1.1504\n",
      "Epoch 78/300\n",
      "1/1 [==============================] - 0s 3ms/step - loss: 1.1497 - mse: 1.1497\n",
      "Epoch 79/300\n",
      "1/1 [==============================] - 0s 9ms/step - loss: 1.1490 - mse: 1.1490\n",
      "Epoch 80/300\n",
      "1/1 [==============================] - 0s 10ms/step - loss: 1.1482 - mse: 1.1482\n",
      "Epoch 81/300\n",
      "1/1 [==============================] - 0s 3ms/step - loss: 1.1475 - mse: 1.1475\n",
      "Epoch 82/300\n",
      "1/1 [==============================] - 0s 9ms/step - loss: 1.1468 - mse: 1.1468\n",
      "Epoch 83/300\n",
      "1/1 [==============================] - 0s 5ms/step - loss: 1.1461 - mse: 1.1461\n",
      "Epoch 84/300\n",
      "1/1 [==============================] - 0s 5ms/step - loss: 1.1454 - mse: 1.1454\n",
      "Epoch 85/300\n",
      "1/1 [==============================] - 0s 5ms/step - loss: 1.1447 - mse: 1.1447\n",
      "Epoch 86/300\n",
      "1/1 [==============================] - 0s 5ms/step - loss: 1.1440 - mse: 1.1440\n",
      "Epoch 87/300\n",
      "1/1 [==============================] - 0s 5ms/step - loss: 1.1433 - mse: 1.1433\n",
      "Epoch 88/300\n",
      "1/1 [==============================] - 0s 4ms/step - loss: 1.1426 - mse: 1.1426\n",
      "Epoch 89/300\n",
      "1/1 [==============================] - 0s 5ms/step - loss: 1.1419 - mse: 1.1419\n",
      "Epoch 90/300\n",
      "1/1 [==============================] - 0s 5ms/step - loss: 1.1413 - mse: 1.1413\n",
      "Epoch 91/300\n",
      "1/1 [==============================] - 0s 8ms/step - loss: 1.1406 - mse: 1.1406\n",
      "Epoch 92/300\n",
      "1/1 [==============================] - 0s 5ms/step - loss: 1.1399 - mse: 1.1399\n",
      "Epoch 93/300\n",
      "1/1 [==============================] - 0s 8ms/step - loss: 1.1393 - mse: 1.1393\n",
      "Epoch 94/300\n",
      "1/1 [==============================] - 0s 7ms/step - loss: 1.1386 - mse: 1.1386\n",
      "Epoch 95/300\n",
      "1/1 [==============================] - 0s 4ms/step - loss: 1.1380 - mse: 1.1380\n",
      "Epoch 96/300\n",
      "1/1 [==============================] - 0s 4ms/step - loss: 1.1373 - mse: 1.1373\n",
      "Epoch 97/300\n",
      "1/1 [==============================] - 0s 6ms/step - loss: 1.1367 - mse: 1.1367\n",
      "Epoch 98/300\n",
      "1/1 [==============================] - 0s 7ms/step - loss: 1.1361 - mse: 1.1361\n",
      "Epoch 99/300\n",
      "1/1 [==============================] - 0s 4ms/step - loss: 1.1354 - mse: 1.1354\n",
      "Epoch 100/300\n",
      "1/1 [==============================] - 0s 4ms/step - loss: 1.1348 - mse: 1.1348\n",
      "Epoch 101/300\n",
      "1/1 [==============================] - 0s 5ms/step - loss: 1.1342 - mse: 1.1342\n",
      "Epoch 102/300\n",
      "1/1 [==============================] - 0s 6ms/step - loss: 1.1336 - mse: 1.1336\n",
      "Epoch 103/300\n",
      "1/1 [==============================] - 0s 25ms/step - loss: 1.1330 - mse: 1.1330\n",
      "Epoch 104/300\n",
      "1/1 [==============================] - 0s 4ms/step - loss: 1.1324 - mse: 1.1324\n",
      "Epoch 105/300\n",
      "1/1 [==============================] - 0s 7ms/step - loss: 1.1318 - mse: 1.1318\n",
      "Epoch 106/300\n",
      "1/1 [==============================] - 0s 9ms/step - loss: 1.1312 - mse: 1.1312\n",
      "Epoch 107/300\n",
      "1/1 [==============================] - 0s 7ms/step - loss: 1.1306 - mse: 1.1306\n",
      "Epoch 108/300\n",
      "1/1 [==============================] - 0s 3ms/step - loss: 1.1300 - mse: 1.1300\n",
      "Epoch 109/300\n",
      "1/1 [==============================] - 0s 5ms/step - loss: 1.1295 - mse: 1.1295\n",
      "Epoch 110/300\n",
      "1/1 [==============================] - 0s 4ms/step - loss: 1.1289 - mse: 1.1289\n",
      "Epoch 111/300\n",
      "1/1 [==============================] - 0s 7ms/step - loss: 1.1283 - mse: 1.1283\n",
      "Epoch 112/300\n",
      "1/1 [==============================] - 0s 11ms/step - loss: 1.1278 - mse: 1.1278\n",
      "Epoch 113/300\n",
      "1/1 [==============================] - 0s 7ms/step - loss: 1.1272 - mse: 1.1272\n",
      "Epoch 114/300\n",
      "1/1 [==============================] - 0s 6ms/step - loss: 1.1267 - mse: 1.1267\n",
      "Epoch 115/300\n",
      "1/1 [==============================] - 0s 5ms/step - loss: 1.1261 - mse: 1.1261\n",
      "Epoch 116/300\n",
      "1/1 [==============================] - 0s 7ms/step - loss: 1.1256 - mse: 1.1256\n",
      "Epoch 117/300\n",
      "1/1 [==============================] - 0s 6ms/step - loss: 1.1250 - mse: 1.1250\n",
      "Epoch 118/300\n",
      "1/1 [==============================] - 0s 6ms/step - loss: 1.1245 - mse: 1.1245\n",
      "Epoch 119/300\n",
      "1/1 [==============================] - 0s 9ms/step - loss: 1.1240 - mse: 1.1240\n",
      "Epoch 120/300\n",
      "1/1 [==============================] - 0s 7ms/step - loss: 1.1234 - mse: 1.1234\n",
      "Epoch 121/300\n",
      "1/1 [==============================] - 0s 7ms/step - loss: 1.1229 - mse: 1.1229\n",
      "Epoch 122/300\n",
      "1/1 [==============================] - 0s 4ms/step - loss: 1.1224 - mse: 1.1224\n",
      "Epoch 123/300\n",
      "1/1 [==============================] - 0s 7ms/step - loss: 1.1219 - mse: 1.1219\n",
      "Epoch 124/300\n",
      "1/1 [==============================] - 0s 25ms/step - loss: 1.1214 - mse: 1.1214\n",
      "Epoch 125/300\n",
      "1/1 [==============================] - 0s 4ms/step - loss: 1.1209 - mse: 1.1209\n",
      "Epoch 126/300\n",
      "1/1 [==============================] - 0s 7ms/step - loss: 1.1204 - mse: 1.1204\n",
      "Epoch 127/300\n",
      "1/1 [==============================] - 0s 8ms/step - loss: 1.1199 - mse: 1.1199\n",
      "Epoch 128/300\n",
      "1/1 [==============================] - 0s 25ms/step - loss: 1.1194 - mse: 1.1194\n",
      "Epoch 129/300\n",
      "1/1 [==============================] - 0s 4ms/step - loss: 1.1189 - mse: 1.1189\n",
      "Epoch 130/300\n",
      "1/1 [==============================] - 0s 6ms/step - loss: 1.1184 - mse: 1.1184\n",
      "Epoch 131/300\n",
      "1/1 [==============================] - 0s 8ms/step - loss: 1.1179 - mse: 1.1179\n",
      "Epoch 132/300\n",
      "1/1 [==============================] - 0s 19ms/step - loss: 1.1175 - mse: 1.1175\n",
      "Epoch 133/300\n",
      "1/1 [==============================] - 0s 8ms/step - loss: 1.1170 - mse: 1.1170\n",
      "Epoch 134/300\n",
      "1/1 [==============================] - 0s 6ms/step - loss: 1.1165 - mse: 1.1165\n",
      "Epoch 135/300\n",
      "1/1 [==============================] - 0s 7ms/step - loss: 1.1161 - mse: 1.1161\n",
      "Epoch 136/300\n",
      "1/1 [==============================] - 0s 21ms/step - loss: 1.1156 - mse: 1.1156\n",
      "Epoch 137/300\n",
      "1/1 [==============================] - 0s 3ms/step - loss: 1.1151 - mse: 1.1151\n",
      "Epoch 138/300\n",
      "1/1 [==============================] - 0s 23ms/step - loss: 1.1147 - mse: 1.1147\n",
      "Epoch 139/300\n",
      "1/1 [==============================] - 0s 4ms/step - loss: 1.1142 - mse: 1.1142\n",
      "Epoch 140/300\n",
      "1/1 [==============================] - 0s 6ms/step - loss: 1.1138 - mse: 1.1138\n",
      "Epoch 141/300\n",
      "1/1 [==============================] - 0s 49ms/step - loss: 1.1134 - mse: 1.1134\n",
      "Epoch 142/300\n",
      "1/1 [==============================] - 0s 6ms/step - loss: 1.1129 - mse: 1.1129\n",
      "Epoch 143/300\n",
      "1/1 [==============================] - 0s 5ms/step - loss: 1.1125 - mse: 1.1125\n",
      "Epoch 144/300\n",
      "1/1 [==============================] - 0s 5ms/step - loss: 1.1121 - mse: 1.1121\n",
      "Epoch 145/300\n",
      "1/1 [==============================] - 0s 20ms/step - loss: 1.1116 - mse: 1.1116\n",
      "Epoch 146/300\n",
      "1/1 [==============================] - 0s 5ms/step - loss: 1.1112 - mse: 1.1112\n",
      "Epoch 147/300\n",
      "1/1 [==============================] - 0s 7ms/step - loss: 1.1108 - mse: 1.1108\n",
      "Epoch 148/300\n",
      "1/1 [==============================] - 0s 17ms/step - loss: 1.1104 - mse: 1.1104\n",
      "Epoch 149/300\n",
      "1/1 [==============================] - 0s 5ms/step - loss: 1.1099 - mse: 1.1099\n",
      "Epoch 150/300\n",
      "1/1 [==============================] - 0s 5ms/step - loss: 1.1095 - mse: 1.1095\n",
      "Epoch 151/300\n",
      "1/1 [==============================] - 0s 7ms/step - loss: 1.1091 - mse: 1.1091\n",
      "Epoch 152/300\n",
      "1/1 [==============================] - 0s 12ms/step - loss: 1.1087 - mse: 1.1087\n",
      "Epoch 153/300\n",
      "1/1 [==============================] - 0s 11ms/step - loss: 1.1083 - mse: 1.1083\n",
      "Epoch 154/300\n",
      "1/1 [==============================] - 0s 16ms/step - loss: 1.1079 - mse: 1.1079\n",
      "Epoch 155/300\n",
      "1/1 [==============================] - 0s 11ms/step - loss: 1.1075 - mse: 1.1075\n",
      "Epoch 156/300\n",
      "1/1 [==============================] - 0s 4ms/step - loss: 1.1071 - mse: 1.1071\n",
      "Epoch 157/300\n",
      "1/1 [==============================] - 0s 4ms/step - loss: 1.1068 - mse: 1.1068\n",
      "Epoch 158/300\n",
      "1/1 [==============================] - 0s 14ms/step - loss: 1.1064 - mse: 1.1064\n",
      "Epoch 159/300\n",
      "1/1 [==============================] - 0s 7ms/step - loss: 1.1060 - mse: 1.1060\n",
      "Epoch 160/300\n",
      "1/1 [==============================] - 0s 6ms/step - loss: 1.1056 - mse: 1.1056\n",
      "Epoch 161/300\n",
      "1/1 [==============================] - 0s 12ms/step - loss: 1.1052 - mse: 1.1052\n",
      "Epoch 162/300\n",
      "1/1 [==============================] - 0s 4ms/step - loss: 1.1049 - mse: 1.1049\n",
      "Epoch 163/300\n",
      "1/1 [==============================] - 0s 4ms/step - loss: 1.1045 - mse: 1.1045\n",
      "Epoch 164/300\n",
      "1/1 [==============================] - 0s 8ms/step - loss: 1.1041 - mse: 1.1041\n",
      "Epoch 165/300\n",
      "1/1 [==============================] - 0s 8ms/step - loss: 1.1038 - mse: 1.1038\n",
      "Epoch 166/300\n",
      "1/1 [==============================] - 0s 7ms/step - loss: 1.1034 - mse: 1.1034\n",
      "Epoch 167/300\n",
      "1/1 [==============================] - 0s 4ms/step - loss: 1.1030 - mse: 1.1030\n",
      "Epoch 168/300\n",
      "1/1 [==============================] - 0s 4ms/step - loss: 1.1027 - mse: 1.1027\n",
      "Epoch 169/300\n",
      "1/1 [==============================] - 0s 10ms/step - loss: 1.1023 - mse: 1.1023\n",
      "Epoch 170/300\n",
      "1/1 [==============================] - 0s 5ms/step - loss: 1.1020 - mse: 1.1020\n",
      "Epoch 171/300\n",
      "1/1 [==============================] - 0s 88ms/step - loss: 1.1016 - mse: 1.1016\n",
      "Epoch 172/300\n",
      "1/1 [==============================] - 0s 4ms/step - loss: 1.1013 - mse: 1.1013\n",
      "Epoch 173/300\n",
      "1/1 [==============================] - 0s 4ms/step - loss: 1.1010 - mse: 1.1010\n",
      "Epoch 174/300\n",
      "1/1 [==============================] - 0s 4ms/step - loss: 1.1006 - mse: 1.1006\n",
      "Epoch 175/300\n",
      "1/1 [==============================] - 0s 13ms/step - loss: 1.1003 - mse: 1.1003\n",
      "Epoch 176/300\n",
      "1/1 [==============================] - 0s 4ms/step - loss: 1.1000 - mse: 1.1000\n",
      "Epoch 177/300\n",
      "1/1 [==============================] - 0s 10ms/step - loss: 1.0996 - mse: 1.0996\n",
      "Epoch 178/300\n",
      "1/1 [==============================] - 0s 9ms/step - loss: 1.0993 - mse: 1.0993\n",
      "Epoch 179/300\n",
      "1/1 [==============================] - 0s 11ms/step - loss: 1.0990 - mse: 1.0990\n",
      "Epoch 180/300\n",
      "1/1 [==============================] - 0s 4ms/step - loss: 1.0987 - mse: 1.0987\n",
      "Epoch 181/300\n",
      "1/1 [==============================] - 0s 4ms/step - loss: 1.0984 - mse: 1.0984\n",
      "Epoch 182/300\n",
      "1/1 [==============================] - 0s 10ms/step - loss: 1.0980 - mse: 1.0980\n",
      "Epoch 183/300\n",
      "1/1 [==============================] - 0s 59ms/step - loss: 1.0977 - mse: 1.0977\n",
      "Epoch 184/300\n",
      "1/1 [==============================] - 0s 27ms/step - loss: 1.0974 - mse: 1.0974\n",
      "Epoch 185/300\n",
      "1/1 [==============================] - 0s 30ms/step - loss: 1.0971 - mse: 1.0971\n",
      "Epoch 186/300\n",
      "1/1 [==============================] - 0s 79ms/step - loss: 1.0968 - mse: 1.0968\n",
      "Epoch 187/300\n",
      "1/1 [==============================] - 0s 10ms/step - loss: 1.0965 - mse: 1.0965\n",
      "Epoch 188/300\n",
      "1/1 [==============================] - 0s 22ms/step - loss: 1.0962 - mse: 1.0962\n",
      "Epoch 189/300\n",
      "1/1 [==============================] - 0s 9ms/step - loss: 1.0959 - mse: 1.0959\n",
      "Epoch 190/300\n",
      "1/1 [==============================] - 0s 4ms/step - loss: 1.0956 - mse: 1.0956\n",
      "Epoch 191/300\n",
      "1/1 [==============================] - 0s 5ms/step - loss: 1.0953 - mse: 1.0953\n",
      "Epoch 192/300\n",
      "1/1 [==============================] - 0s 3ms/step - loss: 1.0950 - mse: 1.0950\n",
      "Epoch 193/300\n",
      "1/1 [==============================] - 0s 4ms/step - loss: 1.0947 - mse: 1.0947\n",
      "Epoch 194/300\n",
      "1/1 [==============================] - 0s 3ms/step - loss: 1.0944 - mse: 1.0944\n",
      "Epoch 195/300\n",
      "1/1 [==============================] - 0s 4ms/step - loss: 1.0942 - mse: 1.0942\n",
      "Epoch 196/300\n",
      "1/1 [==============================] - 0s 4ms/step - loss: 1.0939 - mse: 1.0939\n",
      "Epoch 197/300\n",
      "1/1 [==============================] - 0s 6ms/step - loss: 1.0936 - mse: 1.0936\n",
      "Epoch 198/300\n",
      "1/1 [==============================] - 0s 5ms/step - loss: 1.0933 - mse: 1.0933\n",
      "Epoch 199/300\n",
      "1/1 [==============================] - 0s 4ms/step - loss: 1.0930 - mse: 1.0930\n",
      "Epoch 200/300\n",
      "1/1 [==============================] - 0s 5ms/step - loss: 1.0928 - mse: 1.0928\n",
      "Epoch 201/300\n",
      "1/1 [==============================] - 0s 22ms/step - loss: 1.0925 - mse: 1.0925\n",
      "Epoch 202/300\n",
      "1/1 [==============================] - 0s 15ms/step - loss: 1.0922 - mse: 1.0922\n",
      "Epoch 203/300\n",
      "1/1 [==============================] - 0s 27ms/step - loss: 1.0920 - mse: 1.0920\n",
      "Epoch 204/300\n",
      "1/1 [==============================] - 0s 18ms/step - loss: 1.0917 - mse: 1.0917\n",
      "Epoch 205/300\n",
      "1/1 [==============================] - 0s 16ms/step - loss: 1.0915 - mse: 1.0915\n",
      "Epoch 206/300\n",
      "1/1 [==============================] - 0s 5ms/step - loss: 1.0912 - mse: 1.0912\n",
      "Epoch 207/300\n",
      "1/1 [==============================] - 0s 6ms/step - loss: 1.0909 - mse: 1.0909\n",
      "Epoch 208/300\n",
      "1/1 [==============================] - 0s 8ms/step - loss: 1.0907 - mse: 1.0907\n",
      "Epoch 209/300\n",
      "1/1 [==============================] - 0s 23ms/step - loss: 1.0904 - mse: 1.0904\n",
      "Epoch 210/300\n",
      "1/1 [==============================] - 0s 9ms/step - loss: 1.0902 - mse: 1.0902\n",
      "Epoch 211/300\n",
      "1/1 [==============================] - 0s 14ms/step - loss: 1.0899 - mse: 1.0899\n",
      "Epoch 212/300\n",
      "1/1 [==============================] - 0s 9ms/step - loss: 1.0897 - mse: 1.0897\n",
      "Epoch 213/300\n",
      "1/1 [==============================] - 0s 6ms/step - loss: 1.0894 - mse: 1.0894\n",
      "Epoch 214/300\n",
      "1/1 [==============================] - 0s 5ms/step - loss: 1.0892 - mse: 1.0892\n",
      "Epoch 215/300\n",
      "1/1 [==============================] - 0s 8ms/step - loss: 1.0890 - mse: 1.0890\n",
      "Epoch 216/300\n",
      "1/1 [==============================] - 0s 5ms/step - loss: 1.0887 - mse: 1.0887\n",
      "Epoch 217/300\n",
      "1/1 [==============================] - 0s 6ms/step - loss: 1.0885 - mse: 1.0885\n",
      "Epoch 218/300\n",
      "1/1 [==============================] - 0s 8ms/step - loss: 1.0882 - mse: 1.0882\n",
      "Epoch 219/300\n",
      "1/1 [==============================] - 0s 8ms/step - loss: 1.0880 - mse: 1.0880\n",
      "Epoch 220/300\n",
      "1/1 [==============================] - 0s 5ms/step - loss: 1.0878 - mse: 1.0878\n",
      "Epoch 221/300\n",
      "1/1 [==============================] - 0s 4ms/step - loss: 1.0876 - mse: 1.0876\n",
      "Epoch 222/300\n",
      "1/1 [==============================] - 0s 5ms/step - loss: 1.0873 - mse: 1.0873\n",
      "Epoch 223/300\n",
      "1/1 [==============================] - 0s 4ms/step - loss: 1.0871 - mse: 1.0871\n",
      "Epoch 224/300\n",
      "1/1 [==============================] - 0s 37ms/step - loss: 1.0869 - mse: 1.0869\n",
      "Epoch 225/300\n",
      "1/1 [==============================] - 0s 26ms/step - loss: 1.0867 - mse: 1.0867\n",
      "Epoch 226/300\n",
      "1/1 [==============================] - 0s 4ms/step - loss: 1.0864 - mse: 1.0864\n",
      "Epoch 227/300\n",
      "1/1 [==============================] - 0s 4ms/step - loss: 1.0862 - mse: 1.0862\n",
      "Epoch 228/300\n",
      "1/1 [==============================] - 0s 33ms/step - loss: 1.0860 - mse: 1.0860\n",
      "Epoch 229/300\n",
      "1/1 [==============================] - 0s 45ms/step - loss: 1.0858 - mse: 1.0858\n",
      "Epoch 230/300\n",
      "1/1 [==============================] - 0s 8ms/step - loss: 1.0856 - mse: 1.0856\n",
      "Epoch 231/300\n",
      "1/1 [==============================] - 0s 7ms/step - loss: 1.0854 - mse: 1.0854\n",
      "Epoch 232/300\n",
      "1/1 [==============================] - 0s 13ms/step - loss: 1.0852 - mse: 1.0852\n",
      "Epoch 233/300\n",
      "1/1 [==============================] - 0s 4ms/step - loss: 1.0850 - mse: 1.0850\n",
      "Epoch 234/300\n",
      "1/1 [==============================] - 0s 4ms/step - loss: 1.0848 - mse: 1.0848\n",
      "Epoch 235/300\n",
      "1/1 [==============================] - 0s 5ms/step - loss: 1.0845 - mse: 1.0845\n",
      "Epoch 236/300\n",
      "1/1 [==============================] - 0s 8ms/step - loss: 1.0843 - mse: 1.0843\n",
      "Epoch 237/300\n",
      "1/1 [==============================] - 0s 6ms/step - loss: 1.0841 - mse: 1.0841\n",
      "Epoch 238/300\n",
      "1/1 [==============================] - 0s 8ms/step - loss: 1.0839 - mse: 1.0839\n",
      "Epoch 239/300\n",
      "1/1 [==============================] - 0s 12ms/step - loss: 1.0837 - mse: 1.0837\n",
      "Epoch 240/300\n",
      "1/1 [==============================] - 0s 4ms/step - loss: 1.0835 - mse: 1.0835\n",
      "Epoch 241/300\n",
      "1/1 [==============================] - 0s 8ms/step - loss: 1.0834 - mse: 1.0834\n",
      "Epoch 242/300\n",
      "1/1 [==============================] - 0s 5ms/step - loss: 1.0832 - mse: 1.0832\n",
      "Epoch 243/300\n",
      "1/1 [==============================] - 0s 4ms/step - loss: 1.0830 - mse: 1.0830\n",
      "Epoch 244/300\n",
      "1/1 [==============================] - 0s 4ms/step - loss: 1.0828 - mse: 1.0828\n",
      "Epoch 245/300\n",
      "1/1 [==============================] - 0s 9ms/step - loss: 1.0826 - mse: 1.0826\n",
      "Epoch 246/300\n",
      "1/1 [==============================] - 0s 11ms/step - loss: 1.0824 - mse: 1.0824\n",
      "Epoch 247/300\n",
      "1/1 [==============================] - 0s 7ms/step - loss: 1.0822 - mse: 1.0822\n",
      "Epoch 248/300\n",
      "1/1 [==============================] - 0s 7ms/step - loss: 1.0820 - mse: 1.0820\n",
      "Epoch 249/300\n",
      "1/1 [==============================] - 0s 7ms/step - loss: 1.0819 - mse: 1.0819\n",
      "Epoch 250/300\n",
      "1/1 [==============================] - 0s 9ms/step - loss: 1.0817 - mse: 1.0817\n",
      "Epoch 251/300\n",
      "1/1 [==============================] - 0s 7ms/step - loss: 1.0815 - mse: 1.0815\n",
      "Epoch 252/300\n",
      "1/1 [==============================] - 0s 10ms/step - loss: 1.0813 - mse: 1.0813\n",
      "Epoch 253/300\n",
      "1/1 [==============================] - 0s 16ms/step - loss: 1.0811 - mse: 1.0811\n",
      "Epoch 254/300\n",
      "1/1 [==============================] - 0s 14ms/step - loss: 1.0810 - mse: 1.0810\n",
      "Epoch 255/300\n",
      "1/1 [==============================] - 0s 7ms/step - loss: 1.0808 - mse: 1.0808\n",
      "Epoch 256/300\n",
      "1/1 [==============================] - 0s 9ms/step - loss: 1.0806 - mse: 1.0806\n",
      "Epoch 257/300\n",
      "1/1 [==============================] - 0s 7ms/step - loss: 1.0805 - mse: 1.0805\n",
      "Epoch 258/300\n",
      "1/1 [==============================] - 0s 10ms/step - loss: 1.0803 - mse: 1.0803\n",
      "Epoch 259/300\n",
      "1/1 [==============================] - 0s 4ms/step - loss: 1.0801 - mse: 1.0801\n",
      "Epoch 260/300\n",
      "1/1 [==============================] - 0s 4ms/step - loss: 1.0800 - mse: 1.0800\n",
      "Epoch 261/300\n",
      "1/1 [==============================] - 0s 4ms/step - loss: 1.0798 - mse: 1.0798\n",
      "Epoch 262/300\n",
      "1/1 [==============================] - 0s 4ms/step - loss: 1.0796 - mse: 1.0796\n",
      "Epoch 263/300\n",
      "1/1 [==============================] - 0s 18ms/step - loss: 1.0795 - mse: 1.0795\n",
      "Epoch 264/300\n",
      "1/1 [==============================] - 0s 3ms/step - loss: 1.0793 - mse: 1.0793\n",
      "Epoch 265/300\n",
      "1/1 [==============================] - 0s 4ms/step - loss: 1.0791 - mse: 1.0791\n",
      "Epoch 266/300\n",
      "1/1 [==============================] - 0s 3ms/step - loss: 1.0790 - mse: 1.0790\n",
      "Epoch 267/300\n",
      "1/1 [==============================] - 0s 4ms/step - loss: 1.0788 - mse: 1.0788\n",
      "Epoch 268/300\n",
      "1/1 [==============================] - 0s 4ms/step - loss: 1.0787 - mse: 1.0787\n",
      "Epoch 269/300\n",
      "1/1 [==============================] - 0s 4ms/step - loss: 1.0785 - mse: 1.0785\n",
      "Epoch 270/300\n",
      "1/1 [==============================] - 0s 5ms/step - loss: 1.0784 - mse: 1.0784\n",
      "Epoch 271/300\n",
      "1/1 [==============================] - 0s 6ms/step - loss: 1.0782 - mse: 1.0782\n",
      "Epoch 272/300\n",
      "1/1 [==============================] - 0s 10ms/step - loss: 1.0781 - mse: 1.0781\n",
      "Epoch 273/300\n",
      "1/1 [==============================] - 0s 11ms/step - loss: 1.0779 - mse: 1.0779\n",
      "Epoch 274/300\n",
      "1/1 [==============================] - 0s 9ms/step - loss: 1.0778 - mse: 1.0778\n",
      "Epoch 275/300\n",
      "1/1 [==============================] - 0s 4ms/step - loss: 1.0776 - mse: 1.0776\n",
      "Epoch 276/300\n",
      "1/1 [==============================] - 0s 4ms/step - loss: 1.0775 - mse: 1.0775\n",
      "Epoch 277/300\n",
      "1/1 [==============================] - 0s 4ms/step - loss: 1.0773 - mse: 1.0773\n",
      "Epoch 278/300\n",
      "1/1 [==============================] - 0s 4ms/step - loss: 1.0772 - mse: 1.0772\n",
      "Epoch 279/300\n",
      "1/1 [==============================] - 0s 3ms/step - loss: 1.0770 - mse: 1.0770\n",
      "Epoch 280/300\n",
      "1/1 [==============================] - 0s 3ms/step - loss: 1.0769 - mse: 1.0769\n",
      "Epoch 281/300\n",
      "1/1 [==============================] - 0s 3ms/step - loss: 1.0768 - mse: 1.0768\n",
      "Epoch 282/300\n",
      "1/1 [==============================] - 0s 4ms/step - loss: 1.0766 - mse: 1.0766\n",
      "Epoch 283/300\n",
      "1/1 [==============================] - 0s 4ms/step - loss: 1.0765 - mse: 1.0765\n",
      "Epoch 284/300\n",
      "1/1 [==============================] - 0s 4ms/step - loss: 1.0764 - mse: 1.0764\n",
      "Epoch 285/300\n",
      "1/1 [==============================] - 0s 5ms/step - loss: 1.0762 - mse: 1.0762\n",
      "Epoch 286/300\n",
      "1/1 [==============================] - 0s 5ms/step - loss: 1.0761 - mse: 1.0761\n",
      "Epoch 287/300\n",
      "1/1 [==============================] - 0s 4ms/step - loss: 1.0760 - mse: 1.0760\n",
      "Epoch 288/300\n",
      "1/1 [==============================] - 0s 10ms/step - loss: 1.0758 - mse: 1.0758\n",
      "Epoch 289/300\n",
      "1/1 [==============================] - 0s 44ms/step - loss: 1.0757 - mse: 1.0757\n",
      "Epoch 290/300\n",
      "1/1 [==============================] - 0s 5ms/step - loss: 1.0756 - mse: 1.0756\n",
      "Epoch 291/300\n",
      "1/1 [==============================] - 0s 4ms/step - loss: 1.0754 - mse: 1.0754\n",
      "Epoch 292/300\n",
      "1/1 [==============================] - 0s 4ms/step - loss: 1.0753 - mse: 1.0753\n",
      "Epoch 293/300\n",
      "1/1 [==============================] - 0s 4ms/step - loss: 1.0752 - mse: 1.0752\n",
      "Epoch 294/300\n",
      "1/1 [==============================] - 0s 7ms/step - loss: 1.0751 - mse: 1.0751\n",
      "Epoch 295/300\n",
      "1/1 [==============================] - 0s 3ms/step - loss: 1.0749 - mse: 1.0749\n",
      "Epoch 296/300\n",
      "1/1 [==============================] - 0s 6ms/step - loss: 1.0748 - mse: 1.0748\n",
      "Epoch 297/300\n",
      "1/1 [==============================] - 0s 4ms/step - loss: 1.0747 - mse: 1.0747\n",
      "Epoch 298/300\n",
      "1/1 [==============================] - 0s 4ms/step - loss: 1.0746 - mse: 1.0746\n",
      "Epoch 299/300\n",
      "1/1 [==============================] - 0s 7ms/step - loss: 1.0744 - mse: 1.0744\n",
      "Epoch 300/300\n",
      "1/1 [==============================] - 0s 4ms/step - loss: 1.0743 - mse: 1.0743\n"
     ]
    },
    {
     "data": {
      "text/plain": [
       "<keras.callbacks.History at 0x20bdab9f5e0>"
      ]
     },
     "execution_count": 14,
     "metadata": {},
     "output_type": "execute_result"
    }
   ],
   "source": [
    "X = [1,2,3,4,5,6,7,8,9] # 공부하는 시간\n",
    "y = [11,22,33,44,53,66,77,87,95] # 각 공부하는 시간에 매핑되는 성적\n",
    "\n",
    "model = Sequential()\n",
    "\n",
    "# 출력 y의 차원은 1. 입력 x의 차원(input_dim)은 1이다\n",
    "# 선형회귀를 구현할 것이므로 activation(활성화 함수라고도)구현하려는\n",
    "# 함수를 의미한다.\n",
    "\n",
    "model.add(Dense(1, input_dim=1, activation='linear'))\n",
    "\n",
    "# sgd는 경사 하강법을 의미. 학습률(Learing_rate, 이하 lr)은 0.01\n",
    "sgd = optimizers.SGD(lr=0.01)\n",
    "\n",
    "# 손실함수(loss function)은 평균제곱오차 mse를 사용한다.\n",
    "model.compile(optimizer=sgd, loss='mse', metrics=['mse'])\n",
    "\n",
    "# 주어진 x와 y데이터에 대해서 오차를 최소화하는 작업을 300번 시도해보자.\n",
    "model.fit(X,y, epochs=300)"
   ]
  },
  {
   "cell_type": "code",
   "execution_count": 15,
   "metadata": {
    "id": "u9RQpXYpn3ic",
    "pycharm": {
     "name": "#%%\n"
    }
   },
   "outputs": [
    {
     "name": "stdout",
     "output_type": "stream",
     "text": [
      "1/1 [==============================] - 0s 53ms/step\n"
     ]
    },
    {
     "data": {
      "text/plain": [
       "[<matplotlib.lines.Line2D at 0x20bd8edaa00>,\n",
       " <matplotlib.lines.Line2D at 0x20bd8eda820>]"
      ]
     },
     "execution_count": 15,
     "metadata": {},
     "output_type": "execute_result"
    },
    {
     "data": {
      "image/png": "[encoded data removed]",
      "text/plain": [
       "<Figure size 432x288 with 1 Axes>"
      ]
     },
     "metadata": {
      "needs_background": "light"
     },
     "output_type": "display_data"
    }
   ],
   "source": [
    "plt.plot(X, model.predict(X), 'b', X,y, 'k.')"
   ]
  },
  {
   "cell_type": "code",
   "execution_count": 16,
   "metadata": {
    "id": "nMnXIKdn28iH",
    "pycharm": {
     "name": "#%%\n"
    }
   },
   "outputs": [],
   "source": [
    "# end of files"
   ]
  }
 ],
 "metadata": {
  "colab": {
   "collapsed_sections": [],
   "name": "5)-1_케라스로_선형회귀_실습.ipynb",
   "private_outputs": true,
   "provenance": []
  },
  "kernelspec": {
   "display_name": "Python 3 (ipykernel)",
   "language": "python",
   "name": "python3"
  },
  "language_info": {
   "codemirror_mode": {
    "name": "ipython",
    "version": 3
   },
   "file_extension": ".py",
   "mimetype": "text/x-python",
   "name": "python",
   "nbconvert_exporter": "python",
   "pygments_lexer": "ipython3",
   "version": "3.9.7"
  }
 },
 "nbformat": 4,
 "nbformat_minor": 1
}
