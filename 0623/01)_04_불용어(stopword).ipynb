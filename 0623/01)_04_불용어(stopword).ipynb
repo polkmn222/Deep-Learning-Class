{
  "nbformat": 4,
  "nbformat_minor": 0,
  "metadata": {
    "colab": {
      "name": "01)-04 불용어(stopword).ipynb",
      "provenance": []
    },
    "kernelspec": {
      "name": "python3",
      "display_name": "Python 3"
    },
    "language_info": {
      "name": "python"
    }
  },
  "cells": [
    {
      "cell_type": "code",
      "source": [
        "!pip install konlpy"
      ],
      "metadata": {
        "colab": {
          "base_uri": "https://localhost:8080/"
        },
        "id": "fclqEAWoRSE7",
        "outputId": "b0257c62-362b-4b59-c535-16a045089bbb"
      },
      "execution_count": 3,
      "outputs": [
        {
          "output_type": "stream",
          "name": "stdout",
          "text": [
            "Looking in indexes: https://pypi.org/simple, https://us-python.pkg.dev/colab-wheels/public/simple/\n",
            "Collecting konlpy\n",
            "  Downloading konlpy-0.6.0-py2.py3-none-any.whl (19.4 MB)\n",
            "\u001b[K     |████████████████████████████████| 19.4 MB 6.0 MB/s \n",
            "\u001b[?25hRequirement already satisfied: lxml>=4.1.0 in /usr/local/lib/python3.7/dist-packages (from konlpy) (4.2.6)\n",
            "Collecting JPype1>=0.7.0\n",
            "  Downloading JPype1-1.4.0-cp37-cp37m-manylinux_2_5_x86_64.manylinux1_x86_64.whl (453 kB)\n",
            "\u001b[K     |████████████████████████████████| 453 kB 64.7 MB/s \n",
            "\u001b[?25hRequirement already satisfied: numpy>=1.6 in /usr/local/lib/python3.7/dist-packages (from konlpy) (1.21.6)\n",
            "Requirement already satisfied: typing-extensions in /usr/local/lib/python3.7/dist-packages (from JPype1>=0.7.0->konlpy) (4.1.1)\n",
            "Installing collected packages: JPype1, konlpy\n",
            "Successfully installed JPype1-1.4.0 konlpy-0.6.0\n"
          ]
        }
      ]
    },
    {
      "cell_type": "code",
      "source": [
        "import nltk\n",
        "nltk.download('stopwords')"
      ],
      "metadata": {
        "colab": {
          "base_uri": "https://localhost:8080/"
        },
        "id": "aWmBz34QRmTL",
        "outputId": "4530df67-425f-4b4c-877a-701efbb876e4"
      },
      "execution_count": 6,
      "outputs": [
        {
          "output_type": "stream",
          "name": "stderr",
          "text": [
            "[nltk_data] Downloading package stopwords to /root/nltk_data...\n",
            "[nltk_data]   Unzipping corpora/stopwords.zip.\n"
          ]
        },
        {
          "output_type": "execute_result",
          "data": {
            "text/plain": [
              "True"
            ]
          },
          "metadata": {},
          "execution_count": 6
        }
      ]
    },
    {
      "cell_type": "code",
      "source": [
        "import nltk\n",
        "nltk.download('punkt')"
      ],
      "metadata": {
        "colab": {
          "base_uri": "https://localhost:8080/"
        },
        "id": "OhfHnjPESq6V",
        "outputId": "8746ca67-e212-4d12-d970-057094404dc1"
      },
      "execution_count": 14,
      "outputs": [
        {
          "output_type": "stream",
          "name": "stderr",
          "text": [
            "[nltk_data] Downloading package punkt to /root/nltk_data...\n",
            "[nltk_data]   Unzipping tokenizers/punkt.zip.\n"
          ]
        },
        {
          "output_type": "execute_result",
          "data": {
            "text/plain": [
              "True"
            ]
          },
          "metadata": {},
          "execution_count": 14
        }
      ]
    },
    {
      "cell_type": "code",
      "execution_count": 4,
      "metadata": {
        "id": "jmZhvkAeQnSC"
      },
      "outputs": [],
      "source": [
        "from nltk.corpus import stopwords\n",
        "from nltk.tokenize import word_tokenize\n",
        "from konlpy.tag import Okt"
      ]
    },
    {
      "cell_type": "code",
      "source": [
        "## nltk에서 불용어를 확인해본다.\n",
        "stop_words_list = stopwords.words('english')\n",
        "print('영어의 불용어 개수:', len(stop_words_list))\n",
        "stop_words_list[:10]"
      ],
      "metadata": {
        "colab": {
          "base_uri": "https://localhost:8080/"
        },
        "id": "aPjRMyE_RXMi",
        "outputId": "61a9f954-b76e-489c-9a13-8acf0485d8a2"
      },
      "execution_count": 8,
      "outputs": [
        {
          "output_type": "stream",
          "name": "stdout",
          "text": [
            "영어의 불용어 개수: 179\n"
          ]
        },
        {
          "output_type": "execute_result",
          "data": {
            "text/plain": [
              "['i', 'me', 'my', 'myself', 'we', 'our', 'ours', 'ourselves', 'you', \"you're\"]"
            ]
          },
          "metadata": {},
          "execution_count": 8
        }
      ]
    },
    {
      "cell_type": "code",
      "source": [
        "### 2. nltk를 통해 불용어 제거\n",
        "\n",
        "example = \"Family is not important thing. It's everything.\"\n",
        "stop_words = set(stopwords.words('english'))\n",
        "\n",
        "word_tokens = word_tokenize(example)\n",
        "\n",
        "result = []\n",
        "for word in word_tokens:\n",
        "  if word not in stop_words:\n",
        "    result.append(word)"
      ],
      "metadata": {
        "id": "mD6EzNQQRpBD"
      },
      "execution_count": 17,
      "outputs": []
    },
    {
      "cell_type": "code",
      "source": [
        "print('불용어 제거 전:', word_tokens)\n",
        "print('불용어 제거 후:', result)"
      ],
      "metadata": {
        "colab": {
          "base_uri": "https://localhost:8080/"
        },
        "id": "0Rs_yA1pTBMr",
        "outputId": "ca3da857-d218-488e-8602-0252257bc5e0"
      },
      "execution_count": 18,
      "outputs": [
        {
          "output_type": "stream",
          "name": "stdout",
          "text": [
            "불용어 제거 전: ['Family', 'is', 'not', 'important', 'thing', '.', 'It', \"'s\", 'everything', '.']\n",
            "불용어 제거 후: ['Family', 'important', 'thing', '.', 'It', \"'s\", 'everything', '.']\n"
          ]
        }
      ]
    },
    {
      "cell_type": "code",
      "source": [
        "### 3. 한국어 불용어 제거\n",
        "\n",
        "from konlpy.tag import Okt\n",
        "okt = Okt()\n",
        "\n",
        "example = '꼼장어는 아무렇게나 구우면 안돼. 고기라고 다 같은 게 아니거든. 예건데 꼼장어는 구울 때 기억해야 할 것이 있지.'\n",
        "stop_words_korean = '는 아무렇게나 구우면 안돼 다 거든'\n",
        "\n",
        "stop_words_korean = set(stop_words_korean.split(' '))\n",
        "stop_words_korean\n",
        "\n",
        "## okt를 활용해서 형태소 분석 및 토큰화 작업\n",
        "word_tokens1 = okt.morphs(example)\n",
        "\n",
        "result = [word for word in word_tokens1 if not word in stop_words_korean]"
      ],
      "metadata": {
        "id": "7LSOSkT-TMdM"
      },
      "execution_count": 23,
      "outputs": []
    },
    {
      "cell_type": "code",
      "source": [
        "print('불용어 제거 전:', word_tokens1)\n",
        "print('불용어 제거 후:', result)"
      ],
      "metadata": {
        "colab": {
          "base_uri": "https://localhost:8080/"
        },
        "id": "IkM85GGuUkHs",
        "outputId": "497c482b-ac75-4c48-9c64-3022019b28aa"
      },
      "execution_count": 24,
      "outputs": [
        {
          "output_type": "stream",
          "name": "stdout",
          "text": [
            "불용어 제거 전: ['꼼장어', '는', '아무렇게나', '구우', '면', '안', '돼', '.', '고기', '라고', '다', '같은', '게', '아니거든', '.', '예', '건데', '꼼장어', '는', '구울', '때', '기억', '해야', '할', '것', '이', '있지', '.']\n",
            "불용어 제거 후: ['꼼장어', '구우', '면', '안', '돼', '.', '고기', '라고', '같은', '게', '아니거든', '.', '예', '건데', '꼼장어', '구울', '때', '기억', '해야', '할', '것', '이', '있지', '.']\n"
          ]
        }
      ]
    },
    {
      "cell_type": "code",
      "source": [
        "# end of files"
      ],
      "metadata": {
        "id": "woVkI-JUU6GE"
      },
      "execution_count": 25,
      "outputs": []
    }
  ]
}