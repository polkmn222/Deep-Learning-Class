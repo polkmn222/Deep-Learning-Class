{
  "nbformat": 4,
  "nbformat_minor": 0,
  "metadata": {
    "colab": {
      "name": "01)-02_정제 및 정규화.ipynb",
      "provenance": []
    },
    "kernelspec": {
      "name": "python3",
      "display_name": "Python 3"
    },
    "language_info": {
      "name": "python"
    }
  },
  "cells": [
    {
      "cell_type": "markdown",
      "source": [
        "에디가 책을 읽었다"
      ],
      "metadata": {
        "id": "WcnXO2xOBEeO"
      }
    },
    {
      "cell_type": "markdown",
      "source": [
        "자립형태소 :: 에디, 책 (noun)\n",
        "\n",
        "의존형태소 :: 가, 을(josa) 읽다."
      ],
      "metadata": {
        "id": "oB926xvKBmnY"
      }
    },
    {
      "cell_type": "markdown",
      "source": [
        "I was sitting in my 11st grade world world history when ms. taylor announced a ne project..."
      ],
      "metadata": {
        "id": "sOHLV-vhByvC"
      }
    },
    {
      "cell_type": "markdown",
      "source": [
        "여러분과 제가 만난지 벌써 2달이 되어갑니다. 너무 아쉽고 감사합니다. 마지막까지 화이팅 하시죠."
      ],
      "metadata": {
        "id": "whMPMiqqCFC-"
      }
    },
    {
      "cell_type": "markdown",
      "source": [
        "##### * 정제(cleaning) : 갖고 있는 corpus(말뭉치)로부터 노이즈 데이터를 제거\n",
        "\n",
        "##### * 정규화(normalization) : 표현 방법이 다른 단어들을 통합시켜 같은 형태로 변환"
      ],
      "metadata": {
        "id": "eGk3yamnCKfG"
      }
    },
    {
      "cell_type": "markdown",
      "source": [
        "1) 규칙에 기반한 표기로 단어들을 통합\n",
        "\n",
        "2) 대문자를 소문자로 전부 변환 후 통합\n",
        "\n",
        "3) 불필요 단어들을 제거 - \n",
        "\n",
        "    (1) 등장 빈도가 적은 단어\n",
        "\n",
        "    (2) 길이가 짧은 단어 :: 영어권 - stopword(불용어)"
      ],
      "metadata": {
        "id": "_gwuMoeECzPv"
      }
    },
    {
      "cell_type": "code",
      "source": [
        "### 정규표현식 re :: Reqular Expression\n",
        "\n",
        "import re\n",
        "text = 'I was wondering if anyone out there could enlight me on this car'\n",
        "## 길이가 1~2인 단어들을 제거 by using RE\n",
        "shortword = re.compile(r'\\\\W*\\\\b\\\\w{1,2}\\\\b')\n",
        "shortword.sub('', text)"
      ],
      "metadata": {
        "colab": {
          "base_uri": "https://localhost:8080/",
          "height": 35
        },
        "id": "q2cTUX1dEDq4",
        "outputId": "dbcfa6b4-2b3b-49c5-9b45-a61caf846b32"
      },
      "execution_count": 10,
      "outputs": [
        {
          "output_type": "execute_result",
          "data": {
            "text/plain": [
              "'I was wondering if anyone out there could enlight me on this car'"
            ],
            "application/vnd.google.colaboratory.intrinsic+json": {
              "type": "string"
            }
          },
          "metadata": {},
          "execution_count": 10
        }
      ]
    },
    {
      "cell_type": "code",
      "source": [
        "# end of files"
      ],
      "metadata": {
        "id": "HJL54dZ9ELfn"
      },
      "execution_count": 8,
      "outputs": []
    }
  ]
}