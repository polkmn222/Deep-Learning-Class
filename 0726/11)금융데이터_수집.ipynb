{
  "nbformat": 4,
  "nbformat_minor": 0,
  "metadata": {
    "colab": {
      "name": "11)금융데이터 수집.ipynb",
      "private_outputs": true,
      "provenance": [],
      "collapsed_sections": []
    },
    "kernelspec": {
      "name": "python3",
      "display_name": "Python 3"
    },
    "language_info": {
      "name": "python"
    }
  },
  "cells": [
    {
      "cell_type": "markdown",
      "source": [
        "### CSV 파일읽기"
      ],
      "metadata": {
        "id": "1zhoqpDb4NSN"
      }
    },
    {
      "cell_type": "code",
      "execution_count": null,
      "metadata": {
        "id": "90_pijQomM6J"
      },
      "outputs": [],
      "source": [
        "import pandas as pd\n",
        "import numpy as np\n",
        "import matplotlib.pyplot as plt\n",
        "%matplotlib inline"
      ]
    },
    {
      "cell_type": "code",
      "source": [
        "df_exchanges = pd.read_csv('/content/drive/MyDrive/Colab Notebooks/98_crawling_scraping/DEXKOUS.csv')"
      ],
      "metadata": {
        "id": "EonyueFosTg3"
      },
      "execution_count": null,
      "outputs": []
    },
    {
      "cell_type": "markdown",
      "source": [
        "|키워드 매개변수(params)|설명|\n",
        "|-----|-----|\n",
        "|encoding|파일의 인코딩을 지정한다|\n",
        "|header|헤더로 사용할 줄 번호(0부터 시작)을 지정, 이전의 줄은 무시, None값을 plug-in 하면 가장 윗 row부터 counting|\n",
        "|names|column names 지정|\n",
        "|skipinitialspace|True라면 쉼표 뒤의 공백 무시|\n",
        "|index_col|인덱스로 사용할 열의 번호 지정|\n",
        "|parse_dates|True로 지정시 인덱스에 사용한 열이 날짜일 경우 파싱시도, 날짜형식은 알아서 추출|\n",
        "|date_parser|날짜를 파싱할 함수를 지정|\n",
        "|na_values|NaN으로 간주할 문자열 목록 지정|"
      ],
      "metadata": {
        "id": "44OoXMTryipH"
      }
    },
    {
      "cell_type": "markdown",
      "source": [
        "#### 엑셀 파일 읽기\n"
      ],
      "metadata": {
        "id": "4zqS3rehy1U2"
      }
    },
    {
      "cell_type": "markdown",
      "source": [
        "경제 활동 인구 총괄 엑셀 파일을 다운로드하고, 다운로드 이후의 실업률을 추출해보자. 엑셀의 종류는 크게 2가지로 존재한다.\n",
        "\n",
        "    * 엑셀 03 버전 이전의 .xls 파일\n",
        "\n",
        "    * 엑셀 07 이후부터의 표준화된 .xlsx 파일(오피스 오픈 XML로 표준화된 오픈 형식)"
      ],
      "metadata": {
        "id": "MR_5ovAn4ozI"
      }
    },
    {
      "cell_type": "markdown",
      "source": [
        "pandas에서 pd.read_excel()을 활용할 수 있으나, 파이썬으로 엑셀을 읽는 라이브러리로는 xlrd가 유명하다. \n",
        "\n",
        "pandas의 pd.read_excel()함수 또한 xlrd를 활용하지만, xlrd 패키지가 설치된 상태가 아니므로 활용을 원한다면 pip install xlrd를 통해 설치 후 활용하면 된다."
      ],
      "metadata": {
        "id": "KTFX4tTk_1RZ"
      }
    },
    {
      "cell_type": "code",
      "source": [
        "!pip install xlrd"
      ],
      "metadata": {
        "id": "M6DAGRSTAjNB"
      },
      "execution_count": null,
      "outputs": []
    },
    {
      "cell_type": "code",
      "source": [
        "## kosis 데이터 참고 링크\n",
        "# 주제별 통계[고용, 노동, 임금]\n",
        "# [고용] -> [경제활동인구조사] -> [경제활동인구총괄(구직기간 1주기준, 63년~2014년 12월)]\n",
        "# -> [연령별 경제활동인구 총괄(구직기간 1주 기준)]을 클릭\n",
        "\n",
        "# https://kosis.kr/statHtml/statHtml.do?orgId=101&tblId=DT_1D07002S&vw_cd=MT_ZTITLE&list_id=B13&scrId=&seqNo=&lang_mode=ko&obj_var_id=&itm_id=&conn_path=MT_ZTITLE&path=%252FstatisticsList%252FstatisticsListIndex.do"
      ],
      "metadata": {
        "id": "MOApIhvwA8r7"
      },
      "execution_count": null,
      "outputs": []
    },
    {
      "cell_type": "code",
      "source": [
        "import pandas as pd\n",
        "df_jobs = pd.read_excel('/content/drive/MyDrive/Colab Notebooks/98_crawling_scraping/guzik.xlsx')"
      ],
      "metadata": {
        "id": "oTCwC7RjDwKa"
      },
      "execution_count": null,
      "outputs": []
    },
    {
      "cell_type": "code",
      "source": [
        "df_jobs.head(10)"
      ],
      "metadata": {
        "id": "8R7WT3mgGoYg"
      },
      "execution_count": null,
      "outputs": []
    },
    {
      "cell_type": "code",
      "source": [
        "## 가장 위의 header를 첫번째 행의 값과 교환\n",
        "# header를 변경\n",
        "\n",
        "# df에 존재하는 컬럼들을\n",
        "# 변수에 할당\n",
        "df_jobs_col = df_jobs.columns\n",
        "df_jobs_col"
      ],
      "metadata": {
        "id": "mT5SiaDl-KhN"
      },
      "execution_count": null,
      "outputs": []
    },
    {
      "cell_type": "code",
      "source": [
        "\n",
        "df_jobs.rename(columns = df_jobs.iloc[0], inplace = True)\n",
        "df_jobs"
      ],
      "metadata": {
        "id": "CMe3L_H8CuNA"
      },
      "execution_count": null,
      "outputs": []
    },
    {
      "cell_type": "code",
      "source": [
        "# 행과 열의 위치를 바꾸는 방법은 transpose도 있지만\n",
        "# stack 함수 또한 존재합니다. # 결과는 series \n",
        "# 2030 세대의 실업률을 보고 싶다면?\n",
        "\n",
        "df_jobs.loc[1] = df_jobs_col\n",
        "df_jobs_renewal = df_jobs[1:].copy()"
      ],
      "metadata": {
        "id": "7EHGsBPWFPXC"
      },
      "execution_count": null,
      "outputs": []
    },
    {
      "cell_type": "code",
      "source": [
        "df_jobs_renewal = df_jobs_renewal.reset_index(drop = True)"
      ],
      "metadata": {
        "id": "oY-7NdddNNH4"
      },
      "execution_count": null,
      "outputs": []
    },
    {
      "cell_type": "code",
      "source": [
        "# 결과는 series이며 \n",
        "# 2030세대를 보고 싶다면\n",
        "# 아래의 인덱싱을 2와 3의 고정값으로 지정해주어야 한다\n",
        "df_jobs_renewal_20s = df_jobs_renewal.stack()[2]\n",
        "df_jobs_renewal_30s = df_jobs_renewal.stack()[3]"
      ],
      "metadata": {
        "id": "1mp1UsRfREAW"
      },
      "execution_count": null,
      "outputs": []
    },
    {
      "cell_type": "markdown",
      "source": [
        "## Read한 데이터 기반의 Graph 작성"
      ],
      "metadata": {
        "id": "22EyMhHAOsDK"
      }
    },
    {
      "cell_type": "code",
      "source": [
        "df_jobs_renewal_20s"
      ],
      "metadata": {
        "id": "a-guryeFy5HY"
      },
      "execution_count": null,
      "outputs": []
    },
    {
      "cell_type": "code",
      "source": [
        "# History Data\n",
        "\n",
        "from datetime import datetime\n",
        "import pandas as pd\n",
        "\n",
        "import matplotlib\n",
        "matplotlib.rcParams['font.sans-serif'] = 'NanumGothic,AppleGothic'\n",
        "import matplotlib.pyplot as plt\n",
        "\n",
        "\n",
        "#1981~2014 사이의 환율 및 고용률 출력\n",
        "# Read Exchange Info\n",
        "df_exchange = pd.read_csv('/content/drive/MyDrive/Colab Notebooks/98_crawling_scraping/DEXKOUS.csv',\n",
        "                          header=1, names=['DATE','DEXKOUS'], skipinitialspace=True, index_col=0)\n",
        "\n",
        "df_exchange"
      ],
      "metadata": {
        "id": "m8Lt6yjosI_i"
      },
      "execution_count": null,
      "outputs": []
    },
    {
      "cell_type": "code",
      "source": [
        "# 위의 데이터를 년도로만 축약된 데이터로 표현\n",
        "\n",
        "years = {}\n",
        "output = []\n",
        "\n",
        "for index in df_exchange.index:\n",
        "    year = int(index.split('-')[0])\n",
        "    if (year not in years) and (1981 < year < 2014):\n",
        "        if df_exchange.DEXKOUS[index] != \".\":\n",
        "            years[year] = True\n",
        "            output.append([year, float(df_exchange.DEXKOUS[index])])\n",
        "\n",
        "df_exchange_pre = pd.DataFrame(output)"
      ],
      "metadata": {
        "id": "FFAe3d_LuPNZ"
      },
      "execution_count": null,
      "outputs": []
    },
    {
      "cell_type": "code",
      "source": [
        "## 고용률 통계 구하기\n",
        "df_jobs = pd.read_excel('/content/drive/MyDrive/Colab Notebooks/98_crawling_scraping/guzik.xlsx')\n",
        "result_jobs = []\n",
        "\n",
        "# stack을 통한 행//열 전환\n",
        "# 20대의 데이터 통계 확인\n",
        "df_jobs_pre = df_jobs.stack()[3]\n",
        "\n",
        "for index in df_jobs_pre.index:\n",
        "    try:\n",
        "        if 1981 <= int(index) <= 2014:\n",
        "            result_jobs.append([int(index), float(df_jobs_pre[index])])\n",
        "\n",
        "    except:\n",
        "        pass\n",
        "\n",
        "s_jobs = pd.DataFrame(result_jobs)"
      ],
      "metadata": {
        "id": "7NCrLELJBC_M"
      },
      "execution_count": null,
      "outputs": []
    },
    {
      "cell_type": "code",
      "source": [
        "# 그래프 작성\n",
        "plt.subplot(2,1,1) \n",
        "plt.plot(df_exchange_pre[0],df_exchange_pre[1], label='won/dollar')\n",
        "plt.xlim(1981,2014)\n",
        "plt.ylim(500,2500)\n",
        "plt.show()\n",
        "\n",
        "# 두번째 그래프 작성\n",
        "print(s_jobs)\n",
        "plt.subplot(2,1,2)\n",
        "plt.plot(s_jobs[0], s_jobs[1], label='Emplotment Rate(%)')\n",
        "plt.xlim(1981,2014)\n",
        "plt.ylim(5000,10000)\n",
        "plt.legend(loc = 'best')"
      ],
      "metadata": {
        "id": "YMV2Mi7RGYRF"
      },
      "execution_count": null,
      "outputs": []
    },
    {
      "cell_type": "markdown",
      "source": [
        "## OPEN API 활용"
      ],
      "metadata": {
        "id": "vzKzbrszTJEA"
      }
    },
    {
      "cell_type": "markdown",
      "source": [
        "열린 데이터(이하 Open Data)는 정부 및 지자체 등이 보유하고 있는 데이터를 공개하여 자유롭게 활용하도록 하는 것이다. \n",
        "\n",
        "미국 정부와 영국 정부는 이러한 Open Data의 선구자로 유명하며, 한국도 조금씩 Open Data가 많이 공유되고 있다. 우리나라의 대표적인 Open Data는 아래와 같다.\n"
      ],
      "metadata": {
        "id": "UpC75st2VHXg"
      }
    },
    {
      "cell_type": "markdown",
      "source": [
        "|Web Site|Description|\n",
        "|---|---|\n",
        "|공공데이터포털(https://www.data.go.kr/)|국내의 Open Data가 대부분 통합된 사이트 이다. 다양한 데이터가 공개되어 있다.|\n",
        "|서울데이터 열린광장(https://data.seoul.go.kr/)|서울에서 제공하는 Open Data이다.|\n",
        "|기상청 날씨마루(https://bd.kma.go.kr/kma2020/svc/main.do)|기상청에서 제공하는 날씨데이터이다.|"
      ],
      "metadata": {
        "id": "5DjTidQUWKCJ"
      }
    },
    {
      "cell_type": "markdown",
      "source": [
        "## * 저작권 표시 및 동일조건 변경 허락의 조건에서"
      ],
      "metadata": {
        "id": "qBTwJKl_XEuQ"
      }
    },
    {
      "cell_type": "markdown",
      "source": [
        "위의 Open Data는 모든 사람이 자유롭게 사용 및 재사용이 가능하며 재배포할 수 있는 데이터이다"
      ],
      "metadata": {
        "id": "b3o1m0TjXNyS"
      }
    },
    {
      "cell_type": "code",
      "source": [
        "# end of file"
      ],
      "metadata": {
        "id": "YV1tnnjmXTar"
      },
      "execution_count": null,
      "outputs": []
    }
  ]
}